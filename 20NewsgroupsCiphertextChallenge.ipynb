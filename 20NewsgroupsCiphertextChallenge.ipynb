{
  "nbformat": 4,
  "nbformat_minor": 0,
  "metadata": {
    "colab": {
      "name": "20NewsgroupsCiphertextChallenge.ipynb",
      "version": "0.3.2",
      "provenance": [],
      "collapsed_sections": [],
      "include_colab_link": true
    },
    "kernelspec": {
      "display_name": "Python 3",
      "language": "python",
      "name": "python3"
    }
  },
  "cells": [
    {
      "cell_type": "markdown",
      "metadata": {
        "id": "view-in-github",
        "colab_type": "text"
      },
      "source": [
        "<a href=\"https://colab.research.google.com/github/MaharshiYeluri01/20-Newsgroups-Ciphertext-Kaggke-Challenge-/blob/master/20NewsgroupsCiphertextChallenge.ipynb\" target=\"_parent\"><img src=\"https://colab.research.google.com/assets/colab-badge.svg\" alt=\"Open In Colab\"/></a>"
      ]
    },
    {
      "metadata": {
        "_uuid": "c2b778944fbb524c9722ec085985c5e142e1ecca",
        "id": "1FxIsOsLKaPi",
        "colab_type": "text"
      },
      "cell_type": "markdown",
      "source": [
        "<h1>20 Newsgroups Ciphertext Challenge</h1>\n",
        "The 20 Newsgroups data set is a collection of approximately 20,000 newsgroup documents, partitioned (nearly) evenly across 20 different newsgroups. ed some tools for cracking simple ciphers. This kernel explores the data, creates some helpful functionality for all ciphers, and applies them to cracking the first two ciphers.\n",
        "\n",
        "Each document has been encrypted with up to 4 layered ciphers (ciphers 1, 2, 3, and 4). We've used a difficulty value here to denote which ciphers were used for a particular piece of text.\n",
        "\n",
        "\n",
        "\n",
        "<h1>Encryptions</h1>\n",
        "  <p>Generrally There are two types of Encryptions </p>\n",
        "  <h2>substitution</h2>\n",
        "  It basically consists of substituting every plaintext character for a different ciphertext character. It differs from the Caesar cipher in that the cipher alphabet is not simply the alphabet shifted, it is completely jumbled.\n",
        "  \n",
        "  Keys for the simple substitution cipher usually consist of 126 Ascii (compared to the caeser cipher's single number). \n",
        "<h3>Example</h3> \n",
        "  \n",
        "  plain alphabet : abcdefghijklmnopqrstuvwxyz\n",
        "  \n",
        "cipher alphabet: phqgiumeaylnofdxjkrcvstzwb\n",
        "\n",
        "<h2>transposition</h2>\n",
        "\n",
        " It is a transposition cipher that follows a simple rule for mixing up the characters in the plaintext to form the ciphertext. \n",
        " \n",
        "<h3>Example</h3> defend the east wall of the castle\n",
        "\n",
        "We write it out in a special way on a number of rails (the key here is 3)\n",
        "\n",
        "d . . . n . . . e . . . t . . . l . . . h . . . s . . .\n",
        "\n",
        ". e . e . d . h . e . s . w . l . o . t . e . a . t . e\n",
        "\n",
        ". . f . . . t . . . a . . . a . . . f . . . c . . . l .\n",
        "\n",
        "The ciphertext is read off along the rows:\n",
        "\n",
        "dnetlhseedheswloteateftaafcl"
      ]
    },
    {
      "metadata": {
        "_uuid": "104c877cc1d1d5f531a4464ed061b9d67a11a81b",
        "id": "G9WFPT2eKaPo",
        "colab_type": "text"
      },
      "cell_type": "markdown",
      "source": [
        "### Preliminary Setup\n",
        "If not being run on a Kaggle kernel, you need to [create an API Token](https://github.com/Kaggle/kaggle-api#api-credentials), upload it, and make sure it is in the directory (usually ~/.kaggle/kaggle.json)"
      ]
    },
    {
      "metadata": {
        "id": "Q-UES8BGwvJa",
        "colab_type": "code",
        "outputId": "b517a805-6e8b-41df-f4de-9de2f35fee08",
        "colab": {
          "base_uri": "https://localhost:8080/",
          "height": 34
        }
      },
      "cell_type": "code",
      "source": [
        "!ls -lha kaggle.json\n",
        "!mkdir -p ~/.kaggle\n",
        "!cp kaggle.json ~/.kaggle/\n",
        "!chmod 600 ~/.kaggle/kaggle.json"
      ],
      "execution_count": 0,
      "outputs": [
        {
          "output_type": "stream",
          "text": [
            "-rw-r--r-- 1 root root 70 Jan 10 09:35 kaggle.json\n"
          ],
          "name": "stdout"
        }
      ]
    },
    {
      "metadata": {
        "id": "vaWLnlzmw45N",
        "colab_type": "code",
        "outputId": "87b069c9-b3b1-48dd-eb2a-2d045a970991",
        "colab": {
          "base_uri": "https://localhost:8080/",
          "height": 170
        }
      },
      "cell_type": "code",
      "source": [
        "!kaggle competitions download -c 20-newsgroups-ciphertext-challenge"
      ],
      "execution_count": 0,
      "outputs": [
        {
          "output_type": "stream",
          "text": [
            "Downloading sample_submission.csv.zip to /content\n",
            "\r  0% 0.00/556k [00:00<?, ?B/s]\n",
            "100% 556k/556k [00:00<00:00, 35.0MB/s]\n",
            "Downloading test.csv.zip to /content\n",
            " 56% 9.00M/16.2M [00:00<00:00, 23.9MB/s]\n",
            "100% 16.2M/16.2M [00:00<00:00, 36.5MB/s]\n",
            "Downloading train.csv.zip to /content\n",
            "  0% 0.00/6.98M [00:00<?, ?B/s]\n",
            "100% 6.98M/6.98M [00:00<00:00, 63.5MB/s]\n"
          ],
          "name": "stdout"
        }
      ]
    },
    {
      "metadata": {
        "id": "SHppA3LfxEqf",
        "colab_type": "code",
        "colab": {}
      },
      "cell_type": "code",
      "source": [
        "import zipfile\n",
        "zip_ref = zipfile.ZipFile(\"./test.csv.zip\", 'r')\n",
        "zip_ref.extractall('rawdata')\n",
        "zip_ref = zipfile.ZipFile(\"./train.csv.zip\", 'r')\n",
        "zip_ref.extractall('rawdata')\n",
        "zip_ref.close()"
      ],
      "execution_count": 0,
      "outputs": []
    },
    {
      "metadata": {
        "id": "WpDuEcQyxcgN",
        "colab_type": "code",
        "colab": {}
      },
      "cell_type": "code",
      "source": [
        "!pip install fuzzywuzzy\n",
        "!pip install python-Levenshtein"
      ],
      "execution_count": 0,
      "outputs": []
    },
    {
      "metadata": {
        "_cell_guid": "b1076dfc-b9ad-4769-8c92-a6c4dae69d19",
        "_kg_hide-input": true,
        "_uuid": "8f2839f25d086af736a60e9eeb907d3b93b6e0e5",
        "trusted": true,
        "id": "qyhFx86ZKaP8",
        "colab_type": "code",
        "colab": {}
      },
      "cell_type": "code",
      "source": [
        "import pandas as pd\n",
        "import numpy as np\n",
        "import matplotlib.pyplot as plt\n",
        "import os\n",
        "from fuzzywuzzy import fuzz, process\n",
        "import Levenshtein as leven\n",
        "from nltk.corpus import stopwords\n",
        "from nltk.tokenize import word_tokenize\n",
        "from nltk.stem.snowball import SnowballStemmer\n",
        "from sklearn.feature_extraction.text import CountVectorizer\n",
        "from sklearn.feature_extraction.text import TfidfVectorizer\n",
        "from sklearn.model_selection import train_test_split\n",
        "from sklearn.linear_model import SGDClassifier\n",
        "from sklearn import metrics\n",
        "from sklearn.metrics import f1_score,precision_score,recall_score\n",
        "from sklearn import svm\n",
        "from sklearn.linear_model import LogisticRegression\n",
        "import re\n",
        "import nltk\n",
        "import warnings\n",
        "from collections import Counter\n",
        "\n",
        "import itertools\n",
        "warnings.filterwarnings(\"ignore\")\n",
        "import datetime as dt\n",
        "import numpy as np\n",
        "from nltk.corpus import stopwords\n",
        "from sklearn.metrics import confusion_matrix\n",
        "from itertools import compress\n",
        "import collections, itertools\n",
        "import sklearn.feature_extraction.text as sktext\n",
        "from sklearn.pipeline import Pipeline\n",
        "from sklearn.neighbors import KNeighborsClassifier\n",
        "from sklearn.metrics import classification_report\n",
        "from sklearn import metrics\n",
        "from dask import delayed, compute\n",
        "from dask.diagnostics import ProgressBar\n",
        "ProgressBar().register()"
      ],
      "execution_count": 0,
      "outputs": []
    },
    {
      "metadata": {
        "id": "juLJE9aWJjgl",
        "colab_type": "text"
      },
      "cell_type": "markdown",
      "source": [
        "<h2>Exploratory Data Analysis</h2>"
      ]
    },
    {
      "metadata": {
        "id": "IeIeocn6xPw4",
        "colab_type": "code",
        "colab": {}
      },
      "cell_type": "code",
      "source": [
        "train_df = pd.read_csv('rawdata/train.csv')\n",
        "test_df =  pd.read_csv('rawdata/test.csv')\n",
        "test_df['length'] = np.array([len(test_df['ciphertext'].iloc[idx]) for idx in range(len(test_df))],dtype=int)\n",
        "train_df['length'] = np.array([len(train_df['ciphertext'].iloc[idx]) for idx in range(len(train_df))],dtype=int)"
      ],
      "execution_count": 0,
      "outputs": []
    },
    {
      "metadata": {
        "_uuid": "2cbd78585149e3482748586ccc1ae104715cedb4",
        "trusted": true,
        "_kg_hide-input": true,
        "id": "6zcf7jODKaQb",
        "colab_type": "code",
        "outputId": "23ee955a-eab1-4e52-8ae8-e11715309227",
        "colab": {
          "base_uri": "https://localhost:8080/",
          "height": 221
        }
      },
      "cell_type": "code",
      "source": [
        "print(\"Train data\")\n",
        "train_df.tail(5)"
      ],
      "execution_count": 0,
      "outputs": [
        {
          "output_type": "stream",
          "text": [
            "Train data\n"
          ],
          "name": "stdout"
        },
        {
          "output_type": "execute_result",
          "data": {
            "text/html": [
              "<div>\n",
              "<style scoped>\n",
              "    .dataframe tbody tr th:only-of-type {\n",
              "        vertical-align: middle;\n",
              "    }\n",
              "\n",
              "    .dataframe tbody tr th {\n",
              "        vertical-align: top;\n",
              "    }\n",
              "\n",
              "    .dataframe thead th {\n",
              "        text-align: right;\n",
              "    }\n",
              "</style>\n",
              "<table border=\"1\" class=\"dataframe\">\n",
              "  <thead>\n",
              "    <tr style=\"text-align: right;\">\n",
              "      <th></th>\n",
              "      <th>Id</th>\n",
              "      <th>difficulty</th>\n",
              "      <th>ciphertext</th>\n",
              "      <th>target</th>\n",
              "    </tr>\n",
              "  </thead>\n",
              "  <tbody>\n",
              "    <tr>\n",
              "      <th>39047</th>\n",
              "      <td>ID_5259fc914</td>\n",
              "      <td>2</td>\n",
              "      <td>.eh\u0010{[8h}8h{-z8b8z8b8xx~V}$v897V\u0010kz</td>\n",
              "      <td>12</td>\n",
              "    </tr>\n",
              "    <tr>\n",
              "      <th>39048</th>\n",
              "      <td>ID_d748052c0</td>\n",
              "      <td>1</td>\n",
              "      <td>A18\u001bt1t0a\u0002dv10\u001bO8\b1\"^A1Wa88a\u0002d\bs1s120#avtaO\u0002v1...</td>\n",
              "      <td>19</td>\n",
              "    </tr>\n",
              "    <tr>\n",
              "      <th>39049</th>\n",
              "      <td>ID_5f68231a0</td>\n",
              "      <td>3</td>\n",
              "      <td>o}8Z?4p}{8.i}u{g\u0003$?a8\f,\u00068{7$8.*s\u0018?$4\u001a88U{8j}g8...</td>\n",
              "      <td>3</td>\n",
              "    </tr>\n",
              "    <tr>\n",
              "      <th>39050</th>\n",
              "      <td>ID_475b4444b</td>\n",
              "      <td>2</td>\n",
              "      <td>{8O\u001aS\u001a88A{8h}8{7$8?V{$}{8*$?$V}$[888ISccz8h{87...</td>\n",
              "      <td>6</td>\n",
              "    </tr>\n",
              "    <tr>\n",
              "      <th>39051</th>\n",
              "      <td>ID_6a8832e6d</td>\n",
              "      <td>3</td>\n",
              "      <td>*C4$*88pg8i.u\u0010gj\u0010}[8J??84b\u0010$Yg8&amp;$?Z{gk\u0010}8\u0018${^$...</td>\n",
              "      <td>18</td>\n",
              "    </tr>\n",
              "  </tbody>\n",
              "</table>\n",
              "</div>"
            ],
            "text/plain": [
              "                 Id  difficulty  \\\n",
              "39047  ID_5259fc914           2   \n",
              "39048  ID_d748052c0           1   \n",
              "39049  ID_5f68231a0           3   \n",
              "39050  ID_475b4444b           2   \n",
              "39051  ID_6a8832e6d           3   \n",
              "\n",
              "                                              ciphertext  target  \n",
              "39047                .eh\u0010{[8h}8h{-z8b8z8b8xx~V}$v897V\u0010kz      12  \n",
              "39048  A18\u001bt1t0a\u0002dv10\u001bO8\b1\"^A1Wa88a\u0002d\bs1s120#avtaO\u0002v1...      19  \n",
              "39049  o}8Z?4p}{8.i}u{g\u0003$?a8\n",
              ",\u00068{7$8.*s\u0018?$4\u001a88U{8j}g8...       3  \n",
              "39050  {8O\u001aS\u001a88A{8h}8{7$8?V{$}{8*$?$V}$[888ISccz8h{87...       6  \n",
              "39051  *C4$*88pg8i.u\u0010gj\u0010}[8J??84b\u0010$Yg8&$?Z{gk\u0010}8\u0018${^$...      18  "
            ]
          },
          "metadata": {
            "tags": []
          },
          "execution_count": 9
        }
      ]
    },
    {
      "metadata": {
        "_uuid": "dd120b1f2c8f15125b06ba0709893b4a728553b5",
        "trusted": true,
        "_kg_hide-input": true,
        "id": "sshgwIo_KaQk",
        "colab_type": "code",
        "outputId": "eb93dbf3-8e72-4f8c-b4e2-14d1971976a1",
        "colab": {
          "base_uri": "https://localhost:8080/",
          "height": 221
        }
      },
      "cell_type": "code",
      "source": [
        "print(\"Test data\")\n",
        "test_df.tail(5)"
      ],
      "execution_count": 0,
      "outputs": [
        {
          "output_type": "stream",
          "text": [
            "Test data\n"
          ],
          "name": "stdout"
        },
        {
          "output_type": "execute_result",
          "data": {
            "text/html": [
              "<div>\n",
              "<style scoped>\n",
              "    .dataframe tbody tr th:only-of-type {\n",
              "        vertical-align: middle;\n",
              "    }\n",
              "\n",
              "    .dataframe tbody tr th {\n",
              "        vertical-align: top;\n",
              "    }\n",
              "\n",
              "    .dataframe thead th {\n",
              "        text-align: right;\n",
              "    }\n",
              "</style>\n",
              "<table border=\"1\" class=\"dataframe\">\n",
              "  <thead>\n",
              "    <tr style=\"text-align: right;\">\n",
              "      <th></th>\n",
              "      <th>Id</th>\n",
              "      <th>difficulty</th>\n",
              "      <th>ciphertext</th>\n",
              "      <th>length</th>\n",
              "    </tr>\n",
              "  </thead>\n",
              "  <tbody>\n",
              "    <tr>\n",
              "      <th>91117</th>\n",
              "      <td>ID_0a66f7d5a</td>\n",
              "      <td>1</td>\n",
              "      <td>A1zO#a\u001bA1:1s1Wa881'^vt1O1vc--O#o\bs1s120\u001b\u001b#vs1e...</td>\n",
              "      <td>144</td>\n",
              "    </tr>\n",
              "    <tr>\n",
              "      <th>91118</th>\n",
              "      <td>ID_df9a9edc3</td>\n",
              "      <td>3</td>\n",
              "      <td>8^7l8}ZsL8{7$i87UM8v{8P\u0010J8o{8LgN\u0010B{h8o*$Z??n87...</td>\n",
              "      <td>300</td>\n",
              "    </tr>\n",
              "    <tr>\n",
              "      <th>91119</th>\n",
              "      <td>ID_3d143a90c</td>\n",
              "      <td>4</td>\n",
              "      <td>r88{{u\u0010{l*\u0010\u00108iy}z?u7\u0010Z.48$8i7?m8${iM\u0010#s\f$}m^8l...</td>\n",
              "      <td>300</td>\n",
              "    </tr>\n",
              "    <tr>\n",
              "      <th>91120</th>\n",
              "      <td>ID_728c606ae</td>\n",
              "      <td>1</td>\n",
              "      <td>1\u0003^c\u0002AO#a\u001bv1Wa881\u0003\u001b1A#OW\u00021c'1\u0003o1\u0002\u001bd^taOta^\u0002T1\u0002...</td>\n",
              "      <td>300</td>\n",
              "    </tr>\n",
              "    <tr>\n",
              "      <th>91121</th>\n",
              "      <td>ID_2b26ba5e7</td>\n",
              "      <td>1</td>\n",
              "      <td>*#^-G1\u0003a88)'O+t^\u0002b]^c#A\b_^-s1&gt;c\u0003X\u001b_tG1/#da_s1%...</td>\n",
              "      <td>300</td>\n",
              "    </tr>\n",
              "  </tbody>\n",
              "</table>\n",
              "</div>"
            ],
            "text/plain": [
              "                 Id  difficulty  \\\n",
              "91117  ID_0a66f7d5a           1   \n",
              "91118  ID_df9a9edc3           3   \n",
              "91119  ID_3d143a90c           4   \n",
              "91120  ID_728c606ae           1   \n",
              "91121  ID_2b26ba5e7           1   \n",
              "\n",
              "                                              ciphertext  length  \n",
              "91117  A1zO#a\u001bA1:1s1Wa881'^vt1O1vc--O#o\bs1s120\u001b\u001b#vs1e...     144  \n",
              "91118  8^7l8}ZsL8{7$i87UM8v{8P\u0010J8o{8LgN\u0010B{h8o*$Z??n87...     300  \n",
              "91119  r88{{u\u0010{l*\u0010\u00108iy}z?u7\u0010Z.48$8i7?m8${iM\u0010#s\n",
              "$}m^8l...     300  \n",
              "91120  1\u0003^c\u0002AO#a\u001bv1Wa881\u0003\u001b1A#OW\u00021c'1\u0003o1\u0002\u001bd^taOta^\u0002T1\u0002...     300  \n",
              "91121  *#^-G1\u0003a88)'O+t^\u0002b]^c#A\b_^-s1>c\u0003X\u001b_tG1/#da_s1%...     300  "
            ]
          },
          "metadata": {
            "tags": []
          },
          "execution_count": 10
        }
      ]
    },
    {
      "metadata": {
        "id": "WtL36F2RKKBQ",
        "colab_type": "code",
        "outputId": "3e54b268-5e52-4b03-f901-cd66a038e155",
        "colab": {
          "base_uri": "https://localhost:8080/",
          "height": 394
        }
      },
      "cell_type": "code",
      "source": [
        "train_df['target'].value_counts().plot(kind='bar')\n",
        "plt.xlabel('Targets')\n",
        "plt.ylabel('Value_counts')\n",
        "plt.title('Distribution of calsses over Train data')"
      ],
      "execution_count": 0,
      "outputs": [
        {
          "output_type": "execute_result",
          "data": {
            "text/plain": [
              "Text(0.5,1,'Distribution of calsses over Train data')"
            ]
          },
          "metadata": {
            "tags": []
          },
          "execution_count": 14
        },
        {
          "output_type": "display_data",
          "data": {
            "image/png": "[encoded data removed]",
            "text/plain": [
              "<matplotlib.figure.Figure at 0x7faf39cbb320>"
            ]
          },
          "metadata": {
            "tags": []
          }
        }
      ]
    },
    {
      "metadata": {
        "id": "mebXdniCK0T6",
        "colab_type": "code",
        "outputId": "e1f166ae-2979-44da-c7ec-ee5fb6f969c6",
        "colab": {
          "base_uri": "https://localhost:8080/",
          "height": 389
        }
      },
      "cell_type": "code",
      "source": [
        "\n",
        "train_df['difficulty'].value_counts().plot(kind='bar')\n",
        "plt.xlabel('Difficulty')\n",
        "plt.ylabel('Value_counts')\n",
        "plt.title('Distribution of Difficulty over Train data')"
      ],
      "execution_count": 0,
      "outputs": [
        {
          "output_type": "execute_result",
          "data": {
            "text/plain": [
              "Text(0.5,1,'Distribution of Difficulty over Train data')"
            ]
          },
          "metadata": {
            "tags": []
          },
          "execution_count": 25
        },
        {
          "output_type": "display_data",
          "data": {
            "image/png": "[encoded data removed]",
            "text/plain": [
              "<matplotlib.figure.Figure at 0x7faf34cf3080>"
            ]
          },
          "metadata": {
            "tags": []
          }
        }
      ]
    },
    {
      "metadata": {
        "id": "-1GleqlDLJFX",
        "colab_type": "code",
        "outputId": "8fe2a60c-e62e-4cd9-a84a-9f1bcf4583bc",
        "colab": {
          "base_uri": "https://localhost:8080/",
          "height": 389
        }
      },
      "cell_type": "code",
      "source": [
        "\n",
        "test_df['difficulty'].value_counts().plot(kind='bar')\n",
        "plt.xlabel('Difficulty')\n",
        "plt.ylabel('Value_counts')\n",
        "plt.title('Distribution of Difficulty over Test data')"
      ],
      "execution_count": 0,
      "outputs": [
        {
          "output_type": "execute_result",
          "data": {
            "text/plain": [
              "Text(0.5,1,'Distribution of Difficulty over Test data')"
            ]
          },
          "metadata": {
            "tags": []
          },
          "execution_count": 24
        },
        {
          "output_type": "display_data",
          "data": {
            "image/png": "[encoded data removed]",
            "text/plain": [
              "<matplotlib.figure.Figure at 0x7faf34cfc748>"
            ]
          },
          "metadata": {
            "tags": []
          }
        }
      ]
    },
    {
      "metadata": {
        "id": "Jyp4E-2gLR9c",
        "colab_type": "code",
        "outputId": "d1f966a5-8a89-46a5-94d6-b1ac304e9104",
        "colab": {
          "base_uri": "https://localhost:8080/",
          "height": 378
        }
      },
      "cell_type": "code",
      "source": [
        "import seaborn as sns\n",
        "sns.boxplot(train_df['target'],train_df['length'])"
      ],
      "execution_count": 0,
      "outputs": [
        {
          "output_type": "execute_result",
          "data": {
            "text/plain": [
              "<matplotlib.axes._subplots.AxesSubplot at 0x7faf3520c048>"
            ]
          },
          "metadata": {
            "tags": []
          },
          "execution_count": 23
        },
        {
          "output_type": "display_data",
          "data": {
            "image/png": "[encoded data removed]",
            "text/plain": [
              "<matplotlib.figure.Figure at 0x7faf35219c50>"
            ]
          },
          "metadata": {
            "tags": []
          }
        }
      ]
    },
    {
      "metadata": {
        "id": "E6nkluUrNbLs",
        "colab_type": "code",
        "colab": {}
      },
      "cell_type": "code",
      "source": [
        "def no_of_chars(difficulty):\n",
        "  \n",
        "  plain_counts = pd.Series(collections.Counter(itertools.chain.from_iterable(train_df[train_df['difficulty']==difficulty]['ciphertext']))).rename(\"counts\").to_frame() \\\n",
        "    .sort_values(\"counts\", ascending = False)\n",
        "  plt.figure(figsize=(16,6))\n",
        "  plain_counts['counts'].plot(kind='bar')\n",
        "  plt.title(\"analysis of Chars  for difficulty {}\".format(difficulty))\n",
        "  plt.ylabel('Counts')\n",
        "  plt.show()"
      ],
      "execution_count": 0,
      "outputs": []
    },
    {
      "metadata": {
        "id": "Ko6Mbg4KTpka",
        "colab_type": "code",
        "outputId": "613710f9-d8a8-4e7b-b405-7ab8611ed960",
        "colab": {
          "base_uri": "https://localhost:8080/",
          "height": 389
        }
      },
      "cell_type": "code",
      "source": [
        "no_of_chars(difficulty=1)"
      ],
      "execution_count": 0,
      "outputs": [
        {
          "output_type": "display_data",
          "data": {
            "image/png": "[encoded data removed]",
            "text/plain": [
              "<matplotlib.figure.Figure at 0x7faf30c6c9e8>"
            ]
          },
          "metadata": {
            "tags": []
          }
        }
      ]
    },
    {
      "metadata": {
        "id": "dFOWTqP6VJvT",
        "colab_type": "code",
        "outputId": "cc74cb17-6915-4e4e-a8f7-549437ab498f",
        "colab": {
          "base_uri": "https://localhost:8080/",
          "height": 389
        }
      },
      "cell_type": "code",
      "source": [
        "no_of_chars(difficulty=2)"
      ],
      "execution_count": 0,
      "outputs": [
        {
          "output_type": "display_data",
          "data": {
            "image/png": "[encoded data removed]",
            "text/plain": [
              "<matplotlib.figure.Figure at 0x7faf30ce8128>"
            ]
          },
          "metadata": {
            "tags": []
          }
        }
      ]
    },
    {
      "metadata": {
        "id": "0oVM1WszUWmq",
        "colab_type": "code",
        "outputId": "9cdab79a-eb31-402a-f262-17032cbf9616",
        "colab": {
          "base_uri": "https://localhost:8080/",
          "height": 389
        }
      },
      "cell_type": "code",
      "source": [
        "no_of_chars(difficulty=3)"
      ],
      "execution_count": 0,
      "outputs": [
        {
          "output_type": "display_data",
          "data": {
            "image/png": "[encoded data removed]",
            "text/plain": [
              "<matplotlib.figure.Figure at 0x7faf30df8c50>"
            ]
          },
          "metadata": {
            "tags": []
          }
        }
      ]
    },
    {
      "metadata": {
        "id": "x2zPvZ6vVT-9",
        "colab_type": "code",
        "outputId": "bd5c0401-f2ff-44d9-ad09-bf408d937564",
        "colab": {
          "base_uri": "https://localhost:8080/",
          "height": 389
        }
      },
      "cell_type": "code",
      "source": [
        "no_of_chars(difficulty=4)"
      ],
      "execution_count": 0,
      "outputs": [
        {
          "output_type": "display_data",
          "data": {
            "image/png": "[encoded data removed]",
            "text/plain": [
              "<matplotlib.figure.Figure at 0x7faf30f8d550>"
            ]
          },
          "metadata": {
            "tags": []
          }
        }
      ]
    },
    {
      "metadata": {
        "id": "Dl0UiZuRWovX",
        "colab_type": "code",
        "outputId": "74312c97-1e26-401e-a0b1-34738abea788",
        "colab": {
          "base_uri": "https://localhost:8080/",
          "height": 51
        }
      },
      "cell_type": "code",
      "source": [
        "from sklearn.datasets import fetch_20newsgroups\n",
        "plaintext_data = fetch_20newsgroups(subset='all', download_if_missing=True)\n",
        "category_names = plaintext_data.target_names"
      ],
      "execution_count": 0,
      "outputs": [
        {
          "output_type": "stream",
          "text": [
            "Downloading 20news dataset. This may take a few minutes.\n",
            "Downloading dataset from https://ndownloader.figshare.com/files/5975967 (14 MB)\n"
          ],
          "name": "stderr"
        }
      ]
    },
    {
      "metadata": {
        "_kg_hide-input": true,
        "_uuid": "c2bde2da862e902445f93123a258354e1cbc936f",
        "trusted": true,
        "id": "r_P-rSNoKaQx",
        "colab_type": "code",
        "colab": {}
      },
      "cell_type": "code",
      "source": [
        "\n",
        "def sourcetransform(textstring):\n",
        "    return textstring.replace('\\r\\n','\\n').replace('\\r','\\n').replace('\\n','\\n ').rstrip(' ')\n",
        "\n",
        "sourcetext = twenty_databunch.data\n",
        "for i,textstring in enumerate(sourcetext):\n",
        "    sourcetext[i] = sourcetransform(textstring)\n",
        "    \n",
        "twenty_databunch.data = sourcetext\n",
        "\n",
        "twenty_datalengths = [len(datastring) for datastring in twenty_databunch.data]\n",
        "\n",
        "category_names = twenty_databunch.target_names\n"
      ],
      "execution_count": 0,
      "outputs": []
    },
    {
      "metadata": {
        "id": "LC5vBsbDYYMM",
        "colab_type": "code",
        "colab": {}
      },
      "cell_type": "code",
      "source": [
        "chunks_plaintext = []\n",
        "chunks_target = []\n",
        "chunks_length = []\n",
        "for i in range(len(twenty_databunch.target)):\n",
        "    strlength = len(twenty_databunch.data[i])\n",
        "    if strlength > 300:\n",
        "        for j in range(strlength // 300):\n",
        "            chunks_plaintext.append(twenty_databunch.data[i][300*j:300*(j+1)])\n",
        "            chunks_target.append(twenty_databunch.target[i])\n",
        "            chunks_length.append(300)\n",
        "        if strlength%300 > 0:\n",
        "            chunks_plaintext.append(twenty_databunch.data[i][300*(strlength // 300):(300*(strlength // 300)+strlength%300)])\n",
        "            chunks_target.append(twenty_databunch.target[i])\n",
        "            chunks_length.append(strlength%300)\n",
        "    else:\n",
        "        chunks_plaintext.append(twenty_databunch.data[i])\n",
        "        chunks_target.append(twenty_databunch.target[i])\n",
        "        chunks_length.append(strlength)\n",
        "        \n",
        "chunk_df = pd.DataFrame({'plaintext':chunks_plaintext,\n",
        "                         'length':np.array(chunks_length,dtype=int), \n",
        "                         'target':np.array(chunks_target,dtype=int)})\n",
        "chunk_df['testref'] = np.nan\n",
        "chunk_df['trainref'] = np.nan"
      ],
      "execution_count": 0,
      "outputs": []
    },
    {
      "metadata": {
        "id": "R_CKlqcAYgmK",
        "colab_type": "text"
      },
      "cell_type": "markdown",
      "source": [
        " is is very helpful to have a copy of the data in dictionary form for fuzzy wuzzy lookup"
      ]
    },
    {
      "metadata": {
        "id": "oZHBwrJsYcP_",
        "colab_type": "code",
        "colab": {}
      },
      "cell_type": "code",
      "source": [
        "sourcetext_dict = {idx: el for idx, el in enumerate(chunks_plaintext)}\n",
        "chunk_df.tail()"
      ],
      "execution_count": 0,
      "outputs": []
    },
    {
      "metadata": {
        "id": "WW_S6jGfJsh5",
        "colab_type": "code",
        "outputId": "c4bce173-7c99-49eb-fbb6-e0aaa826f091",
        "colab": {
          "base_uri": "https://localhost:8080/",
          "height": 204
        }
      },
      "cell_type": "code",
      "source": [
        "chunk_df.head()"
      ],
      "execution_count": 0,
      "outputs": [
        {
          "output_type": "execute_result",
          "data": {
            "text/html": [
              "<div>\n",
              "<style scoped>\n",
              "    .dataframe tbody tr th:only-of-type {\n",
              "        vertical-align: middle;\n",
              "    }\n",
              "\n",
              "    .dataframe tbody tr th {\n",
              "        vertical-align: top;\n",
              "    }\n",
              "\n",
              "    .dataframe thead th {\n",
              "        text-align: right;\n",
              "    }\n",
              "</style>\n",
              "<table border=\"1\" class=\"dataframe\">\n",
              "  <thead>\n",
              "    <tr style=\"text-align: right;\">\n",
              "      <th></th>\n",
              "      <th>length</th>\n",
              "      <th>plaintext</th>\n",
              "      <th>target</th>\n",
              "      <th>testref</th>\n",
              "      <th>trainref</th>\n",
              "    </tr>\n",
              "  </thead>\n",
              "  <tbody>\n",
              "    <tr>\n",
              "      <th>0</th>\n",
              "      <td>300</td>\n",
              "      <td>From: Mamatha Devineni Ratnam &lt;mr47+@andrew.cm...</td>\n",
              "      <td>10</td>\n",
              "      <td>NaN</td>\n",
              "      <td>NaN</td>\n",
              "    </tr>\n",
              "    <tr>\n",
              "      <th>1</th>\n",
              "      <td>300</td>\n",
              "      <td>he recent Pens massacre of the Devils. Actuall...</td>\n",
              "      <td>10</td>\n",
              "      <td>NaN</td>\n",
              "      <td>NaN</td>\n",
              "    </tr>\n",
              "    <tr>\n",
              "      <th>2</th>\n",
              "      <td>300</td>\n",
              "      <td>s regular season stats. He is also a lot\\n fo ...</td>\n",
              "      <td>10</td>\n",
              "      <td>NaN</td>\n",
              "      <td>NaN</td>\n",
              "    </tr>\n",
              "    <tr>\n",
              "      <th>3</th>\n",
              "      <td>19</td>\n",
              "      <td>PENS RULE!!!\\n \\n</td>\n",
              "      <td>10</td>\n",
              "      <td>NaN</td>\n",
              "      <td>NaN</td>\n",
              "    </tr>\n",
              "    <tr>\n",
              "      <th>4</th>\n",
              "      <td>300</td>\n",
              "      <td>From: mblawson@midway.ecn.uoknor.edu (Matthew ...</td>\n",
              "      <td>3</td>\n",
              "      <td>NaN</td>\n",
              "      <td>NaN</td>\n",
              "    </tr>\n",
              "  </tbody>\n",
              "</table>\n",
              "</div>"
            ],
            "text/plain": [
              "   length                                          plaintext  target  testref  \\\n",
              "0     300  From: Mamatha Devineni Ratnam <mr47+@andrew.cm...      10      NaN   \n",
              "1     300  he recent Pens massacre of the Devils. Actuall...      10      NaN   \n",
              "2     300  s regular season stats. He is also a lot\\n fo ...      10      NaN   \n",
              "3      19                                  PENS RULE!!!\\n \\n      10      NaN   \n",
              "4     300  From: mblawson@midway.ecn.uoknor.edu (Matthew ...       3      NaN   \n",
              "\n",
              "   trainref  \n",
              "0       NaN  \n",
              "1       NaN  \n",
              "2       NaN  \n",
              "3       NaN  \n",
              "4       NaN  "
            ]
          },
          "metadata": {
            "tags": []
          },
          "execution_count": 94
        }
      ]
    },
    {
      "metadata": {
        "id": "W_sfdFkfVvnE",
        "colab_type": "text"
      },
      "cell_type": "markdown",
      "source": [
        "<h4>As each difficulty has different legth of documents let us look into the counts per 1m charecters for each level of difficulty</h4>"
      ]
    },
    {
      "metadata": {
        "id": "td3_fddTWHDx",
        "colab_type": "code",
        "outputId": "a7553f6a-0175-41a4-c825-a070d13dde74",
        "colab": {
          "base_uri": "https://localhost:8080/",
          "height": 669
        }
      },
      "cell_type": "code",
      "source": [
        "plain_counts = pd.Series(collections.Counter(itertools.chain.from_iterable(plaintext_data.data))) \\\n",
        "    .rename(\"counts\").to_frame() \\\n",
        "    .sort_values(\"counts\", ascending = False)\n",
        "plain_counts = 1000000 * plain_counts / plain_counts.sum()\n",
        "plain_counts = plain_counts.reset_index().rename(columns = {\"index\":\"plain_char\"})\n",
        "\n",
        "diff_counts = []\n",
        "for i in range(1,5):\n",
        "    counts = pd.Series(\n",
        "        collections.Counter(itertools.chain.from_iterable(train_df.query(\"difficulty == @i\")[\"ciphertext\"].values)) + \\\n",
        "        collections.Counter(itertools.chain.from_iterable(test_df.query(\"difficulty == @i\")[\"ciphertext\"].values))\n",
        "        ).rename(\"counts/Million\").to_frame() \\\n",
        "        .sort_values(\"counts/Million\", ascending = False)\n",
        "    counts = 1000000 * counts / counts.sum()\n",
        "    counts = counts.reset_index().rename(columns = {\"index\":\"diff_{}\".format(i)})\n",
        "    diff_counts.append(counts)\n",
        "\n",
        "pd.concat([plain_counts] + diff_counts, axis = 1).head(20)"
      ],
      "execution_count": 0,
      "outputs": [
        {
          "output_type": "execute_result",
          "data": {
            "text/html": [
              "<div>\n",
              "<style scoped>\n",
              "    .dataframe tbody tr th:only-of-type {\n",
              "        vertical-align: middle;\n",
              "    }\n",
              "\n",
              "    .dataframe tbody tr th {\n",
              "        vertical-align: top;\n",
              "    }\n",
              "\n",
              "    .dataframe thead th {\n",
              "        text-align: right;\n",
              "    }\n",
              "</style>\n",
              "<table border=\"1\" class=\"dataframe\">\n",
              "  <thead>\n",
              "    <tr style=\"text-align: right;\">\n",
              "      <th></th>\n",
              "      <th>plain_char</th>\n",
              "      <th>counts</th>\n",
              "      <th>diff_1</th>\n",
              "      <th>counts/Million</th>\n",
              "      <th>diff_2</th>\n",
              "      <th>counts/Million</th>\n",
              "      <th>diff_3</th>\n",
              "      <th>counts/Million</th>\n",
              "      <th>diff_4</th>\n",
              "      <th>counts/Million</th>\n",
              "    </tr>\n",
              "  </thead>\n",
              "  <tbody>\n",
              "    <tr>\n",
              "      <th>0</th>\n",
              "      <td></td>\n",
              "      <td>165064.384460</td>\n",
              "      <td>1</td>\n",
              "      <td>189207.632850</td>\n",
              "      <td>8</td>\n",
              "      <td>186653.120050</td>\n",
              "      <td>8</td>\n",
              "      <td>181524.273903</td>\n",
              "      <td>8</td>\n",
              "      <td>178075.739137</td>\n",
              "    </tr>\n",
              "    <tr>\n",
              "      <th>1</th>\n",
              "      <td>e</td>\n",
              "      <td>76404.121344</td>\n",
              "      <td>\u001b</td>\n",
              "      <td>76324.791098</td>\n",
              "      <td>$</td>\n",
              "      <td>75554.121129</td>\n",
              "      <td>$</td>\n",
              "      <td>74037.405567</td>\n",
              "      <td>$</td>\n",
              "      <td>73205.998775</td>\n",
              "    </tr>\n",
              "    <tr>\n",
              "      <th>2</th>\n",
              "      <td>t</td>\n",
              "      <td>56850.141666</td>\n",
              "      <td>t</td>\n",
              "      <td>56848.251952</td>\n",
              "      <td>{</td>\n",
              "      <td>55948.434335</td>\n",
              "      <td>{</td>\n",
              "      <td>55100.786035</td>\n",
              "      <td>{</td>\n",
              "      <td>54732.324929</td>\n",
              "    </tr>\n",
              "    <tr>\n",
              "      <th>3</th>\n",
              "      <td>a</td>\n",
              "      <td>50544.912798</td>\n",
              "      <td>O</td>\n",
              "      <td>50491.551499</td>\n",
              "      <td>V</td>\n",
              "      <td>50050.023467</td>\n",
              "      <td>\u0010</td>\n",
              "      <td>43898.609813</td>\n",
              "      <td>\u0010</td>\n",
              "      <td>43254.443977</td>\n",
              "    </tr>\n",
              "    <tr>\n",
              "      <th>4</th>\n",
              "      <td>o</td>\n",
              "      <td>50309.687605</td>\n",
              "      <td>^</td>\n",
              "      <td>50032.188030</td>\n",
              "      <td>e</td>\n",
              "      <td>49662.492851</td>\n",
              "      <td>}</td>\n",
              "      <td>40795.051412</td>\n",
              "      <td>}</td>\n",
              "      <td>39623.105140</td>\n",
              "    </tr>\n",
              "    <tr>\n",
              "      <th>5</th>\n",
              "      <td>i</td>\n",
              "      <td>46010.203932</td>\n",
              "      <td>a</td>\n",
              "      <td>45860.048537</td>\n",
              "      <td>h</td>\n",
              "      <td>45263.340385</td>\n",
              "      <td>*</td>\n",
              "      <td>38834.514190</td>\n",
              "      <td>*</td>\n",
              "      <td>38238.694320</td>\n",
              "    </tr>\n",
              "    <tr>\n",
              "      <th>6</th>\n",
              "      <td>n</td>\n",
              "      <td>45126.701007</td>\n",
              "      <td>\u0002</td>\n",
              "      <td>44894.239090</td>\n",
              "      <td>\u0010</td>\n",
              "      <td>44646.867946</td>\n",
              "      <td>7</td>\n",
              "      <td>26993.838377</td>\n",
              "      <td>7</td>\n",
              "      <td>27034.715750</td>\n",
              "    </tr>\n",
              "    <tr>\n",
              "      <th>7</th>\n",
              "      <td>s</td>\n",
              "      <td>41604.682058</td>\n",
              "      <td>v</td>\n",
              "      <td>41435.079345</td>\n",
              "      <td>}</td>\n",
              "      <td>40928.437262</td>\n",
              "      <td>?</td>\n",
              "      <td>25643.026183</td>\n",
              "      <td>?</td>\n",
              "      <td>24947.357193</td>\n",
              "    </tr>\n",
              "    <tr>\n",
              "      <th>8</th>\n",
              "      <td>r</td>\n",
              "      <td>39825.516121</td>\n",
              "      <td>#</td>\n",
              "      <td>39559.757198</td>\n",
              "      <td>*</td>\n",
              "      <td>39309.460919</td>\n",
              "      <td>l</td>\n",
              "      <td>19817.712575</td>\n",
              "      <td>l</td>\n",
              "      <td>19514.762010</td>\n",
              "    </tr>\n",
              "    <tr>\n",
              "      <th>9</th>\n",
              "      <td>h</td>\n",
              "      <td>28251.929026</td>\n",
              "      <td>0</td>\n",
              "      <td>28531.101031</td>\n",
              "      <td>7</td>\n",
              "      <td>28102.448146</td>\n",
              "      <td>i</td>\n",
              "      <td>16400.932250</td>\n",
              "      <td>i</td>\n",
              "      <td>16376.274720</td>\n",
              "    </tr>\n",
              "    <tr>\n",
              "      <th>10</th>\n",
              "      <td>l</td>\n",
              "      <td>26143.659784</td>\n",
              "      <td>8</td>\n",
              "      <td>26027.862282</td>\n",
              "      <td>?</td>\n",
              "      <td>25737.215693</td>\n",
              "      <td>4</td>\n",
              "      <td>16196.553240</td>\n",
              "      <td>4</td>\n",
              "      <td>15930.279158</td>\n",
              "    </tr>\n",
              "    <tr>\n",
              "      <th>11</th>\n",
              "      <td>\\n</td>\n",
              "      <td>23281.074610</td>\n",
              "      <td>s</td>\n",
              "      <td>23078.856684</td>\n",
              "      <td>z</td>\n",
              "      <td>22644.787767</td>\n",
              "      <td>\u001a</td>\n",
              "      <td>15748.557177</td>\n",
              "      <td>\u001a</td>\n",
              "      <td>15112.782572</td>\n",
              "    </tr>\n",
              "    <tr>\n",
              "      <th>12</th>\n",
              "      <td>d</td>\n",
              "      <td>22137.022273</td>\n",
              "      <td>A</td>\n",
              "      <td>21894.490009</td>\n",
              "      <td>H</td>\n",
              "      <td>21987.409913</td>\n",
              "      <td>j</td>\n",
              "      <td>13620.718049</td>\n",
              "      <td>d</td>\n",
              "      <td>13641.893310</td>\n",
              "    </tr>\n",
              "    <tr>\n",
              "      <th>13</th>\n",
              "      <td>c</td>\n",
              "      <td>20471.703768</td>\n",
              "      <td>_</td>\n",
              "      <td>20276.829417</td>\n",
              "      <td>f</td>\n",
              "      <td>20032.195345</td>\n",
              "      <td>d</td>\n",
              "      <td>13584.778279</td>\n",
              "      <td>j</td>\n",
              "      <td>13429.745820</td>\n",
              "    </tr>\n",
              "    <tr>\n",
              "      <th>14</th>\n",
              "      <td>u</td>\n",
              "      <td>20201.030244</td>\n",
              "      <td>c</td>\n",
              "      <td>20112.546297</td>\n",
              "      <td>j</td>\n",
              "      <td>19969.873483</td>\n",
              "      <td>Z</td>\n",
              "      <td>13274.627159</td>\n",
              "      <td>Z</td>\n",
              "      <td>13095.815955</td>\n",
              "    </tr>\n",
              "    <tr>\n",
              "      <th>15</th>\n",
              "      <td>m</td>\n",
              "      <td>16618.350304</td>\n",
              "      <td>-</td>\n",
              "      <td>16468.090476</td>\n",
              "      <td>4</td>\n",
              "      <td>16431.662204</td>\n",
              "      <td>.</td>\n",
              "      <td>12759.755828</td>\n",
              "      <td>.</td>\n",
              "      <td>12729.281234</td>\n",
              "    </tr>\n",
              "    <tr>\n",
              "      <th>16</th>\n",
              "      <td>.</td>\n",
              "      <td>15784.687007</td>\n",
              "      <td>\b</td>\n",
              "      <td>15577.006251</td>\n",
              "      <td>\u001a</td>\n",
              "      <td>15435.904481</td>\n",
              "      <td>g</td>\n",
              "      <td>12443.690569</td>\n",
              "      <td>g</td>\n",
              "      <td>12416.404172</td>\n",
              "    </tr>\n",
              "    <tr>\n",
              "      <th>17</th>\n",
              "      <td>-</td>\n",
              "      <td>13969.905399</td>\n",
              "      <td>q</td>\n",
              "      <td>13160.403813</td>\n",
              "      <td>x</td>\n",
              "      <td>12985.434567</td>\n",
              "      <td>m</td>\n",
              "      <td>11737.519574</td>\n",
              "      <td>m</td>\n",
              "      <td>11777.154663</td>\n",
              "    </tr>\n",
              "    <tr>\n",
              "      <th>18</th>\n",
              "      <td>p</td>\n",
              "      <td>13101.714146</td>\n",
              "      <td>'</td>\n",
              "      <td>12958.701898</td>\n",
              "      <td>.</td>\n",
              "      <td>12815.816303</td>\n",
              "      <td>r</td>\n",
              "      <td>11030.324977</td>\n",
              "      <td>r</td>\n",
              "      <td>10964.516416</td>\n",
              "    </tr>\n",
              "    <tr>\n",
              "      <th>19</th>\n",
              "      <td>g</td>\n",
              "      <td>12751.776928</td>\n",
              "      <td>d</td>\n",
              "      <td>12745.987846</td>\n",
              "      <td>k</td>\n",
              "      <td>12690.315922</td>\n",
              "      <td>o</td>\n",
              "      <td>10844.711986</td>\n",
              "      <td>o</td>\n",
              "      <td>10746.215030</td>\n",
              "    </tr>\n",
              "  </tbody>\n",
              "</table>\n",
              "</div>"
            ],
            "text/plain": [
              "   plain_char         counts diff_1  counts/Million diff_2  counts/Million  \\\n",
              "0              165064.384460      1   189207.632850      8   186653.120050   \n",
              "1           e   76404.121344      \u001b    76324.791098      $    75554.121129   \n",
              "2           t   56850.141666      t    56848.251952      {    55948.434335   \n",
              "3           a   50544.912798      O    50491.551499      V    50050.023467   \n",
              "4           o   50309.687605      ^    50032.188030      e    49662.492851   \n",
              "5           i   46010.203932      a    45860.048537      h    45263.340385   \n",
              "6           n   45126.701007      \u0002    44894.239090      \u0010    44646.867946   \n",
              "7           s   41604.682058      v    41435.079345      }    40928.437262   \n",
              "8           r   39825.516121      #    39559.757198      *    39309.460919   \n",
              "9           h   28251.929026      0    28531.101031      7    28102.448146   \n",
              "10          l   26143.659784      8    26027.862282      ?    25737.215693   \n",
              "11         \\n   23281.074610      s    23078.856684      z    22644.787767   \n",
              "12          d   22137.022273      A    21894.490009      H    21987.409913   \n",
              "13          c   20471.703768      _    20276.829417      f    20032.195345   \n",
              "14          u   20201.030244      c    20112.546297      j    19969.873483   \n",
              "15          m   16618.350304      -    16468.090476      4    16431.662204   \n",
              "16          .   15784.687007      \b    15577.006251      \u001a    15435.904481   \n",
              "17          -   13969.905399      q    13160.403813      x    12985.434567   \n",
              "18          p   13101.714146      '    12958.701898      .    12815.816303   \n",
              "19          g   12751.776928      d    12745.987846      k    12690.315922   \n",
              "\n",
              "   diff_3  counts/Million diff_4  counts/Million  \n",
              "0       8   181524.273903      8   178075.739137  \n",
              "1       $    74037.405567      $    73205.998775  \n",
              "2       {    55100.786035      {    54732.324929  \n",
              "3       \u0010    43898.609813      \u0010    43254.443977  \n",
              "4       }    40795.051412      }    39623.105140  \n",
              "5       *    38834.514190      *    38238.694320  \n",
              "6       7    26993.838377      7    27034.715750  \n",
              "7       ?    25643.026183      ?    24947.357193  \n",
              "8       l    19817.712575      l    19514.762010  \n",
              "9       i    16400.932250      i    16376.274720  \n",
              "10      4    16196.553240      4    15930.279158  \n",
              "11      \u001a    15748.557177      \u001a    15112.782572  \n",
              "12      j    13620.718049      d    13641.893310  \n",
              "13      d    13584.778279      j    13429.745820  \n",
              "14      Z    13274.627159      Z    13095.815955  \n",
              "15      .    12759.755828      .    12729.281234  \n",
              "16      g    12443.690569      g    12416.404172  \n",
              "17      m    11737.519574      m    11777.154663  \n",
              "18      r    11030.324977      r    10964.516416  \n",
              "19      o    10844.711986      o    10746.215030  "
            ]
          },
          "metadata": {
            "tags": []
          },
          "execution_count": 97
        }
      ]
    },
    {
      "metadata": {
        "_cell_guid": "79c7e3d0-c299-4dcb-8224-4455121ee9b0",
        "_uuid": "d629ff2d2480ee46fbb7e2d37f6b5fab8052498a",
        "id": "2RPZlsVxKaQ6",
        "colab_type": "text"
      },
      "cell_type": "markdown",
      "source": [
        "<h2> Let's Write Some ReUsable Fuctions</h2>\n",
        "\n",
        "The functions in the code section below may be helpful:\n",
        "* translating between strings of text and 8-bit ascii representations (`string2ascii` and `ascii2string`)\n",
        "* calculating vectors where each element is the frequency of character per million characters of text ( `char_per_million`)\n",
        "* decipher function for a substitution cipher given a mapping between ascii characters (`decipher_subst`)\n",
        "* trimming a longer text to match a shorter one with the same fuzzy similarity (`trim_matchedsource`)\n",
        "* matrix of ascii character replacement operations needed for Levenshtein distance (`leven_replace_matrix`)\n",
        "\n",
        "\n",
        "And for later use:\n",
        "* calculating vectors where each element is the frequency of word/ngram per million characters of text (`word_per_million` and `ngram_per_million`). We can use these calculate similarity to properties of a source language.text (`similarity_score`)"
      ]
    },
    {
      "metadata": {
        "_uuid": "c4eecd98a4fbddcb47dc16e60aba25078a7d3b45",
        "trusted": true,
        "_kg_hide-input": true,
        "id": "iXwflHj6KaQ9",
        "colab_type": "code",
        "colab": {}
      },
      "cell_type": "code",
      "source": [
        "def string2ascii(textstring):\n",
        "    return np.array([ord(char) for char in textstring], dtype=np.int8)\n",
        "\n",
        "def ascii2string(nparray):\n",
        "    return ''.join(chr(npint) for npint in nparray)\n",
        "\n",
        "def char_per_million(stringsarray):\n",
        "    asciicount = np.zeros((128,), dtype=int)\n",
        "    for k,textdata in enumerate(stringsarray):\n",
        "        asciicount += np.histogram(string2ascii(textdata),np.arange(129))[0]\n",
        "    totalchars = np.sum(asciicount)\n",
        "    return np.multiply(asciicount,np.divide(1000000.0,totalchars))\n",
        "\n",
        "def decipher_subst(textstring,asciimap):\n",
        "    inarray = string2ascii(textstring)\n",
        "    outarray = np.zeros(len(inarray),dtype=np.int8)\n",
        "    for asciival in asciimap.index:\n",
        "        outarray[inarray==asciival] = asciimap['decipher'].loc[asciival]\n",
        "    return ascii2string(outarray)\n"
      ],
      "execution_count": 0,
      "outputs": []
    },
    {
      "metadata": {
        "id": "KFFluAjHaBX3",
        "colab_type": "code",
        "colab": {}
      },
      "cell_type": "code",
      "source": [
        "def leven_replace_matrix(textA,textB):\n",
        "    # initialize output matrix\n",
        "    asciiswitchmat = np.zeros([128,128],dtype=int)\n",
        "    # calculate edits for Levenshtein distance\n",
        "    lops = leven.editops(textA,textB)\n",
        "    # count the character replacements needed\n",
        "    replacetf = [editop[0] is 'replace' for editop in lops]\n",
        "    replacerefA =  np.array([editop[1] for editop in lops],dtype=np.int8)\n",
        "    replacerefB =  np.array([editop[2] for editop in lops],dtype=np.int8)\n",
        "    goodidx = np.logical_and(replacetf,np.logical_and(replacerefA<128,replacerefB<128))\n",
        "    replacerefA = replacerefA[replacetf]\n",
        "    replacerefB = replacerefB[replacetf]\n",
        "    for i, refA in enumerate(replacerefA):\n",
        "        asciiswitchmat[ord(textA[refA]),ord(textB[replacerefB[i]])] += 1\n",
        "    return asciiswitchmat"
      ],
      "execution_count": 0,
      "outputs": []
    },
    {
      "metadata": {
        "_uuid": "71d018dd267b3f613e0c94e67b8b960cd7c92236",
        "trusted": true,
        "_kg_hide-input": true,
        "id": "bjKDPeX1KaRG",
        "colab_type": "code",
        "colab": {}
      },
      "cell_type": "code",
      "source": [
        "def char_count(textstring):\n",
        "    return np.histogram(string2ascii(textstring),np.arange(129))[0]\n",
        "    \n",
        "\n",
        "def char_per_300(stringsarray):\n",
        "    asciicount = np.zeros((128,), dtype=int)\n",
        "    for k,textdata in enumerate(stringsarray):\n",
        "        asciicount += char_count(textdata)\n",
        "    totalchars = np.sum(asciicount)\n",
        "    return np.multiply(asciicount,np.divide(300.0,totalchars))\n",
        "\n",
        "def num_recognized_words(stringsarray,worddictionary):\n",
        "    vectorizer = CountVectorizer(analyzer='word',vocabulary=worddictionary2)\n",
        "    X = vectorizer.fit_transform(stringsarray)\n",
        "    return np.sum(X)\n",
        "\n",
        "def word_per_million(stringsarray,worddictionary):\n",
        "    totalchars = sum([len(cipherstring) for cipherstring in stringsarray])\n",
        "    vectorizer = CountVectorizer(analyzer='word',token_pattern=token_pattern,vocabulary=worddictionary)\n",
        "    X = vectorizer.fit_transform(stringsarray)\n",
        "    return np.squeeze(np.asarray(np.sum(X,axis=0)*(1000000.0/totalchars)))\n"
      ],
      "execution_count": 0,
      "outputs": []
    },
    {
      "metadata": {
        "id": "pRmDrzjJascQ",
        "colab_type": "code",
        "colab": {}
      },
      "cell_type": "code",
      "source": [
        "\n",
        "# calculate ngrams per million characters using a given dictionary list of ngrams\n",
        "# the ngramdictionary is generated on a previous run of CountVectorizer using English text\n",
        "def ngram_per_million(stringsarray,ngramdictionary):\n",
        "    ngramlength = len(next(iter(ngramdictionary)))\n",
        "    totalchars = sum([len(cipherstring) for cipherstring in stringsarray])\n",
        "    vectorizer = CountVectorizer(analyzer='char', \n",
        "                             max_features=1000,\n",
        "                             lowercase = False,\n",
        "                             ngram_range = (n_ngram,n_ngram),\n",
        "                             vocabulary=ngramdictionary)\n",
        "    X = vectorizer.fit_transform(stringsarray)\n",
        "    return np.squeeze(np.asarray(np.sum(X,axis=0)*(1000000.0/totalchars)))\n",
        "\n",
        "def similarity_score(x, y):\n",
        "    return 1.0 - np.divide(np.linalg.norm(x - y),np.linalg.norm(y))\n",
        "\n",
        "# goodnes of fit\n",
        "def goodness_of_fit(cipher_array,asciimap,verbose=True):\n",
        "    decipher_array = [decipher_subst(ciphertext,asciimap) \n",
        "     for ciphertext in cipher_array]\n",
        "    w_score = num_recognized_words(decipher_array, worddictionary)\n",
        "    wpm_candidate = word_per_million( decipher_array, worddictionary)\n",
        "    npm_candidate = ngram_per_million( decipher_array, ngramdictionary)\n",
        "    wpm_score = similarity_score(wpm_candidate, wpm_plaintext)\n",
        "    npm_score = similarity_score(npm_candidate, npm_plaintext)\n",
        "    if verbose:\n",
        "        print('   Goodness-of-Fit vs Source Text   ')\n",
        "        print('====================================')\n",
        "        print(\"Number of Recognized Words = \" + str(w_score))\n",
        "        print(\"Word-per-Million Similarity = \" + str(wpm_score))\n",
        "        print(\"Ngram-per-Million Similarity = \" + str(npm_score))\n",
        "    return w_score,wpm_score, npm_score"
      ],
      "execution_count": 0,
      "outputs": []
    },
    {
      "metadata": {
        "_kg_hide-input": true,
        "_uuid": "2c00275909919a1ec501a076b0ef6d0cfdc628b1",
        "trusted": true,
        "id": "RJbOtODnKaRR",
        "colab_type": "code",
        "outputId": "c00ec33b-7e77-475a-a9c4-5c62afdc4181",
        "colab": {
          "base_uri": "https://localhost:8080/",
          "height": 360
        }
      },
      "cell_type": "code",
      "source": [
        "\n",
        "print(twenty_databunch.data[0])"
      ],
      "execution_count": 0,
      "outputs": [
        {
          "output_type": "stream",
          "text": [
            "From: Mamatha Devineni Ratnam <mr47+@andrew.cmu.edu>\n",
            " Subject: Pens fans reactions\n",
            " Organization: Post Office, Carnegie Mellon, Pittsburgh, PA\n",
            " Lines: 12\n",
            " NNTP-Posting-Host: po4.andrew.cmu.edu\n",
            " \n",
            " \n",
            " \n",
            " I am sure some bashers of Pens fans are pretty confused about the lack\n",
            " of any kind of posts about the recent Pens massacre of the Devils. Actually,\n",
            " I am  bit puzzled too and a bit relieved. However, I am going to put an end\n",
            " to non-PIttsburghers' relief with a bit of praise for the Pens. Man, they\n",
            " are killing those Devils worse than I thought. Jagr just showed you why\n",
            " he is much better than his regular season stats. He is also a lot\n",
            " fo fun to watch in the playoffs. Bowman should let JAgr have a lot of\n",
            " fun in the next couple of games since the Pens are going to beat the pulp out of Jersey anyway. I was very disappointed not to see the Islanders lose the final\n",
            " regular season game.          PENS RULE!!!\n",
            " \n",
            "\n"
          ],
          "name": "stdout"
        }
      ]
    },
    {
      "metadata": {
        "_uuid": "43498fc4a019dd9a6468501ffdbe3282bd5ce1dc",
        "id": "GKQ2VAUBKaRb",
        "colab_type": "text"
      },
      "cell_type": "markdown",
      "source": [
        "There are 18,846 data items distributed across the 20 categories."
      ]
    },
    {
      "metadata": {
        "_kg_hide-input": false,
        "_uuid": "407cf718c2fbe852cc84d33ffebe955db6a4f69d",
        "trusted": true,
        "id": "CUmS1i3RKaSO",
        "colab_type": "code",
        "colab": {}
      },
      "cell_type": "code",
      "source": [
        "cpm_plaintext = char_per_million(chunks_plaintext)\n",
        "asciitop = np.argsort(-1*cpm_plaintext)\n",
        "asciitop_df = pd.DataFrame({'char':[chr(asciinum) for asciinum in asciitop],'char_per_million':cpm_plaintext[asciitop]},index=asciitop)"
      ],
      "execution_count": 0,
      "outputs": []
    },
    {
      "metadata": {
        "_kg_hide-input": true,
        "_uuid": "8410105ac9a349bf38d1e2cf471d0faa348268f7",
        "trusted": true,
        "id": "p0sKlj0SKaSZ",
        "colab_type": "code",
        "outputId": "d4fbb097-8467-42a5-fa98-436a17c8bf09",
        "colab": {
          "base_uri": "https://localhost:8080/",
          "height": 373
        }
      },
      "cell_type": "code",
      "source": [
        "# create a bar chart to highlight the top 40 most common characters\n",
        "fig, ax = plt.subplots(figsize=(15, 5))\n",
        "ax.plot(np.arange(40),asciitop_df['char_per_million'].iloc[0:40],color='blue', marker='o', markersize=10)\n",
        "ax.set_xticklabels([\"'\"+chr(asciinum)+\"'\" for asciinum in asciitop_df.index[0:30]])\n",
        "ax.set_xticks(np.arange(40))\n",
        "ax.tick_params(axis='both',labelsize=16)\n",
        "plt.ylabel('Occurrence per Million Characters',fontsize=10)\n",
        "plt.title('Top 30 ASCII Characters: Plaintext Source',fontsize=10)\n",
        "plt.show()\n",
        "print(\"Of the 128 possible ASCII values, only \"+ str(sum(cpm_plaintext>1)) +\" are used more than once per million\")"
      ],
      "execution_count": 0,
      "outputs": [
        {
          "output_type": "display_data",
          "data": {
            "image/png": "[encoded data removed]",
            "text/plain": [
              "<matplotlib.figure.Figure at 0x7faf2c4dd400>"
            ]
          },
          "metadata": {
            "tags": []
          }
        },
        {
          "output_type": "stream",
          "text": [
            "Of the 128 possible ASCII values, only 100 are used more than once per million\n"
          ],
          "name": "stdout"
        }
      ]
    },
    {
      "metadata": {
        "_kg_hide-input": false,
        "_uuid": "7edd5cf384bfa882153c87cf76747ba6296d3db6",
        "trusted": true,
        "id": "J46Id-3gKaSy",
        "colab_type": "code",
        "colab": {}
      },
      "cell_type": "code",
      "source": [
        "# the 5000 most common traditional words\n",
        "token_pattern = r\"[a-zA-Z0-9!@#$&()<>'=\\-]+\"\n",
        "totalchars = sum([len(cipherstring) for cipherstring in twenty_databunch.data])\n",
        "vectorizer = CountVectorizer(analyzer='word', max_features=5000)\n",
        "source_words = vectorizer.fit_transform(twenty_databunch.data)\n",
        "worddictionary2 = vectorizer.vocabulary_\n",
        "\n",
        "# the 5000 most common words, including one-letter words and symbols\n",
        "totalchars = sum([len(cipherstring) for cipherstring in twenty_databunch.data])\n",
        "vectorizer = CountVectorizer(analyzer='word', max_features=5000, token_pattern=token_pattern)\n",
        "source_words = vectorizer.fit_transform(twenty_databunch.data)\n",
        "worddictionary = vectorizer.vocabulary_\n",
        "# the word-per-million score from plaintext English that we try to match in deciphering\n",
        "wpm_plaintext = word_per_million(twenty_databunch.data,worddictionary)\n",
        "\n",
        "# the 1000 most common English ngrams\n",
        "n_ngram = 3\n",
        "totalchars = sum([len(cipherstring) for cipherstring in twenty_databunch.data])\n",
        "vectorizer = CountVectorizer(analyzer='char', \n",
        "                             max_features=1000,\n",
        "                             lowercase = False,\n",
        "                             ngram_range = (n_ngram,n_ngram) )\n",
        "source_words = vectorizer.fit_transform(twenty_databunch.data)\n",
        "ngramdictionary = vectorizer.vocabulary_\n",
        "# the word-per-million score from plaintext English that we try to match in deciphering\n",
        "npm_plaintext = ngram_per_million(twenty_databunch.data,ngramdictionary)"
      ],
      "execution_count": 0,
      "outputs": []
    },
    {
      "metadata": {
        "_kg_hide-input": true,
        "_uuid": "a7ed2440cc8e790848e61fb91ae900ae75180f1c",
        "trusted": true,
        "id": "NiDiR2nrKaS6",
        "colab_type": "code",
        "outputId": "2c3c430a-951d-49de-b3a0-dada367b439e",
        "colab": {
          "base_uri": "https://localhost:8080/",
          "height": 238
        }
      },
      "cell_type": "code",
      "source": [
        "# this dictionary dataframe will show the common words\n",
        "worddict_df = pd.DataFrame.from_dict(worddictionary, orient='index')\n",
        "worddict_df.reset_index(inplace=True)\n",
        "worddict_df.rename(index=str, columns={\"index\": \"word\", 0: \"dict_index\"},inplace=True)\n",
        "worddict_df.set_index('dict_index',inplace=True)\n",
        "worddict_df.sort_index(inplace=True)\n",
        "worddict_df['words_per_million'] = wpm_plaintext\n",
        "worddict_df.sort_values('words_per_million',ascending=False,inplace=True)\n",
        "print(\"Top 10 Most Common Words/Symbols\")\n",
        "print(worddict_df.head(10))"
      ],
      "execution_count": 0,
      "outputs": [
        {
          "output_type": "stream",
          "text": [
            "Top 10 Most Common Words/Symbols\n",
            "            word  words_per_million\n",
            "dict_index                         \n",
            "4468         the        6449.082807\n",
            "4540          to        3245.825370\n",
            "3222          of        3076.153569\n",
            "500            a        2758.216647\n",
            "649          and        2535.750792\n",
            "2422          in        2091.473553\n",
            "2529          is        1890.714344\n",
            "2363           i        1832.275471\n",
            "411            >        1736.858944\n",
            "4465        that        1679.101812\n"
          ],
          "name": "stdout"
        }
      ]
    },
    {
      "metadata": {
        "_uuid": "e187418d502fb0dbe9b0905d5f361057aa78b8ba",
        "id": "DksYa0AhKaTF",
        "colab_type": "text"
      },
      "cell_type": "markdown",
      "source": [
        "<h1> 3. Mapping Cipher 1</h1>\n",
        "\n",
        "Let's get started on cracking the cipher for `difficulty=1`.\n",
        "\n",
        "<h2>Observed character frequencies</h2>\n",
        "\n",
        "\n",
        "We can use the observed frequency of characters to identify them. In a transposition ciphertext, the characters show the same frequency of occurrence as normal English text. In contrast, a substitution cipher will produce ciphertext where each character has a different frequency than it would in English. But importantly, the probability distribution should look about the same--just with different characters.\n",
        "\n",
        "If the shape of the probability distribution changes, the cipher is more complicated. This could likely fall in the category of a \"polyalphabetic substitution cipher\", where the substitutions mapping changes from one letter to the next. \n",
        "\n",
        "So let's look at the distribution of observed characters per million."
      ]
    },
    {
      "metadata": {
        "_uuid": "3e015b77e4dadf8b3347cbe028b8f7110f60715b",
        "trusted": true,
        "id": "co5vbdsqKaTI",
        "colab_type": "code",
        "colab": {}
      },
      "cell_type": "code",
      "source": [
        "# we combine test and training data for greatest precision\n",
        "cpm_train = char_per_million(train_df[train_df['difficulty']==1]['ciphertext'])\n",
        "cpm_test =  char_per_million(test_df[test_df['difficulty']==1]['ciphertext'])\n",
        "cpm_cipher = 0.67*cpm_test + 0.33*cpm_train\n",
        "\n",
        "c1asciitop = np.argsort(-1*cpm_cipher)\n",
        "c1asciitop_df = pd.DataFrame({'char':[chr(asciinum) for asciinum in c1asciitop],\n",
        "                            'char_per_million':cpm_cipher[c1asciitop]},index=c1asciitop)"
      ],
      "execution_count": 0,
      "outputs": []
    },
    {
      "metadata": {
        "_uuid": "29725254db9b5c0fa71891dc123c4dad80ce77a0",
        "_kg_hide-input": true,
        "trusted": true,
        "id": "ipwoaogxKaTO",
        "colab_type": "code",
        "outputId": "a6acea49-a2d5-42f8-9f2c-062c861786c9",
        "colab": {
          "base_uri": "https://localhost:8080/",
          "height": 361
        }
      },
      "cell_type": "code",
      "source": [
        "# create a bar chart to highlight the top 40 most common characters\n",
        "fig, ax = plt.subplots(figsize=(15, 5))\n",
        "ax.bar(np.arange(30),\n",
        "       asciitop_df['char_per_million'].iloc[0:30],\n",
        "       tick_label = [\"'\"+chr(asciinum)+\"'\" for asciinum in c1asciitop_df.index[0:30]] )\n",
        "ax.plot(np.arange(30),asciitop_df['char_per_million'].iloc[0:30],color='red', marker='*', markersize=10)\n",
        "ax.tick_params(axis='both',labelsize=16)\n",
        "plt.ylabel('Occurrence per Million Characters',fontsize=16)\n",
        "plt.title('Top 30 ASCII Characters: Ciphertext Difficulty=1',fontsize=18)\n",
        "plt.legend(['Distribution for Top Characters in Source Data','Distribution for Difficulty=1'],fontsize=16)\n",
        "plt.show()\n",
        "print(\"Of the 128 possible ASCII values, only \"+ str(sum(cpm_cipher>1)) +\" are used more than once per million\")"
      ],
      "execution_count": 0,
      "outputs": [
        {
          "output_type": "display_data",
          "data": {
            "image/png": "[encoded data removed]",
            "text/plain": [
              "<matplotlib.figure.Figure at 0x7faf2cbd13c8>"
            ]
          },
          "metadata": {
            "tags": []
          }
        },
        {
          "output_type": "stream",
          "text": [
            "Of the 128 possible ASCII values, only 101 are used more than once per million\n"
          ],
          "name": "stdout"
        }
      ]
    },
    {
      "metadata": {
        "_uuid": "e529c13fbd00ba84ea32f64d19361894fd7cf80d",
        "id": "ddLJATcoKaTX",
        "colab_type": "text"
      },
      "cell_type": "markdown",
      "source": [
        "This is what we expect to see from a substitution cipher. Note the red line showing the shape of the distribution for the top characters in the source data: different letters but almost exactly the same distribution!\n",
        " \n",
        "Let's start deciphering by trying out a mapping between the characters of the plaintext and the ciphertext with the most similar frequency of occurrence. To do this, we will create an `asciimap` dataframe that connects each ciphertext characer in the index to a plaintext character in the `decipher` column. Then, if we just line up the frequency of letters ocurring in the plaintext English with the ciphertext, we can generate a first guess on a potential substitution mapping. Let's see how legible this is for the sample training data at `iloc[0]`:"
      ]
    },
    {
      "metadata": {
        "_uuid": "a481fb06c014d6c9fc404270b702024ff89b08df",
        "trusted": true,
        "id": "S6tFbtjLKaTa",
        "colab_type": "code",
        "colab": {}
      },
      "cell_type": "code",
      "source": [
        "asciimap = pd.DataFrame(asciitop, index=c1asciitop,columns=['decipher'])"
      ],
      "execution_count": 0,
      "outputs": []
    },
    {
      "metadata": {
        "_kg_hide-input": true,
        "_uuid": "ff23b31051abfb9b2b9b2b62b77fc83b13ff30f5",
        "trusted": true,
        "id": "qte6hZ6BKaTh",
        "colab_type": "code",
        "outputId": "5c923937-02e2-4bba-d436-2b42b539e050",
        "colab": {
          "base_uri": "https://localhost:8080/",
          "height": 136
        }
      },
      "cell_type": "code",
      "source": [
        "textstring = train_df[train_df['difficulty']==1]['ciphertext'].iloc[0]\n",
        "print('SAMPLE DECIPHER ATTEMPT:')\n",
        "print(decipher_subst(textstring,asciimap))"
      ],
      "execution_count": 0,
      "outputs": [
        {
          "output_type": "stream",
          "text": [
            "SAMPLE DECIPHER ATTEMPT:\n",
            "u )_ida 0haplynsIyM writes:\n",
            " A \n",
            " A 1 family member of mine is suffering from a se>ere depression brought on\n",
            " A by menopause as well as a mental breaI down.  'he is being treated with\n",
            " A 9alydol with some success but the treatments being pro>ided through her\n",
            " A psychiatrist are not satisfactory.  'om\n"
          ],
          "name": "stdout"
        }
      ]
    },
    {
      "metadata": {
        "_uuid": "a25ffadd18d37c829f1a171a769e271c7c7386b5",
        "id": "2Wj1pPKBKaTo",
        "colab_type": "text"
      },
      "cell_type": "markdown",
      "source": [
        "Not bad! At this point, the text is already legible enough to understand. We could finish deciphering manually by making a few corrections to the asciimap (i.e. we could turn the  >'s sideways to makes v's!). \n",
        "\n",
        "... but manual deciphering is no fun!  And automating and optimizing may create tools that we will need for deciphering the later ciphers."
      ]
    },
    {
      "metadata": {
        "_uuid": "31b8ab3a912d10584e90a0147abf03e012f26783",
        "id": "QyqE_06oKaTq",
        "colab_type": "text"
      },
      "cell_type": "markdown",
      "source": [
        "<h1> Finding actual plaintext in the source and fine-tuning</h1>\n",
        "The current `asciimap` substitution deciphering--while not perfect--is close enough to easily find the plaintext source and perfect the final substitutions in the cipher. Note that it takes about 25 seconds for `fuzzy wuzy` to find a match on a typical CPU."
      ]
    },
    {
      "metadata": {
        "_kg_hide-input": true,
        "trusted": true,
        "_uuid": "221d1124d1e8cf28463ad215242810936bf87f51",
        "id": "c8A2p6nJKaTt",
        "colab_type": "code",
        "outputId": "a63dd067-552f-4f76-a7be-fc7a1ac828e3",
        "colab": {
          "base_uri": "https://localhost:8080/",
          "height": 51
        }
      },
      "cell_type": "code",
      "source": [
        "%%time\n",
        "# Go through the plain text from the category and find the matching entry\n",
        "textstring = decipher_subst(train_df[train_df['difficulty']==1]['ciphertext'].iloc[0],asciimap)\n",
        "textcategory = train_df[train_df['difficulty']==1]['target'].iloc[0]\n",
        "sourcematch = process.extractOne(textstring, sourcetext_dict, scorer = fuzz.ratio)"
      ],
      "execution_count": 0,
      "outputs": [
        {
          "output_type": "stream",
          "text": [
            "CPU times: user 20.9 s, sys: 0 ns, total: 20.9 s\n",
            "Wall time: 20.9 s\n"
          ],
          "name": "stdout"
        }
      ]
    },
    {
      "metadata": {
        "_kg_hide-input": true,
        "trusted": true,
        "_uuid": "a194a180a1f47039760b48092a2ca9d863e0dfd6",
        "id": "vW707NP_KaT3",
        "colab_type": "code",
        "outputId": "2d314fe6-7d12-469f-9925-ef31bef2b544",
        "colab": {
          "base_uri": "https://localhost:8080/",
          "height": 204
        }
      },
      "cell_type": "code",
      "source": [
        "print('Found a match in source data with \"fuzz.ratio\" score of ' + str(fuzz.ratio(textstring,sourcematch[0])))\n",
        "print('Source data found in category = ' + category_names[chunk_df['target'].iloc[sourcematch[2]]])\n",
        "print('Matching text below:')\n",
        "print('----------------')\n",
        "print(sourcematch[0])\n",
        "print(' ')"
      ],
      "execution_count": 0,
      "outputs": [
        {
          "output_type": "stream",
          "text": [
            "Found a match in source data with \"fuzz.ratio\" score of 94\n",
            "Source data found in category = sci.med\n",
            "Matching text below:\n",
            "----------------\n",
            "u (Lida Chaplynsky) writes:\n",
            " > \n",
            " > A family member of mine is suffering from a severe depression brought on\n",
            " > by menopause as well as a mental break down.  She is being treated with\n",
            " > Halydol with some success but the treatments being provided through her\n",
            " > psychiatrist are not satisfactory.  Som\n",
            " \n"
          ],
          "name": "stdout"
        }
      ]
    },
    {
      "metadata": {
        "_uuid": "19a9efa3581c6d054eec9f2d6db0f2f55b0dfa08",
        "id": "1mNfiU_ZKaT_",
        "colab_type": "text"
      },
      "cell_type": "markdown",
      "source": [
        " While this level of accuracy is probably fine for identifying most of the `difficulty=1` ciphers, we may want to perfect the decryption. Getting the first cipher completely correct could help with the others.\n",
        " \n",
        " To fine-tune the mapping, let's take the identified matches and figure out which characters are not mapped correctly. We need a fairly large subset to find the rare characters, like \"K\", but going through so many example ciphers to find the rare characters eats significant time! For this step, it is helpful to use parallel processing (done here via `dask`)."
      ]
    },
    {
      "metadata": {
        "trusted": true,
        "_uuid": "e198eaaf007d4eacc10657b48facb9ded8f0aa89",
        "id": "NS01EQzGKaUC",
        "colab_type": "code",
        "outputId": "c5c189d4-fc23-42f3-b0a2-a183939574e8",
        "colab": {
          "base_uri": "https://localhost:8080/",
          "height": 51
        }
      },
      "cell_type": "code",
      "source": [
        "# subsample of ciphertext\n",
        "subset_size = 300\n",
        "tune_df = train_df[np.logical_and(train_df['difficulty']==1,\n",
        "                                    np.array([len(train_df['ciphertext'].iloc[idx]) for idx in range(len(train_df))])>250)]\n",
        "tuneindices = tune_df.index[:subset_size]\n",
        "        \n",
        "# function to match to source data for same category and length between 280 and 1200 characters\n",
        "def finetunematch(idx):\n",
        "    textstring = decipher_subst(tune_df['ciphertext'].loc[idx],asciimap)\n",
        "    selectindices = np.logical_and(chunk_df['target']==tune_df['target'].loc[idx],chunk_df['length']>250)\n",
        "    sourcematch = process.extractOne(textstring, \n",
        "                                     list(compress(chunks_plaintext, selectindices)), \n",
        "                                     scorer = fuzz.ratio)\n",
        "    return sourcematch[0], textstring, sourcematch[1]\n",
        "\n",
        "# parallel evaluation using Dask (big benefits for more CPUs)\n",
        "par_compute = [delayed(finetunematch)(idx) for idx in tuneindices]\n",
        "output_arrays = compute(*par_compute, scheduler='processes')"
      ],
      "execution_count": 0,
      "outputs": [
        {
          "output_type": "stream",
          "text": [
            "[########################################] | 100% Completed |  9min 42.0s\n",
            "[########################################] | 100% Completed |  9min 42.0s\n"
          ],
          "name": "stdout"
        }
      ]
    },
    {
      "metadata": {
        "_uuid": "e5699b3ea1acaeb856f23bdc8b0c520ff5e552b1",
        "id": "L5h0OXC_KaUJ",
        "colab_type": "text"
      },
      "cell_type": "markdown",
      "source": [
        "To help ensure the matches are high quality, let's only use matches where the text similarity, as measured by the `fuzz.ratio`, is higher than 80."
      ]
    },
    {
      "metadata": {
        "trusted": true,
        "_uuid": "5d9c4a3f7a966845a8a0726f80e8df290854836f",
        "_kg_hide-input": true,
        "id": "zeLJphe8KaUM",
        "colab_type": "code",
        "colab": {}
      },
      "cell_type": "code",
      "source": [
        "# select those with relatively high fuzzy.ratio scores\n",
        "minfuzzyscore = 80\n",
        "sourcematch_array = [arrays[0] for arrays in output_arrays]\n",
        "decipher_array = [arrays[1] for arrays in output_arrays]\n",
        "fuzzyscores_array = np.array([arrays[2] for arrays in output_arrays])\n",
        "sourcematch_array = list(compress(sourcematch_array, (fuzzyscores_array>=minfuzzyscore) ))\n",
        "decipher_array = list(compress(decipher_array, (fuzzyscores_array>=minfuzzyscore) ))\n",
        "cipher_array =  tune_df[:subset_size]['ciphertext']\n",
        "cipher_array = list(compress(cipher_array, (fuzzyscores_array>=minfuzzyscore) ))"
      ],
      "execution_count": 0,
      "outputs": []
    },
    {
      "metadata": {
        "_kg_hide-input": true,
        "trusted": true,
        "_uuid": "03b1d6595ff37218a2e013c2cd5c990a12a09784",
        "id": "VSeBpikDKaUl",
        "colab_type": "code",
        "outputId": "5dc12d0d-fcd7-43a8-f742-3e8c3d33c2b5",
        "colab": {
          "base_uri": "https://localhost:8080/",
          "height": 170
        }
      },
      "cell_type": "code",
      "source": [
        "print('In subsample, ' + str(np.sum(fuzzyscores_array>=minfuzzyscore)) + ' of the ' + str(subset_size) + ' have fuzzy.ratios > ' \n",
        "       + str(minfuzzyscore) + ' and will be used for fine-tuning')\n",
        "print(' ')\n",
        "print('Before fine-tuning the sub-sample:')\n",
        "gof = goodness_of_fit(cipher_array,asciimap=asciimap)\n",
        "print('Average fuzzy.ratio = ' + str(np.mean(fuzzyscores_array[fuzzyscores_array>=minfuzzyscore])))"
      ],
      "execution_count": 0,
      "outputs": [
        {
          "output_type": "stream",
          "text": [
            "In subsample, 270 of the 300 have fuzzy.ratios > 80 and will be used for fine-tuning\n",
            " \n",
            "Before fine-tuning the sub-sample:\n",
            "   Goodness-of-Fit vs Source Text   \n",
            "====================================\n",
            "Number of Recognized Words = 7889\n",
            "Word-per-Million Similarity = 0.5606182583046375\n",
            "Ngram-per-Million Similarity = 0.7036158859935282\n",
            "Average fuzzy.ratio = 91.24814814814815\n"
          ],
          "name": "stdout"
        }
      ]
    },
    {
      "metadata": {
        "_uuid": "7c965ab08d1d4115a761cbbe4c109fb18476b01d",
        "id": "Yo5ZTp_OKaUq",
        "colab_type": "text"
      },
      "cell_type": "markdown",
      "source": [
        "Using those matches, some of the most common character replacements needed to match the proposed decipher with the source text (using Levenshtein distance edits) are:"
      ]
    },
    {
      "metadata": {
        "trusted": true,
        "_uuid": "154571606c303d8ded66ee1924498989f8603d71",
        "_kg_hide-input": true,
        "id": "KMGIrme6KaUt",
        "colab_type": "code",
        "outputId": "cbf8b116-7440-4c59-a5a5-984d405c3b0b",
        "colab": {
          "base_uri": "https://localhost:8080/",
          "height": 359
        }
      },
      "cell_type": "code",
      "source": [
        "# initialize asciiswitchmat, a 128x128 matrix with rows numbers corresponding to ascii characters\n",
        "# that should be replaced by the ascii character of the column number\n",
        "asciiswitchmat = np.zeros([128,128],dtype=int)\n",
        "asciicount = np.zeros((128,), dtype=int)\n",
        "\n",
        "for i, textstring in enumerate(decipher_array):\n",
        "    asciiswitchmat += leven_replace_matrix(textstring,sourcematch_array[i])\n",
        "    asciicount += np.histogram(string2ascii(textstring),np.arange(129))[0]\n",
        "\n",
        "deciphererror_dict = {'ascii_replacement': [np.argmax(asciiswitchmat[i,...]) for i in range(128)],\n",
        "                      'char_decipher': [chr(i) for i in range(128)],\n",
        "                      'char_replacement': [chr(np.argmax(asciiswitchmat[i,...])) for i in range(128)],\n",
        "                      'numError': np.sum(asciiswitchmat,axis=1),\n",
        "                      'numReplace': [asciiswitchmat[i,np.argmax(asciiswitchmat[i,...])] for i in range(128)],\n",
        "                      'totalObs': asciicount}\n",
        "\n",
        "deciphererror_df = pd.DataFrame.from_dict(deciphererror_dict)\n",
        "deciphererror_df['pctError'] = deciphererror_df['numError'] / deciphererror_df['totalObs']\n",
        "deciphererror_df['pctBestReplace'] = deciphererror_df['numReplace'] / deciphererror_df['numError']  \n",
        "deciphererror_df.sort_values(by=['pctError'],ascending=False,inplace=True)\n",
        "deciphererror_df.head(10)"
      ],
      "execution_count": 0,
      "outputs": [
        {
          "output_type": "execute_result",
          "data": {
            "text/html": [
              "<div>\n",
              "<style scoped>\n",
              "    .dataframe tbody tr th:only-of-type {\n",
              "        vertical-align: middle;\n",
              "    }\n",
              "\n",
              "    .dataframe tbody tr th {\n",
              "        vertical-align: top;\n",
              "    }\n",
              "\n",
              "    .dataframe thead th {\n",
              "        text-align: right;\n",
              "    }\n",
              "</style>\n",
              "<table border=\"1\" class=\"dataframe\">\n",
              "  <thead>\n",
              "    <tr style=\"text-align: right;\">\n",
              "      <th></th>\n",
              "      <th>ascii_replacement</th>\n",
              "      <th>char_decipher</th>\n",
              "      <th>char_replacement</th>\n",
              "      <th>numError</th>\n",
              "      <th>numReplace</th>\n",
              "      <th>totalObs</th>\n",
              "      <th>pctError</th>\n",
              "      <th>pctBestReplace</th>\n",
              "    </tr>\n",
              "  </thead>\n",
              "  <tbody>\n",
              "    <tr>\n",
              "      <th>113</th>\n",
              "      <td>92</td>\n",
              "      <td>q</td>\n",
              "      <td>\\</td>\n",
              "      <td>1</td>\n",
              "      <td>1</td>\n",
              "      <td>1</td>\n",
              "      <td>1.000000</td>\n",
              "      <td>1.0</td>\n",
              "    </tr>\n",
              "    <tr>\n",
              "      <th>40</th>\n",
              "      <td>61</td>\n",
              "      <td>(</td>\n",
              "      <td>=</td>\n",
              "      <td>177</td>\n",
              "      <td>177</td>\n",
              "      <td>189</td>\n",
              "      <td>0.936508</td>\n",
              "      <td>1.0</td>\n",
              "    </tr>\n",
              "    <tr>\n",
              "      <th>93</th>\n",
              "      <td>37</td>\n",
              "      <td>]</td>\n",
              "      <td>%</td>\n",
              "      <td>3</td>\n",
              "      <td>3</td>\n",
              "      <td>4</td>\n",
              "      <td>0.750000</td>\n",
              "      <td>1.0</td>\n",
              "    </tr>\n",
              "    <tr>\n",
              "      <th>71</th>\n",
              "      <td>106</td>\n",
              "      <td>G</td>\n",
              "      <td>j</td>\n",
              "      <td>81</td>\n",
              "      <td>81</td>\n",
              "      <td>111</td>\n",
              "      <td>0.729730</td>\n",
              "      <td>1.0</td>\n",
              "    </tr>\n",
              "    <tr>\n",
              "      <th>90</th>\n",
              "      <td>93</td>\n",
              "      <td>Z</td>\n",
              "      <td>]</td>\n",
              "      <td>10</td>\n",
              "      <td>10</td>\n",
              "      <td>14</td>\n",
              "      <td>0.714286</td>\n",
              "      <td>1.0</td>\n",
              "    </tr>\n",
              "    <tr>\n",
              "      <th>96</th>\n",
              "      <td>90</td>\n",
              "      <td>`</td>\n",
              "      <td>Z</td>\n",
              "      <td>8</td>\n",
              "      <td>8</td>\n",
              "      <td>12</td>\n",
              "      <td>0.666667</td>\n",
              "      <td>1.0</td>\n",
              "    </tr>\n",
              "    <tr>\n",
              "      <th>88</th>\n",
              "      <td>82</td>\n",
              "      <td>X</td>\n",
              "      <td>R</td>\n",
              "      <td>90</td>\n",
              "      <td>90</td>\n",
              "      <td>140</td>\n",
              "      <td>0.642857</td>\n",
              "      <td>1.0</td>\n",
              "    </tr>\n",
              "    <tr>\n",
              "      <th>63</th>\n",
              "      <td>122</td>\n",
              "      <td>?</td>\n",
              "      <td>z</td>\n",
              "      <td>77</td>\n",
              "      <td>77</td>\n",
              "      <td>120</td>\n",
              "      <td>0.641667</td>\n",
              "      <td>1.0</td>\n",
              "    </tr>\n",
              "    <tr>\n",
              "      <th>106</th>\n",
              "      <td>47</td>\n",
              "      <td>j</td>\n",
              "      <td>/</td>\n",
              "      <td>20</td>\n",
              "      <td>20</td>\n",
              "      <td>32</td>\n",
              "      <td>0.625000</td>\n",
              "      <td>1.0</td>\n",
              "    </tr>\n",
              "    <tr>\n",
              "      <th>41</th>\n",
              "      <td>40</td>\n",
              "      <td>)</td>\n",
              "      <td>(</td>\n",
              "      <td>120</td>\n",
              "      <td>120</td>\n",
              "      <td>192</td>\n",
              "      <td>0.625000</td>\n",
              "      <td>1.0</td>\n",
              "    </tr>\n",
              "  </tbody>\n",
              "</table>\n",
              "</div>"
            ],
            "text/plain": [
              "     ascii_replacement char_decipher char_replacement  numError  numReplace  \\\n",
              "113                 92             q                \\         1           1   \n",
              "40                  61             (                =       177         177   \n",
              "93                  37             ]                %         3           3   \n",
              "71                 106             G                j        81          81   \n",
              "90                  93             Z                ]        10          10   \n",
              "96                  90             `                Z         8           8   \n",
              "88                  82             X                R        90          90   \n",
              "63                 122             ?                z        77          77   \n",
              "106                 47             j                /        20          20   \n",
              "41                  40             )                (       120         120   \n",
              "\n",
              "     totalObs  pctError  pctBestReplace  \n",
              "113         1  1.000000             1.0  \n",
              "40        189  0.936508             1.0  \n",
              "93          4  0.750000             1.0  \n",
              "71        111  0.729730             1.0  \n",
              "90         14  0.714286             1.0  \n",
              "96         12  0.666667             1.0  \n",
              "88        140  0.642857             1.0  \n",
              "63        120  0.641667             1.0  \n",
              "106        32  0.625000             1.0  \n",
              "41        192  0.625000             1.0  "
            ]
          },
          "metadata": {
            "tags": []
          },
          "execution_count": 125
        }
      ]
    },
    {
      "metadata": {
        "trusted": true,
        "_uuid": "0f7f38abed7b326b3f718f010a4aaca9d047ef55",
        "id": "rbEHZ9TTKaUz",
        "colab_type": "code",
        "colab": {}
      },
      "cell_type": "code",
      "source": [
        "# correct the identified errors in character substitution\n",
        "errorprone = np.logical_and(deciphererror_df['totalObs']>=1,\n",
        "                            np.logical_and(deciphererror_df['pctError']>=0.01*(100-minfuzzyscore),\n",
        "                                           deciphererror_df['pctBestReplace']>=0.5)),\n",
        "decipherchars = deciphererror_df.index[errorprone]\n",
        "improvementchars = deciphererror_df['ascii_replacement'].loc[errorprone].values\n",
        "tmpasciimap = asciimap.copy()\n",
        "for i,decipherchar in enumerate(decipherchars):\n",
        "    asciimap['decipher'].loc[tmpasciimap['decipher'].values==decipherchar] = improvementchars[i]"
      ],
      "execution_count": 0,
      "outputs": []
    },
    {
      "metadata": {
        "_uuid": "ed80b5f1b65ea860499dbc7ea6b4c614b048cec3",
        "id": "a-9fPzDnKaU5",
        "colab_type": "text"
      },
      "cell_type": "markdown",
      "source": [
        "Now we should have a fairly accurate solution. Let's check goodness-of-fit statistics as well as our decryption of the sample cipher at `iloc[0]`"
      ]
    },
    {
      "metadata": {
        "_kg_hide-input": true,
        "trusted": true,
        "_uuid": "bfd4a6c0b9cd679f6b5322a76e2bb9421a3a5863",
        "id": "S-81YyiRKaU7",
        "colab_type": "code",
        "outputId": "7ab5178b-cf16-4b00-e6b2-4dc9bec5c37e",
        "colab": {
          "base_uri": "https://localhost:8080/",
          "height": 119
        }
      },
      "cell_type": "code",
      "source": [
        "print('After fine-tuning the sub-sample:')\n",
        "gof = goodness_of_fit(cipher_array,asciimap=asciimap)"
      ],
      "execution_count": 0,
      "outputs": [
        {
          "output_type": "stream",
          "text": [
            "After fine-tuning the sub-sample:\n",
            "   Goodness-of-Fit vs Source Text   \n",
            "====================================\n",
            "Number of Recognized Words = 10348\n",
            "Word-per-Million Similarity = 0.8087210067125508\n",
            "Ngram-per-Million Similarity = 0.7888522723335183\n"
          ],
          "name": "stdout"
        }
      ]
    },
    {
      "metadata": {
        "_kg_hide-input": true,
        "trusted": true,
        "_uuid": "b20f81518b9903bc3beb615b19d1da1cb15b3412",
        "id": "30FHB4OcKaVC",
        "colab_type": "code",
        "outputId": "b0e226be-592e-4ace-fb91-bad1a2a44409",
        "colab": {
          "base_uri": "https://localhost:8080/",
          "height": 136
        }
      },
      "cell_type": "code",
      "source": [
        "textstring = train_df[train_df['difficulty']==1]['ciphertext'].iloc[0]\n",
        "print('FINAL DECIPHER:')\n",
        "print(decipher_subst(textstring,asciimap))"
      ],
      "execution_count": 0,
      "outputs": [
        {
          "output_type": "stream",
          "text": [
            "FINAL DECIPHER:\n",
            "u (Lida Chaplynsky) writes:\n",
            " > \n",
            " > A family member of mine is suffering from a severe depression brought on\n",
            " > by menopause as well as a mental break down.  She is being treated with\n",
            " > Halydol with some success but the treatments being provided through her\n",
            " > psychiatrist are not satisfactory.  Som\n"
          ],
          "name": "stdout"
        }
      ]
    },
    {
      "metadata": {
        "_uuid": "4a232085b908ef42efc046968228b47bae464213",
        "id": "Fz1W9eG0KaVI",
        "colab_type": "text"
      },
      "cell_type": "markdown",
      "source": [
        "This looks great and exactly matches the source. Let's now decipher all the test data."
      ]
    },
    {
      "metadata": {
        "trusted": true,
        "_uuid": "fc30ca96433b365495e83cfde52220a1d0bafc28",
        "id": "ZnpA6SSLKaVP",
        "colab_type": "code",
        "colab": {}
      },
      "cell_type": "code",
      "source": [
        "%%time\n",
        "test_df['plaintext'] = ['']*len(test_df)\n",
        "# fill in plaintext for test data\n",
        "c1indices = test_df[test_df['difficulty']==1].index\n",
        "test_df.loc[c1indices,'plaintext'] = [decipher_subst(test_df['ciphertext'].loc[idx],asciimap) for idx in c1indices]"
      ],
      "execution_count": 0,
      "outputs": []
    },
    {
      "metadata": {
        "id": "ZQoeEUrl8eID",
        "colab_type": "code",
        "outputId": "985a6c4f-48cf-45a5-eed2-25a57d697691",
        "colab": {
          "base_uri": "https://localhost:8080/",
          "height": 204
        }
      },
      "cell_type": "code",
      "source": [
        "test_df.head()"
      ],
      "execution_count": 0,
      "outputs": [
        {
          "output_type": "execute_result",
          "data": {
            "text/html": [
              "<div>\n",
              "<style scoped>\n",
              "    .dataframe tbody tr th:only-of-type {\n",
              "        vertical-align: middle;\n",
              "    }\n",
              "\n",
              "    .dataframe tbody tr th {\n",
              "        vertical-align: top;\n",
              "    }\n",
              "\n",
              "    .dataframe thead th {\n",
              "        text-align: right;\n",
              "    }\n",
              "</style>\n",
              "<table border=\"1\" class=\"dataframe\">\n",
              "  <thead>\n",
              "    <tr style=\"text-align: right;\">\n",
              "      <th></th>\n",
              "      <th>Id</th>\n",
              "      <th>difficulty</th>\n",
              "      <th>ciphertext</th>\n",
              "      <th>length</th>\n",
              "    </tr>\n",
              "  </thead>\n",
              "  <tbody>\n",
              "    <tr>\n",
              "      <th>0</th>\n",
              "      <td>ID_65f17e60f</td>\n",
              "      <td>1</td>\n",
              "      <td>a\u00021t0\u001b1OAAata^\u0002O81\u001e/e1'O_f1q1at;v1'#\u001bttos1QQv8...</td>\n",
              "      <td>300</td>\n",
              "    </tr>\n",
              "    <tr>\n",
              "      <th>1</th>\n",
              "      <td>ID_ba83b2917</td>\n",
              "      <td>2</td>\n",
              "      <td>^V*$z8d*e4z8\u001b8SF38e*8|8SFO8Hh}m}[8^7$\u00108A84ej\u0010{...</td>\n",
              "      <td>300</td>\n",
              "    </tr>\n",
              "    <tr>\n",
              "      <th>2</th>\n",
              "      <td>ID_ff4e56b9c</td>\n",
              "      <td>3</td>\n",
              "      <td>$*c8?l{{?$8G\u0018iw{8{7$8Z9J8Edj?O$*8\b_n}{87U\u0003$8{7...</td>\n",
              "      <td>300</td>\n",
              "    </tr>\n",
              "    <tr>\n",
              "      <th>3</th>\n",
              "      <td>ID_81b64cbc5</td>\n",
              "      <td>2</td>\n",
              "      <td>nL6! 8lL\u00066M84VkVoh\u0010$\u001a88\u00067h}8h}88\f,\u00068z888888888...</td>\n",
              "      <td>300</td>\n",
              "    </tr>\n",
              "    <tr>\n",
              "      <th>4</th>\n",
              "      <td>ID_851f738e5</td>\n",
              "      <td>2</td>\n",
              "      <td>}8z8}{Vv$H8h\u001086*4$\u0010hVWz8z8\\\b%p8\\Sp8lf9V*{7v[8\\...</td>\n",
              "      <td>300</td>\n",
              "    </tr>\n",
              "  </tbody>\n",
              "</table>\n",
              "</div>"
            ],
            "text/plain": [
              "             Id  difficulty  \\\n",
              "0  ID_65f17e60f           1   \n",
              "1  ID_ba83b2917           2   \n",
              "2  ID_ff4e56b9c           3   \n",
              "3  ID_81b64cbc5           2   \n",
              "4  ID_851f738e5           2   \n",
              "\n",
              "                                          ciphertext  length  \n",
              "0  a\u00021t0\u001b1OAAata^\u0002O81\n",
              "/e1'O_f1q1at;v1'#\u001bttos1QQv8...     300  \n",
              "1  ^V*$z8d*e4z8\u001b8SF38e*8|8SFO8Hh}m}[8^7$\u00108A84ej\u0010{...     300  \n",
              "2  $*c8?l{{?$8G\u0018iw{8{7$8Z9J8Edj?O$*8\b_n}{87U\u0003$8{7...     300  \n",
              "3  nL6! 8lL\u00066M84VkVoh\u0010$\u001a88\u00067h}8h}88\n",
              ",\u00068z888888888...     300  \n",
              "4  }8z8}{Vv$H8h\u001086*4$\u0010hVWz8z8\\\b%p8\\Sp8lf9V*{7v[8\\...     300  "
            ]
          },
          "metadata": {
            "tags": []
          },
          "execution_count": 32
        }
      ]
    },
    {
      "metadata": {
        "id": "VKNrKkRx8jrU",
        "colab_type": "code",
        "outputId": "b0946fc9-c9e9-4a38-d318-b42fd74ef2e9",
        "colab": {
          "base_uri": "https://localhost:8080/",
          "height": 204
        }
      },
      "cell_type": "code",
      "source": [
        "train_df.head()"
      ],
      "execution_count": 0,
      "outputs": [
        {
          "output_type": "execute_result",
          "data": {
            "text/html": [
              "<div>\n",
              "<style scoped>\n",
              "    .dataframe tbody tr th:only-of-type {\n",
              "        vertical-align: middle;\n",
              "    }\n",
              "\n",
              "    .dataframe tbody tr th {\n",
              "        vertical-align: top;\n",
              "    }\n",
              "\n",
              "    .dataframe thead th {\n",
              "        text-align: right;\n",
              "    }\n",
              "</style>\n",
              "<table border=\"1\" class=\"dataframe\">\n",
              "  <thead>\n",
              "    <tr style=\"text-align: right;\">\n",
              "      <th></th>\n",
              "      <th>Id</th>\n",
              "      <th>difficulty</th>\n",
              "      <th>ciphertext</th>\n",
              "      <th>target</th>\n",
              "    </tr>\n",
              "  </thead>\n",
              "  <tbody>\n",
              "    <tr>\n",
              "      <th>0</th>\n",
              "      <td>ID_88b9bbd73</td>\n",
              "      <td>4</td>\n",
              "      <td>ob|I\u0006\fK?zzhX*L{83B3Z,\u0006FuL*Pusm$83L\\t@r$$*38,8s...</td>\n",
              "      <td>10</td>\n",
              "    </tr>\n",
              "    <tr>\n",
              "      <th>1</th>\n",
              "      <td>ID_f489bd59f</td>\n",
              "      <td>1</td>\n",
              "      <td>c1|FaAO120O'8o\u0002vfoy1W#at\u001bvGs1[1s1[1/1]O-a8o1-\u001b...</td>\n",
              "      <td>13</td>\n",
              "    </tr>\n",
              "    <tr>\n",
              "      <th>2</th>\n",
              "      <td>ID_f90fee9c7</td>\n",
              "      <td>2</td>\n",
              "      <td>1*e4N8$f$0ccOui\u0018hkHek\u001a$\u0010k*\u001aV*hoe\u0010V\u001a$Hj8\bV\u0003hH8...</td>\n",
              "      <td>19</td>\n",
              "    </tr>\n",
              "    <tr>\n",
              "      <th>3</th>\n",
              "      <td>ID_8303ced65</td>\n",
              "      <td>1</td>\n",
              "      <td>O8v^10\u001bO#to1'#^'^\u0002\u001b\u0002tv1^]s111t0\u001b1O\u0002taq&gt;\u001b-ata_1...</td>\n",
              "      <td>17</td>\n",
              "    </tr>\n",
              "    <tr>\n",
              "      <th>4</th>\n",
              "      <td>ID_72abc2cb7</td>\n",
              "      <td>2</td>\n",
              "      <td>e\u001aV}H\u001a}kh\u001afe4b8'S.Vc}{A\f\f.#VikV.\u001afV?{$f7\u001a$Hjb8...</td>\n",
              "      <td>0</td>\n",
              "    </tr>\n",
              "  </tbody>\n",
              "</table>\n",
              "</div>"
            ],
            "text/plain": [
              "             Id  difficulty  \\\n",
              "0  ID_88b9bbd73           4   \n",
              "1  ID_f489bd59f           1   \n",
              "2  ID_f90fee9c7           2   \n",
              "3  ID_8303ced65           1   \n",
              "4  ID_72abc2cb7           2   \n",
              "\n",
              "                                          ciphertext  target  \n",
              "0  ob|I\u0006\n",
              "K?zzhX*L{83B3Z,\u0006FuL*Pusm$83L\\t@r$$*38,8s...      10  \n",
              "1  c1|FaAO120O'8o\u0002vfoy1W#at\u001bvGs1[1s1[1/1]O-a8o1-\u001b...      13  \n",
              "2  1*e4N8$f$0ccOui\u0018hkHek\u001a$\u0010k*\u001aV*hoe\u0010V\u001a$Hj8\bV\u0003hH8...      19  \n",
              "3  O8v^10\u001bO#to1'#^'^\u0002\u001b\u0002tv1^]s111t0\u001b1O\u0002taq>\u001b-ata_1...      17  \n",
              "4  e\u001aV}H\u001a}kh\u001afe4b8'S.Vc}{A\n",
              "\n",
              ".#VikV.\u001afV?{$f7\u001a$Hjb8...       0  "
            ]
          },
          "metadata": {
            "tags": []
          },
          "execution_count": 33
        }
      ]
    },
    {
      "metadata": {
        "id": "Pjgvf4dL8r2E",
        "colab_type": "code",
        "colab": {}
      },
      "cell_type": "code",
      "source": [
        "train_df1=train_df[train_df['difficulty']==1]"
      ],
      "execution_count": 0,
      "outputs": []
    },
    {
      "metadata": {
        "id": "XisMCFi39YkD",
        "colab_type": "code",
        "colab": {}
      },
      "cell_type": "code",
      "source": [
        "def decipher_subst1(textstring):\n",
        "    inarray = string2ascii(textstring)\n",
        "    outarray = np.zeros(len(inarray),dtype=np.int8)\n",
        "    for asciival in asciimap.index:\n",
        "        outarray[inarray==asciival] = asciimap['decipher'].loc[asciival]\n",
        "    return ascii2string(outarray)\n"
      ],
      "execution_count": 0,
      "outputs": []
    },
    {
      "metadata": {
        "id": "Td_0X1gc87wU",
        "colab_type": "code",
        "colab": {}
      },
      "cell_type": "code",
      "source": [
        "train_df1['deciphrer_text']=train_df1['ciphertext'].apply(decipher_subst1)"
      ],
      "execution_count": 0,
      "outputs": []
    },
    {
      "metadata": {
        "id": "jJacGLtshLjg",
        "colab_type": "code",
        "colab": {}
      },
      "cell_type": "code",
      "source": [
        "import nltk\n",
        "nltk.download('stopwords')\n",
        "stop = set(stopwords.words('english'))\n",
        "sno = nltk.stem.SnowballStemmer('english')"
      ],
      "execution_count": 0,
      "outputs": []
    },
    {
      "metadata": {
        "id": "w61DNcOvG55U",
        "colab_type": "code",
        "colab": {}
      },
      "cell_type": "code",
      "source": [
        "def removestop(text):\n",
        "  words=text.split()\n",
        "  no_stop=[sno.stem(word) for word in words if word not in stop and len(word)>2]\n",
        "  final_text = \" \".join(no_stop)\n",
        "  return final_text\n",
        "\n",
        "def cleanpunc(sentence):\n",
        "  cleaned = re.sub(r'[?|!|\\'\u0005|\"|\u0010{}#*<>+~@\u0018$%&\u0003:\\x02\\x08\\x1b;-_]',r'',sentence)\n",
        "  cleaned = re.sub(r'[.|,|)|(|\\|/-]',r' ',cleaned)\n",
        "  x = re.sub(r\"([0-9])\", r\"\", cleaned)\n",
        "  return x"
      ],
      "execution_count": 0,
      "outputs": []
    },
    {
      "metadata": {
        "id": "bPC0UAXPRXoC",
        "colab_type": "code",
        "colab": {}
      },
      "cell_type": "code",
      "source": [
        "train_df1['Cleaned_text']=train_df1['deciphrer_text'].map(cleanpunc).map(removestop)\n",
        "chunk_df['Cleaned_text']=chunk_df['plaintext'].map(cleanpunc).map(removestop)\n"
      ],
      "execution_count": 0,
      "outputs": []
    },
    {
      "metadata": {
        "id": "3b6r1Jr9jtb8",
        "colab_type": "code",
        "colab": {}
      },
      "cell_type": "code",
      "source": [
        "X_train=chunk_df['Cleaned_text'].values\n",
        "X_test=train_df1['Cleaned_text'].values\n",
        "y_train=chunk_df['target']\n",
        "y_test=train_df1['target']"
      ],
      "execution_count": 0,
      "outputs": []
    },
    {
      "metadata": {
        "id": "MgA2Re83tmZ7",
        "colab_type": "code",
        "colab": {}
      },
      "cell_type": "code",
      "source": [
        "test_df1=test_df[test_df['difficulty']==1]\n",
        "test_df1['deciphrer_text']=test_df1['ciphertext'].apply(decipher_subst1)\n",
        "test_df1['Cleaned_text']=test_df1['deciphrer_text'].map(cleanpunc).map(removestop)"
      ],
      "execution_count": 0,
      "outputs": []
    },
    {
      "metadata": {
        "id": "za-5mzqPueLd",
        "colab_type": "code",
        "colab": {}
      },
      "cell_type": "code",
      "source": [
        "Kaggle_test1=test_df1['Cleaned_text'].values"
      ],
      "execution_count": 0,
      "outputs": []
    },
    {
      "metadata": {
        "id": "XhUn1vvPpviv",
        "colab_type": "text"
      },
      "cell_type": "markdown",
      "source": [
        "<h2>Using SGDClassifier</h2>"
      ]
    },
    {
      "metadata": {
        "id": "9-BedA0Hobm2",
        "colab_type": "code",
        "outputId": "c014bb99-3327-4098-8f10-dd47438b1f66",
        "colab": {
          "base_uri": "https://localhost:8080/",
          "height": 136
        }
      },
      "cell_type": "code",
      "source": [
        "clf0 = Pipeline([\n",
        "    ('vectorizer', sktext.CountVectorizer(lowercase=True, ngram_range = (1,2))),\n",
        "    ('tfidf', sktext.TfidfTransformer()),\n",
        "    ('clf0', SGDClassifier(loss='log',alpha=0.0001,penalty='l2'))\n",
        "])\n",
        "\n",
        "clf0.fit(X_train, y_train)"
      ],
      "execution_count": 0,
      "outputs": [
        {
          "output_type": "execute_result",
          "data": {
            "text/plain": [
              "Pipeline(memory=None,\n",
              "     steps=[('vectorizer', CountVectorizer(analyzer='word', binary=False, decode_error='strict',\n",
              "        dtype=<class 'numpy.int64'>, encoding='utf-8', input='content',\n",
              "        lowercase=True, max_df=1.0, max_features=None, min_df=1,\n",
              "        ngram_range=(1, 2), preprocessor=None, stop_words=None,\n",
              "       ...m_state=None, shuffle=True, tol=None,\n",
              "       validation_fraction=0.1, verbose=0, warm_start=False))])"
            ]
          },
          "metadata": {
            "tags": []
          },
          "execution_count": 158
        }
      ]
    },
    {
      "metadata": {
        "id": "FWxG8x93ox8r",
        "colab_type": "code",
        "outputId": "25a39a58-56f8-4f09-9d13-3af3021c9021",
        "colab": {
          "base_uri": "https://localhost:8080/",
          "height": 476
        }
      },
      "cell_type": "code",
      "source": [
        "predictions0=clf0.predict(X_test)\n",
        "print(classification_report(y_test,predictions0 ))"
      ],
      "execution_count": 0,
      "outputs": [
        {
          "output_type": "stream",
          "text": [
            "              precision    recall  f1-score   support\n",
            "\n",
            "           0       0.80      0.40      0.54       420\n",
            "           1       0.81      0.59      0.68       465\n",
            "           2       0.17      0.83      0.28       360\n",
            "           3       0.68      0.36      0.47       346\n",
            "           4       0.97      0.19      0.31       320\n",
            "           5       0.61      0.53      0.57       466\n",
            "           6       0.91      0.24      0.38       361\n",
            "           7       0.86      0.45      0.59       331\n",
            "           8       0.92      0.42      0.58       380\n",
            "           9       0.94      0.52      0.67       486\n",
            "          10       0.78      0.75      0.76       540\n",
            "          11       0.71      0.70      0.70       563\n",
            "          12       0.94      0.27      0.42       344\n",
            "          13       0.87      0.69      0.77       482\n",
            "          14       0.83      0.70      0.76       576\n",
            "          15       0.57      0.86      0.69       765\n",
            "          16       0.75      0.59      0.66       471\n",
            "          17       0.45      0.96      0.61       834\n",
            "          18       0.77      0.60      0.68       675\n",
            "          19       0.86      0.05      0.09       404\n",
            "\n",
            "   micro avg       0.59      0.59      0.59      9589\n",
            "   macro avg       0.76      0.54      0.56      9589\n",
            "weighted avg       0.74      0.59      0.59      9589\n",
            "\n"
          ],
          "name": "stdout"
        }
      ]
    },
    {
      "metadata": {
        "id": "Flov0Z1-pk5E",
        "colab_type": "text"
      },
      "cell_type": "markdown",
      "source": [
        "<h2>Using KNN</h2>"
      ]
    },
    {
      "metadata": {
        "id": "yA1OsDararw7",
        "colab_type": "code",
        "outputId": "8db2c97d-f093-413d-bf56-bfa28d54f20f",
        "colab": {
          "base_uri": "https://localhost:8080/",
          "height": 153
        }
      },
      "cell_type": "code",
      "source": [
        "clf = Pipeline([\n",
        "    ('vectorizer', sktext.CountVectorizer(lowercase=True, ngram_range = (1,2))),\n",
        "    ('tfidf', sktext.TfidfTransformer()),\n",
        "    ('clf', KNeighborsClassifier(n_neighbors = 1))\n",
        "])\n",
        "\n",
        "clf.fit(X_train, y_train)"
      ],
      "execution_count": 0,
      "outputs": [
        {
          "output_type": "execute_result",
          "data": {
            "text/plain": [
              "Pipeline(memory=None,\n",
              "     steps=[('vectorizer', CountVectorizer(analyzer='word', binary=False, decode_error='strict',\n",
              "        dtype=<class 'numpy.int64'>, encoding='utf-8', input='content',\n",
              "        lowercase=True, max_df=1.0, max_features=None, min_df=1,\n",
              "        ngram_range=(1, 2), preprocessor=None, stop_words=None,\n",
              "       ...ki',\n",
              "           metric_params=None, n_jobs=None, n_neighbors=1, p=2,\n",
              "           weights='uniform'))])"
            ]
          },
          "metadata": {
            "tags": []
          },
          "execution_count": 146
        }
      ]
    },
    {
      "metadata": {
        "id": "JUxGkfdXk1ku",
        "colab_type": "code",
        "colab": {}
      },
      "cell_type": "code",
      "source": [
        "predictions=clf.predict(X_test)"
      ],
      "execution_count": 0,
      "outputs": []
    },
    {
      "metadata": {
        "id": "uICHgTbpY33K",
        "colab_type": "code",
        "outputId": "98a1b8f7-bc48-45c0-f340-eef0d7642c59",
        "colab": {
          "base_uri": "https://localhost:8080/",
          "height": 476
        }
      },
      "cell_type": "code",
      "source": [
        "print(classification_report(y_test,predictions ))"
      ],
      "execution_count": 0,
      "outputs": [
        {
          "output_type": "stream",
          "text": [
            "              precision    recall  f1-score   support\n",
            "\n",
            "           0       1.00      0.99      1.00       420\n",
            "           1       1.00      0.99      0.99       465\n",
            "           2       0.99      0.99      0.99       360\n",
            "           3       0.99      0.97      0.98       346\n",
            "           4       1.00      0.99      0.99       320\n",
            "           5       0.99      0.77      0.87       466\n",
            "           6       1.00      0.96      0.98       361\n",
            "           7       1.00      0.99      0.99       331\n",
            "           8       0.99      0.97      0.98       380\n",
            "           9       1.00      0.98      0.99       486\n",
            "          10       0.69      1.00      0.82       540\n",
            "          11       0.99      0.97      0.98       563\n",
            "          12       0.99      0.99      0.99       344\n",
            "          13       1.00      0.98      0.99       482\n",
            "          14       1.00      0.99      0.99       576\n",
            "          15       1.00      0.99      1.00       765\n",
            "          16       1.00      0.92      0.95       471\n",
            "          17       1.00      0.99      1.00       834\n",
            "          18       1.00      0.99      1.00       675\n",
            "          19       1.00      1.00      1.00       404\n",
            "\n",
            "   micro avg       0.97      0.97      0.97      9589\n",
            "   macro avg       0.98      0.97      0.97      9589\n",
            "weighted avg       0.98      0.97      0.97      9589\n",
            "\n"
          ],
          "name": "stdout"
        }
      ]
    },
    {
      "metadata": {
        "id": "emXtm2yAeFuF",
        "colab_type": "code",
        "outputId": "8721d542-fd3f-44dc-95ed-26d561865ba6",
        "colab": {
          "base_uri": "https://localhost:8080/",
          "height": 462
        }
      },
      "cell_type": "code",
      "source": [
        "plt.figure(figsize=(20,7))\n",
        "sns.heatmap(metrics.confusion_matrix(y_test,predictions),annot=True)\n",
        "print(\"Confusion_Matrix for Difficulty == 1\")\n",
        "print(\"=\"*80)"
      ],
      "execution_count": 0,
      "outputs": [
        {
          "output_type": "stream",
          "text": [
            "Confusion_Matrix for Difficulty == 1\n",
            "================================================================================\n"
          ],
          "name": "stdout"
        },
        {
          "output_type": "display_data",
          "data": {
            "image/png": "[encoded data removed]",
            "text/plain": [
              "<matplotlib.figure.Figure at 0x7faf2ba634e0>"
            ]
          },
          "metadata": {
            "tags": []
          }
        }
      ]
    },
    {
      "metadata": {
        "id": "cNifFWAXv5o1",
        "colab_type": "code",
        "colab": {}
      },
      "cell_type": "code",
      "source": [
        "test_df1['Predicted']=clf.predict(Kaggle_test1)"
      ],
      "execution_count": 0,
      "outputs": []
    },
    {
      "metadata": {
        "_uuid": "8596adf73128a0c3e81e3e7e67b1ddd47434f941",
        "id": "ujDVMgcVKaVU",
        "colab_type": "text"
      },
      "cell_type": "markdown",
      "source": [
        "<h2>4. Mapping Difficulty 2</h2>\n",
        "We can follow the exact same proces in examining cipher #2. First let's look at the distribution of ascii characters."
      ]
    },
    {
      "metadata": {
        "_kg_hide-input": true,
        "trusted": true,
        "_uuid": "5f2c4982f734fbbd0452194c6d23ea72bc2f77d9",
        "id": "OhsINTJwKaVX",
        "colab_type": "code",
        "outputId": "892794a7-0405-45d2-82f1-b404c8da35f1",
        "colab": {
          "base_uri": "https://localhost:8080/",
          "height": 395
        }
      },
      "cell_type": "code",
      "source": [
        "%%time\n",
        "cpm_plaintext = char_per_million(chunks_plaintext)\n",
        "asciitop = np.argsort(-1*cpm_plaintext)\n",
        "asciitop_df = pd.DataFrame({'char':[chr(asciinum) for asciinum in asciitop],'char_per_million':cpm_plaintext[asciitop]},index=asciitop)\n",
        "\n",
        "# we combine test and training data for greatest precision\n",
        "cpm_train = char_per_million(train_df[train_df['difficulty']==2]['ciphertext'])\n",
        "cpm_test =  char_per_million(test_df[test_df['difficulty']==2]['ciphertext'])\n",
        "cpm_cipher = 0.67*cpm_test + 0.33*cpm_train\n",
        "\n",
        "c2asciitop = np.argsort(-1*cpm_cipher)\n",
        "c2asciitop_df = pd.DataFrame({'char':[chr(asciinum) for asciinum in c1asciitop],\n",
        "                            'char_per_million':cpm_cipher[c2asciitop]},index=c2asciitop)\n",
        "\n",
        "# create a bar chart to highlight the top 40 most common characters\n",
        "fig, ax = plt.subplots(figsize=(15, 5))\n",
        "ax.bar(np.arange(30),\n",
        "       c2asciitop_df['char_per_million'].iloc[0:30],\n",
        "       tick_label = [\"'\"+chr(asciinum)+\"'\" for asciinum in c2asciitop_df.index[0:30]] )\n",
        "ax.plot(np.arange(30),asciitop_df['char_per_million'].iloc[0:30],color='red', marker='*', markersize=10)\n",
        "ax.tick_params(axis='both',labelsize=16)\n",
        "plt.ylabel('Occurrence per Million Characters',fontsize=16)\n",
        "plt.title('Top 30 ASCII Characters: Ciphertext Difficulty=2',fontsize=18)\n",
        "plt.show()\n",
        "print(\"Of the 128 possible ASCII values, only \"+ str(sum(cpm_cipher>1)) +\" are used more than once per million\")"
      ],
      "execution_count": 0,
      "outputs": [
        {
          "output_type": "display_data",
          "data": {
            "image/png": "[encoded data removed]",
            "text/plain": [
              "<matplotlib.figure.Figure at 0x7faf2bb02dd8>"
            ]
          },
          "metadata": {
            "tags": []
          }
        },
        {
          "output_type": "stream",
          "text": [
            "Of the 128 possible ASCII values, only 99 are used more than once per million\n",
            "CPU times: user 23.3 s, sys: 193 ms, total: 23.5 s\n",
            "Wall time: 23.2 s\n"
          ],
          "name": "stdout"
        }
      ]
    },
    {
      "metadata": {
        "_uuid": "b5491bf6a20769680b3f774944fb1d351aac5a7e",
        "id": "ft008PREKaVe",
        "colab_type": "text"
      },
      "cell_type": "markdown",
      "source": [
        "Looks like another substititution cipher. And even though this Kaggle competition creates the ciphertext by encoding with cipher #1 and then with cipher #2 to create the difficulty=2 ciphers, we can simply solve for the composition mapping between the plaintext in the source and the ciphertext."
      ]
    },
    {
      "metadata": {
        "trusted": true,
        "_uuid": "b291ba67d30a19f42ade96564a23ca0c5e37a22a",
        "_kg_hide-input": true,
        "id": "DGn1Z1RHKaVg",
        "colab_type": "code",
        "outputId": "9cf7e74b-a9c5-4ed1-bd93-ddd9a1bc06ca",
        "colab": {
          "base_uri": "https://localhost:8080/",
          "height": 425
        }
      },
      "cell_type": "code",
      "source": [
        "%%time\n",
        "asciimap2 = pd.DataFrame(asciitop, index=c2asciitop,columns=['decipher'])\n",
        "# Go through the plain text from the category and find the matching entry\n",
        "textstring = decipher_subst(train_df[train_df['difficulty']==2]['ciphertext'].iloc[0],asciimap2)\n",
        "textcategory = train_df[train_df['difficulty']==2]['target'].iloc[0]\n",
        "sourcematch = process.extractOne(textstring, sourcetext_dict, scorer = fuzz.ratio)\n",
        "\n",
        "print('Found a match in source data with \"fuzz.ratio\" score of ' + str(fuzz.ratio(textstring,sourcematch[0])))\n",
        "print('Source data found in category = ' + category_names[chunk_df['target'].iloc[sourcematch[2]]])\n",
        "print('Original deciphering using character frequency:')\n",
        "print('----------------')\n",
        "print(textstring)\n",
        "print(' ')\n",
        "print('Matching text below:')\n",
        "print('----------------')\n",
        "print(sourcematch[0])\n",
        "print(' ')"
      ],
      "execution_count": 0,
      "outputs": [
        {
          "output_type": "stream",
          "text": [
            "Found a match in source data with \"fuzz.ratio\" score of 85\n",
            "Source data found in category = talk.religion.misc\n",
            "Original deciphering using character frequency:\n",
            "----------------\n",
            "From' ece5MM2/_bigdog.engr.ari7ona.edu *Oavid Anderson(\n",
            " SubUect' Pe' Christian 3wned 3rgani7ation list\n",
            " 3rgani7ation' 8niversity of Ari7ona\n",
            " @ines' 1\"\n",
            " \n",
            " In article <ja$_byu.edu, $stephan_sasb.byu.edu *Stephan Fassmann( writes'\n",
            " ,In article <1\"\"NApr1N.M29426.229N2_mnemosyne.cs.du.edu, :cochran_nyW.\n",
            " \n",
            "Matching text below:\n",
            "----------------\n",
            "From: ece_0028@bigdog.engr.arizona.edu (David Anderson)\n",
            " Subject: Re: Christian Owned Organization list\n",
            " Organization: University of Arizona\n",
            " Lines: 19\n",
            " \n",
            " In article <?a$@byu.edu> $stephan@sasb.byu.edu (Stephan Fassmann) writes:\n",
            " >In article <1993Apr13.025426.22532@mnemosyne.cs.du.edu> kcochran@nyx.\n",
            " \n",
            "CPU times: user 20.9 s, sys: 11.8 ms, total: 20.9 s\n",
            "Wall time: 20.9 s\n"
          ],
          "name": "stdout"
        }
      ]
    },
    {
      "metadata": {
        "_uuid": "36b5d12ef047ad190db65a1d1d7c9e0d9fbff9b9",
        "id": "ZYGzxiYZKaV0",
        "colab_type": "text"
      },
      "cell_type": "markdown",
      "source": [
        "Again, just using the character frequency is not a bad place to start. We can then fine-tune by matching to the source text."
      ]
    },
    {
      "metadata": {
        "trusted": true,
        "_uuid": "bfc00ce904b674caaea37a7ece57082d93f75998",
        "_kg_hide-input": true,
        "id": "W41ZQO8oKaV3",
        "colab_type": "code",
        "outputId": "879a38d5-adbe-4912-f995-a1ec23f3d3f2",
        "colab": {
          "base_uri": "https://localhost:8080/",
          "height": 68
        }
      },
      "cell_type": "code",
      "source": [
        "# subsample of ciphertext\n",
        "subset_size = 300\n",
        "tune_df = train_df[np.logical_and(train_df['difficulty']==2,\n",
        "                                    np.array([len(train_df['ciphertext'].iloc[idx]) for idx in range(len(train_df))])>250)]\n",
        "tuneindices = tune_df.index[:subset_size]\n",
        "        \n",
        "# function to match to source data for same category and length greater than 250 characters\n",
        "def finetunematch2(idx):\n",
        "    textstring = decipher_subst(tune_df['ciphertext'].loc[idx],asciimap2)\n",
        "    selectindices = np.logical_and(chunk_df['target']==tune_df['target'].loc[idx],chunk_df['length']==len(textstring))\n",
        "    sourcematch = process.extractOne(textstring, \n",
        "                                     list(compress(chunks_plaintext, selectindices)), \n",
        "                                     scorer = fuzz.ratio)\n",
        "    return sourcematch[0], textstring, sourcematch[1]\n",
        "\n",
        "# parallel evaluation using Dask (big benefits for more CPUs)\n",
        "par_compute = [delayed(finetunematch2)(idx) for idx in tuneindices]\n",
        "output_arrays = compute(*par_compute, scheduler='processes')"
      ],
      "execution_count": 0,
      "outputs": [
        {
          "output_type": "stream",
          "text": [
            "[########################################] | 100% Completed | 12min 54.0s\n",
            "[########################################] | 100% Completed | 12min 54.0s\n",
            "[########################################] | 100% Completed | 12min 54.1s\n"
          ],
          "name": "stdout"
        }
      ]
    },
    {
      "metadata": {
        "trusted": true,
        "_uuid": "74b072a3bf9af721dcbfb830dc294c7845f0bfe5",
        "_kg_hide-input": true,
        "id": "gMlmBESQKaWA",
        "colab_type": "code",
        "outputId": "80b684e2-f5d2-4c9b-c91a-7ff27feffa37",
        "colab": {
          "base_uri": "https://localhost:8080/",
          "height": 170
        }
      },
      "cell_type": "code",
      "source": [
        "# select those with relatively high fuzzy.ratio scores\n",
        "minfuzzyscore = 80\n",
        "sourcematch_array = [arrays[0] for arrays in output_arrays]\n",
        "decipher_array = [arrays[1] for arrays in output_arrays]\n",
        "fuzzyscores_array = np.array([arrays[2] for arrays in output_arrays])\n",
        "sourcematch_array = list(compress(sourcematch_array, (fuzzyscores_array>=minfuzzyscore) ))\n",
        "decipher_array = list(compress(decipher_array, (fuzzyscores_array>=minfuzzyscore) ))\n",
        "cipher_array =  tune_df[:subset_size]['ciphertext']\n",
        "cipher_array = list(compress(cipher_array, (fuzzyscores_array>=minfuzzyscore) ))\n",
        "print('In subsample, ' + str(np.sum(fuzzyscores_array>=minfuzzyscore)) + ' of the ' + str(subset_size) + ' have fuzzy.ratios > ' \n",
        "       + str(minfuzzyscore) + ' and will be used for fine-tuning')\n",
        "print(' ')\n",
        "print('Before fine-tuning the sub-sample:')\n",
        "gof = goodness_of_fit(cipher_array,asciimap=asciimap2)\n",
        "print('Average fuzzy.ratio = ' + str(np.mean(fuzzyscores_array[fuzzyscores_array>=minfuzzyscore])))"
      ],
      "execution_count": 0,
      "outputs": [
        {
          "output_type": "stream",
          "text": [
            "In subsample, 289 of the 300 have fuzzy.ratios > 80 and will be used for fine-tuning\n",
            " \n",
            "Before fine-tuning the sub-sample:\n",
            "   Goodness-of-Fit vs Source Text   \n",
            "====================================\n",
            "Number of Recognized Words = 9033\n",
            "Word-per-Million Similarity = 0.7120444590237837\n",
            "Ngram-per-Million Similarity = 0.7012825554233288\n",
            "Average fuzzy.ratio = 94.5432525951557\n"
          ],
          "name": "stdout"
        }
      ]
    },
    {
      "metadata": {
        "trusted": true,
        "_uuid": "b23ca6773ae7583d8f38d78eac7a56bf3649f364",
        "_kg_hide-input": true,
        "id": "piOjUVGdKaWL",
        "colab_type": "code",
        "outputId": "52d1c227-876b-4a73-cbde-ec4cf10e42c4",
        "colab": {
          "base_uri": "https://localhost:8080/",
          "height": 204
        }
      },
      "cell_type": "code",
      "source": [
        "# initialize asciiswitchmat, a 128x128 matrix with rows numbers corresponding to ascii characters\n",
        "# that should be replaced by the ascii character of the column number\n",
        "asciiswitchmat = np.zeros([128,128],dtype=int)\n",
        "asciicount = np.zeros((128,), dtype=int)\n",
        "\n",
        "for i, textstring in enumerate(decipher_array):\n",
        "    asciiswitchmat += leven_replace_matrix(textstring,sourcematch_array[i])\n",
        "    asciicount += np.histogram(string2ascii(textstring),np.arange(129))[0]\n",
        "\n",
        "deciphererror_dict2 = {'ascii_replacement': [np.argmax(asciiswitchmat[i,...]) for i in range(128)],\n",
        "                      'char_decipher': [chr(i) for i in range(128)],\n",
        "                      'char_replacement': [chr(np.argmax(asciiswitchmat[i,...])) for i in range(128)],\n",
        "                      'numError': np.sum(asciiswitchmat,axis=1),\n",
        "                      'numReplace': [asciiswitchmat[i,np.argmax(asciiswitchmat[i,...])] for i in range(128)],\n",
        "                      'totalObs': asciicount}\n",
        "\n",
        "deciphererror_df2 = pd.DataFrame.from_dict(deciphererror_dict2)\n",
        "deciphererror_df2['pctError'] = deciphererror_df2['numError'] / deciphererror_df2['totalObs']\n",
        "deciphererror_df2['pctBestReplace'] = deciphererror_df2['numReplace'] / deciphererror_df2['numError']  \n",
        "deciphererror_df2.sort_values(by=['numError'],ascending=False,inplace=True)\n",
        "deciphererror_df2.head()"
      ],
      "execution_count": 0,
      "outputs": [
        {
          "output_type": "execute_result",
          "data": {
            "text/html": [
              "<div>\n",
              "<style scoped>\n",
              "    .dataframe tbody tr th:only-of-type {\n",
              "        vertical-align: middle;\n",
              "    }\n",
              "\n",
              "    .dataframe tbody tr th {\n",
              "        vertical-align: top;\n",
              "    }\n",
              "\n",
              "    .dataframe thead th {\n",
              "        text-align: right;\n",
              "    }\n",
              "</style>\n",
              "<table border=\"1\" class=\"dataframe\">\n",
              "  <thead>\n",
              "    <tr style=\"text-align: right;\">\n",
              "      <th></th>\n",
              "      <th>ascii_replacement</th>\n",
              "      <th>char_decipher</th>\n",
              "      <th>char_replacement</th>\n",
              "      <th>numError</th>\n",
              "      <th>numReplace</th>\n",
              "      <th>totalObs</th>\n",
              "      <th>pctError</th>\n",
              "      <th>pctBestReplace</th>\n",
              "    </tr>\n",
              "  </thead>\n",
              "  <tbody>\n",
              "    <tr>\n",
              "      <th>32</th>\n",
              "      <td>32</td>\n",
              "      <td></td>\n",
              "      <td></td>\n",
              "      <td>699</td>\n",
              "      <td>696</td>\n",
              "      <td>15920</td>\n",
              "      <td>0.043907</td>\n",
              "      <td>0.995708</td>\n",
              "    </tr>\n",
              "    <tr>\n",
              "      <th>39</th>\n",
              "      <td>58</td>\n",
              "      <td>'</td>\n",
              "      <td>:</td>\n",
              "      <td>287</td>\n",
              "      <td>287</td>\n",
              "      <td>452</td>\n",
              "      <td>0.634956</td>\n",
              "      <td>1.000000</td>\n",
              "    </tr>\n",
              "    <tr>\n",
              "      <th>101</th>\n",
              "      <td>101</td>\n",
              "      <td>e</td>\n",
              "      <td>e</td>\n",
              "      <td>278</td>\n",
              "      <td>278</td>\n",
              "      <td>6944</td>\n",
              "      <td>0.040035</td>\n",
              "      <td>1.000000</td>\n",
              "    </tr>\n",
              "    <tr>\n",
              "      <th>62</th>\n",
              "      <td>44</td>\n",
              "      <td>&gt;</td>\n",
              "      <td>,</td>\n",
              "      <td>267</td>\n",
              "      <td>267</td>\n",
              "      <td>617</td>\n",
              "      <td>0.432739</td>\n",
              "      <td>1.000000</td>\n",
              "    </tr>\n",
              "    <tr>\n",
              "      <th>58</th>\n",
              "      <td>107</td>\n",
              "      <td>:</td>\n",
              "      <td>k</td>\n",
              "      <td>230</td>\n",
              "      <td>230</td>\n",
              "      <td>461</td>\n",
              "      <td>0.498915</td>\n",
              "      <td>1.000000</td>\n",
              "    </tr>\n",
              "  </tbody>\n",
              "</table>\n",
              "</div>"
            ],
            "text/plain": [
              "     ascii_replacement char_decipher char_replacement  numError  numReplace  \\\n",
              "32                  32                                      699         696   \n",
              "39                  58             '                :       287         287   \n",
              "101                101             e                e       278         278   \n",
              "62                  44             >                ,       267         267   \n",
              "58                 107             :                k       230         230   \n",
              "\n",
              "     totalObs  pctError  pctBestReplace  \n",
              "32      15920  0.043907        0.995708  \n",
              "39        452  0.634956        1.000000  \n",
              "101      6944  0.040035        1.000000  \n",
              "62        617  0.432739        1.000000  \n",
              "58        461  0.498915        1.000000  "
            ]
          },
          "metadata": {
            "tags": []
          },
          "execution_count": 174
        }
      ]
    },
    {
      "metadata": {
        "trusted": true,
        "_uuid": "923b752f5f20e7d0ae1b08419fcaf7532e84a5d3",
        "_kg_hide-input": true,
        "id": "-IRmDir6KaWV",
        "colab_type": "code",
        "colab": {}
      },
      "cell_type": "code",
      "source": [
        "# correct the identified errors in character substitution\n",
        "errorprone = np.logical_and(deciphererror_df2['totalObs']>=1,\n",
        "                            np.logical_and(deciphererror_df2['pctError']>=0.1,\n",
        "                                           deciphererror_df2['pctBestReplace']>=0.5)),\n",
        "decipherchars = deciphererror_df2.index[errorprone]\n",
        "improvementchars = deciphererror_df2['ascii_replacement'].loc[errorprone].values\n",
        "tmpasciimap = asciimap2.copy()\n",
        "for i,decipherchar in enumerate(decipherchars):\n",
        "    asciimap2['decipher'].loc[tmpasciimap['decipher'].values==decipherchar] = improvementchars[i]"
      ],
      "execution_count": 0,
      "outputs": []
    },
    {
      "metadata": {
        "trusted": true,
        "_uuid": "7c171e064cb1c20f388d9a226f0e3e1292801025",
        "_kg_hide-input": true,
        "id": "T0zSS0M3KaWf",
        "colab_type": "code",
        "outputId": "365f8ee0-4bd5-4b57-e0ee-3c2d415b4d38",
        "colab": {
          "base_uri": "https://localhost:8080/",
          "height": 119
        }
      },
      "cell_type": "code",
      "source": [
        "print('After fine-tuning the sub-sample:')\n",
        "gof = goodness_of_fit(cipher_array,asciimap=asciimap2)"
      ],
      "execution_count": 0,
      "outputs": [
        {
          "output_type": "stream",
          "text": [
            "After fine-tuning the sub-sample:\n",
            "   Goodness-of-Fit vs Source Text   \n",
            "====================================\n",
            "Number of Recognized Words = 10926\n",
            "Word-per-Million Similarity = 0.8480858888243816\n",
            "Ngram-per-Million Similarity = 0.755025097205732\n"
          ],
          "name": "stdout"
        }
      ]
    },
    {
      "metadata": {
        "trusted": true,
        "_uuid": "f875f4e8e4bec8955ded767dea498eb101393108",
        "_kg_hide-input": true,
        "id": "-P6mORckKaWm",
        "colab_type": "code",
        "outputId": "d5cfda17-1259-4b43-860a-2662ba009b5d",
        "colab": {
          "base_uri": "https://localhost:8080/",
          "height": 153
        }
      },
      "cell_type": "code",
      "source": [
        "textstring = train_df[train_df['difficulty']==2]['ciphertext'].iloc[0]\n",
        "print('FINAL DECIPHER:')\n",
        "print(decipher_subst(textstring,asciimap2))"
      ],
      "execution_count": 0,
      "outputs": [
        {
          "output_type": "stream",
          "text": [
            "FINAL DECIPHER:\n",
            "From: ece_0028@bigdog.engr.arizona.edu (David Anderson)\n",
            " Subject: Re: Christian Owned Organization list\n",
            " Organization: University of Arizona\n",
            " Lines: 19\n",
            " \n",
            " In article <?a$@byu.edu> $stephan@sasb.byu.edu (Stephan Fassmann) writes:\n",
            " >In article <1993Apr13.025426.22532@mnemosyne.cs.du.edu> kcochran@nyx.\n"
          ],
          "name": "stdout"
        }
      ]
    },
    {
      "metadata": {
        "_uuid": "61b22d1e92747ce55c13295f29530e48d3b9149d",
        "id": "aRtnx6drKaWt",
        "colab_type": "text"
      },
      "cell_type": "markdown",
      "source": [
        "For our submission, let's only decipher difficulty-2, but let's also use this to make an attempt at difficulty=3 in case this allows our fuzzy matching to recognize some of them as well. "
      ]
    },
    {
      "metadata": {
        "id": "HENSGdn0AN04",
        "colab_type": "code",
        "colab": {}
      },
      "cell_type": "code",
      "source": [
        "def decipher_subst2(textstring):\n",
        "    inarray = string2ascii(textstring)\n",
        "    outarray = np.zeros(len(inarray),dtype=np.int8)\n",
        "    for asciival in asciimap2.index:\n",
        "        outarray[inarray==asciival] = asciimap2['decipher'].loc[asciival]\n",
        "    return ascii2string(outarray)\n"
      ],
      "execution_count": 0,
      "outputs": []
    },
    {
      "metadata": {
        "id": "t8l1bKu_-7Bk",
        "colab_type": "code",
        "colab": {}
      },
      "cell_type": "code",
      "source": [
        "train_df2=train_df[train_df['difficulty']==2]"
      ],
      "execution_count": 0,
      "outputs": []
    },
    {
      "metadata": {
        "id": "c7metOQ4_9e5",
        "colab_type": "code",
        "colab": {}
      },
      "cell_type": "code",
      "source": [
        "train_df2['deciphrer_text']=train_df2['ciphertext'].apply(decipher_subst2)"
      ],
      "execution_count": 0,
      "outputs": []
    },
    {
      "metadata": {
        "id": "PprC1IGABYMX",
        "colab_type": "code",
        "colab": {}
      },
      "cell_type": "code",
      "source": [
        "\n",
        "train_df2['Cleaned_text']=train_df2['deciphrer_text'].map(cleanpunc).map(removestop)\n"
      ],
      "execution_count": 0,
      "outputs": []
    },
    {
      "metadata": {
        "id": "G-iZkviuBfn5",
        "colab_type": "code",
        "outputId": "32197b26-e422-4801-e9c8-0edacfc8e22a",
        "colab": {
          "base_uri": "https://localhost:8080/",
          "height": 306
        }
      },
      "cell_type": "code",
      "source": [
        "train_df2.head()"
      ],
      "execution_count": 0,
      "outputs": [
        {
          "output_type": "execute_result",
          "data": {
            "text/html": [
              "<div>\n",
              "<style scoped>\n",
              "    .dataframe tbody tr th:only-of-type {\n",
              "        vertical-align: middle;\n",
              "    }\n",
              "\n",
              "    .dataframe tbody tr th {\n",
              "        vertical-align: top;\n",
              "    }\n",
              "\n",
              "    .dataframe thead th {\n",
              "        text-align: right;\n",
              "    }\n",
              "</style>\n",
              "<table border=\"1\" class=\"dataframe\">\n",
              "  <thead>\n",
              "    <tr style=\"text-align: right;\">\n",
              "      <th></th>\n",
              "      <th>Id</th>\n",
              "      <th>difficulty</th>\n",
              "      <th>ciphertext</th>\n",
              "      <th>target</th>\n",
              "      <th>length</th>\n",
              "      <th>deciphrer_text</th>\n",
              "      <th>Cleaned_text</th>\n",
              "    </tr>\n",
              "  </thead>\n",
              "  <tbody>\n",
              "    <tr>\n",
              "      <th>2</th>\n",
              "      <td>ID_f90fee9c7</td>\n",
              "      <td>2</td>\n",
              "      <td>1*e4N8$f$0ccOui\u0018hkHek\u001a$\u0010k*\u001aV*hoe\u0010V\u001a$Hj8\bV\u0003hH8...</td>\n",
              "      <td>19</td>\n",
              "      <td>300</td>\n",
              "      <td>From: ece_0028@bigdog.engr.arizona.edu (David ...</td>\n",
              "      <td>rom ecebigdog engr arizona edu avid nderson ub...</td>\n",
              "    </tr>\n",
              "    <tr>\n",
              "      <th>4</th>\n",
              "      <td>ID_72abc2cb7</td>\n",
              "      <td>2</td>\n",
              "      <td>e\u001aV}H\u001a}kh\u001afe4b8'S.Vc}{A\f\f.#VikV.\u001afV?{$f7\u001a$Hjb8...</td>\n",
              "      <td>0</td>\n",
              "      <td>300</td>\n",
              "      <td>o.asd.sgi.com&gt; &lt;1pa0stINNpqa@gap.caltech.edu&gt; ...</td>\n",
              "      <td>asd sgi com pastpqagap caltech edu panfbjfido ...</td>\n",
              "    </tr>\n",
              "    <tr>\n",
              "      <th>7</th>\n",
              "      <td>ID_74ae76ad1</td>\n",
              "      <td>2</td>\n",
              "      <td>{V?mh\u0010k[8ed8z8fej*}$[8V\u0018ej{8}f7ee?x{ex^e*m8V\u0010H...</td>\n",
              "      <td>18</td>\n",
              "      <td>300</td>\n",
              "      <td>talking, of \\n course, about school-to-work an...</td>\n",
              "      <td>talk cours school work also job econom recover...</td>\n",
              "    </tr>\n",
              "    <tr>\n",
              "      <th>9</th>\n",
              "      <td>ID_8dd34799b</td>\n",
              "      <td>2</td>\n",
              "      <td>}8}Vd$*8^h{78V84e*$z8b?h\u0018$*V?87V\u0010Hkj\u00108?V^8{7V\u0010...</td>\n",
              "      <td>16</td>\n",
              "      <td>300</td>\n",
              "      <td>s safer with a more\\n &gt;liberal handgun law tha...</td>\n",
              "      <td>safer liber handgun law without choic leas oth...</td>\n",
              "    </tr>\n",
              "    <tr>\n",
              "      <th>11</th>\n",
              "      <td>ID_f8ca8a89c</td>\n",
              "      <td>2</td>\n",
              "      <td>$\u0003V\u0010{8{e8{7$8H$dh\u0010h{he\u00108ed8V{7$h}4[8^7hf78h}8B...</td>\n",
              "      <td>0</td>\n",
              "      <td>235</td>\n",
              "      <td>evant to the definition of atheism, which is '...</td>\n",
              "      <td>evant definit atheism lack belief god rank wye...</td>\n",
              "    </tr>\n",
              "  </tbody>\n",
              "</table>\n",
              "</div>"
            ],
            "text/plain": [
              "              Id  difficulty  \\\n",
              "2   ID_f90fee9c7           2   \n",
              "4   ID_72abc2cb7           2   \n",
              "7   ID_74ae76ad1           2   \n",
              "9   ID_8dd34799b           2   \n",
              "11  ID_f8ca8a89c           2   \n",
              "\n",
              "                                           ciphertext  target  length  \\\n",
              "2   1*e4N8$f$0ccOui\u0018hkHek\u001a$\u0010k*\u001aV*hoe\u0010V\u001a$Hj8\bV\u0003hH8...      19     300   \n",
              "4   e\u001aV}H\u001a}kh\u001afe4b8'S.Vc}{A\n",
              "\n",
              ".#VikV.\u001afV?{$f7\u001a$Hjb8...       0     300   \n",
              "7   {V?mh\u0010k[8ed8z8fej*}$[8V\u0018ej{8}f7ee?x{ex^e*m8V\u0010H...      18     300   \n",
              "9   }8}Vd$*8^h{78V84e*$z8b?h\u0018$*V?87V\u0010Hkj\u00108?V^8{7V\u0010...      16     300   \n",
              "11  $\u0003V\u0010{8{e8{7$8H$dh\u0010h{he\u00108ed8V{7$h}4[8^7hf78h}8B...       0     235   \n",
              "\n",
              "                                       deciphrer_text  \\\n",
              "2   From: ece_0028@bigdog.engr.arizona.edu (David ...   \n",
              "4   o.asd.sgi.com> <1pa0stINNpqa@gap.caltech.edu> ...   \n",
              "7   talking, of \\n course, about school-to-work an...   \n",
              "9   s safer with a more\\n >liberal handgun law tha...   \n",
              "11  evant to the definition of atheism, which is '...   \n",
              "\n",
              "                                         Cleaned_text  \n",
              "2   rom ecebigdog engr arizona edu avid nderson ub...  \n",
              "4   asd sgi com pastpqagap caltech edu panfbjfido ...  \n",
              "7   talk cours school work also job econom recover...  \n",
              "9   safer liber handgun law without choic leas oth...  \n",
              "11  evant definit atheism lack belief god rank wye...  "
            ]
          },
          "metadata": {
            "tags": []
          },
          "execution_count": 184
        }
      ]
    },
    {
      "metadata": {
        "id": "HYx1djzzcS9B",
        "colab_type": "code",
        "colab": {}
      },
      "cell_type": "code",
      "source": [
        "X_test2=train_df2['Cleaned_text'].values\n",
        "y_test2= train_df2['target']\n"
      ],
      "execution_count": 0,
      "outputs": []
    },
    {
      "metadata": {
        "id": "NHB0s_1pyz9C",
        "colab_type": "code",
        "colab": {}
      },
      "cell_type": "code",
      "source": [
        "Predictions=clf.predict(X_test2)"
      ],
      "execution_count": 0,
      "outputs": []
    },
    {
      "metadata": {
        "id": "Q2FxzciuzAHW",
        "colab_type": "code",
        "outputId": "b6e7af63-beb4-4cce-e9b5-3cbfa7248a36",
        "colab": {
          "base_uri": "https://localhost:8080/",
          "height": 476
        }
      },
      "cell_type": "code",
      "source": [
        "print(classification_report(y_test2,Predictions ))"
      ],
      "execution_count": 0,
      "outputs": [
        {
          "output_type": "stream",
          "text": [
            "              precision    recall  f1-score   support\n",
            "\n",
            "           0       1.00      0.98      0.99       455\n",
            "           1       1.00      0.97      0.98       528\n",
            "           2       0.99      0.55      0.71       652\n",
            "           3       0.99      0.98      0.99       391\n",
            "           4       1.00      0.97      0.98       315\n",
            "           5       0.99      0.99      0.99       550\n",
            "           6       0.99      0.97      0.98       310\n",
            "           7       1.00      0.99      0.99       405\n",
            "           8       1.00      0.99      0.99       387\n",
            "           9       0.99      0.98      0.98       301\n",
            "          10       0.59      1.00      0.74       580\n",
            "          11       1.00      1.00      1.00       651\n",
            "          12       1.00      0.98      0.99       396\n",
            "          13       1.00      0.99      0.99       500\n",
            "          14       1.00      0.99      1.00       566\n",
            "          15       1.00      0.99      0.99       692\n",
            "          16       0.99      0.98      0.99       536\n",
            "          17       1.00      1.00      1.00       912\n",
            "          18       1.00      0.99      0.99       547\n",
            "          19       0.99      0.99      0.99       350\n",
            "\n",
            "   micro avg       0.96      0.96      0.96     10024\n",
            "   macro avg       0.98      0.96      0.96     10024\n",
            "weighted avg       0.97      0.96      0.96     10024\n",
            "\n"
          ],
          "name": "stdout"
        }
      ]
    },
    {
      "metadata": {
        "id": "5CNr4Yff0EDl",
        "colab_type": "code",
        "outputId": "3ddef794-451c-4a74-f2be-f65a00610e94",
        "colab": {
          "base_uri": "https://localhost:8080/",
          "height": 462
        }
      },
      "cell_type": "code",
      "source": [
        "plt.figure(figsize=(20,7))\n",
        "sns.heatmap(metrics.confusion_matrix(y_test2,Predictions),annot=True)\n",
        "print(\"Confusion_Matrix for Difficulty == 2\")\n",
        "print(\"=\"*120)"
      ],
      "execution_count": 0,
      "outputs": [
        {
          "output_type": "stream",
          "text": [
            "Confusion_Matrix for Difficulty == 2\n",
            "========================================================================================================================\n"
          ],
          "name": "stdout"
        },
        {
          "output_type": "display_data",
          "data": {
            "image/png": "[encoded data removed]",
            "text/plain": [
              "<matplotlib.figure.Figure at 0x7faf2ba45f98>"
            ]
          },
          "metadata": {
            "tags": []
          }
        }
      ]
    },
    {
      "metadata": {
        "id": "zL1NfeeDclps",
        "colab_type": "code",
        "colab": {}
      },
      "cell_type": "code",
      "source": [
        "test_df2=test_df[test_df['difficulty']==2]"
      ],
      "execution_count": 0,
      "outputs": []
    },
    {
      "metadata": {
        "id": "9tpKJS25cwZp",
        "colab_type": "code",
        "outputId": "77034d85-ea41-4b94-b3a8-aeba203a0cec",
        "colab": {
          "base_uri": "https://localhost:8080/",
          "height": 289
        }
      },
      "cell_type": "code",
      "source": [
        "test_df2['deciphrer_text']=test_df2['ciphertext'].apply(decipher_subst2)\n",
        "test_df2['Cleaned_text']=test_df2['deciphrer_text'].map(cleanpunc).map(removestop)\n",
        "test_df2.head()"
      ],
      "execution_count": 0,
      "outputs": [
        {
          "output_type": "execute_result",
          "data": {
            "text/html": [
              "<div>\n",
              "<style scoped>\n",
              "    .dataframe tbody tr th:only-of-type {\n",
              "        vertical-align: middle;\n",
              "    }\n",
              "\n",
              "    .dataframe tbody tr th {\n",
              "        vertical-align: top;\n",
              "    }\n",
              "\n",
              "    .dataframe thead th {\n",
              "        text-align: right;\n",
              "    }\n",
              "</style>\n",
              "<table border=\"1\" class=\"dataframe\">\n",
              "  <thead>\n",
              "    <tr style=\"text-align: right;\">\n",
              "      <th></th>\n",
              "      <th>Id</th>\n",
              "      <th>difficulty</th>\n",
              "      <th>ciphertext</th>\n",
              "      <th>length</th>\n",
              "      <th>deciphrer_text</th>\n",
              "      <th>Cleaned_text</th>\n",
              "    </tr>\n",
              "  </thead>\n",
              "  <tbody>\n",
              "    <tr>\n",
              "      <th>1</th>\n",
              "      <td>ID_ba83b2917</td>\n",
              "      <td>2</td>\n",
              "      <td>^V*$z8d*e4z8\u001b8SF38e*8|8SFO8Hh}m}[8^7$\u00108A84ej\u0010{...</td>\n",
              "      <td>300</td>\n",
              "      <td>ware\\n from\\n 5 1/4 or 3 1/2 disks, when I mou...</td>\n",
              "      <td>ware disk mount second third fourth disk doesn...</td>\n",
              "    </tr>\n",
              "    <tr>\n",
              "      <th>3</th>\n",
              "      <td>ID_81b64cbc5</td>\n",
              "      <td>2</td>\n",
              "      <td>nL6! 8lL\u00066M84VkVoh\u0010$\u001a88\u00067h}8h}88\f,\u00068z888888888...</td>\n",
              "      <td>300</td>\n",
              "      <td>HEAVY METAL magazine.  This is  NOT \\n        ...</td>\n",
              "      <td>magazin music mag realli neato mag iger oebius...</td>\n",
              "    </tr>\n",
              "    <tr>\n",
              "      <th>4</th>\n",
              "      <td>ID_851f738e5</td>\n",
              "      <td>2</td>\n",
              "      <td>}8z8}{Vv$H8h\u001086*4$\u0010hVWz8z8\\\b%p8\\Sp8lf9V*{7v[8\\...</td>\n",
              "      <td>300</td>\n",
              "      <td>s \\n stayed in Armenia!\\n \\n [(*] [1] McCarthy...</td>\n",
              "      <td>stay rmenia carthi uslim inor opul ttoman nato...</td>\n",
              "    </tr>\n",
              "    <tr>\n",
              "      <th>8</th>\n",
              "      <td>ID_f9dc3c084</td>\n",
              "      <td>2</td>\n",
              "      <td>8.?$V}$8j}$8\u0003$}V\u001ak*\u0010\b$2f$.{8${3ccc8j}$*}\u0002\u001az888...</td>\n",
              "      <td>300</td>\n",
              "      <td>please use vesa.grn(except et4000 users).\\n  ...</td>\n",
              "      <td>pleas use vesa grn except user find vesa drive...</td>\n",
              "    </tr>\n",
              "    <tr>\n",
              "      <th>14</th>\n",
              "      <td>ID_400346f25</td>\n",
              "      <td>2</td>\n",
              "      <td>1*e4N84}.*Vkj$i}j.$*he*\u001a4f^\u0018}{|SS\u00188\blhm$8E.*Vk...</td>\n",
              "      <td>300</td>\n",
              "      <td>From: msprague@superior.mcwbst311b (Mike Sprag...</td>\n",
              "      <td>rom mspraguesuperior mcwbstb ike pragu ubject ...</td>\n",
              "    </tr>\n",
              "  </tbody>\n",
              "</table>\n",
              "</div>"
            ],
            "text/plain": [
              "              Id  difficulty  \\\n",
              "1   ID_ba83b2917           2   \n",
              "3   ID_81b64cbc5           2   \n",
              "4   ID_851f738e5           2   \n",
              "8   ID_f9dc3c084           2   \n",
              "14  ID_400346f25           2   \n",
              "\n",
              "                                           ciphertext  length  \\\n",
              "1   ^V*$z8d*e4z8\u001b8SF38e*8|8SFO8Hh}m}[8^7$\u00108A84ej\u0010{...     300   \n",
              "3   nL6! 8lL\u00066M84VkVoh\u0010$\u001a88\u00067h}8h}88\n",
              ",\u00068z888888888...     300   \n",
              "4   }8z8}{Vv$H8h\u001086*4$\u0010hVWz8z8\\\b%p8\\Sp8lf9V*{7v[8\\...     300   \n",
              "8   8.?$V}$8j}$8\u0003$}V\u001ak*\u0010\b$2f$.{8${3ccc8j}$*}\u0002\u001az888...     300   \n",
              "14  1*e4N84}.*Vkj$i}j.$*he*\u001a4f^\u0018}{|SS\u00188\blhm$8E.*Vk...     300   \n",
              "\n",
              "                                       deciphrer_text  \\\n",
              "1   ware\\n from\\n 5 1/4 or 3 1/2 disks, when I mou...   \n",
              "3   HEAVY METAL magazine.  This is  NOT \\n        ...   \n",
              "4   s \\n stayed in Armenia!\\n \\n [(*] [1] McCarthy...   \n",
              "8    please use vesa.grn(except et4000 users).\\n  ...   \n",
              "14  From: msprague@superior.mcwbst311b (Mike Sprag...   \n",
              "\n",
              "                                         Cleaned_text  \n",
              "1   ware disk mount second third fourth disk doesn...  \n",
              "3   magazin music mag realli neato mag iger oebius...  \n",
              "4   stay rmenia carthi uslim inor opul ttoman nato...  \n",
              "8   pleas use vesa grn except user find vesa drive...  \n",
              "14  rom mspraguesuperior mcwbstb ike pragu ubject ...  "
            ]
          },
          "metadata": {
            "tags": []
          },
          "execution_count": 190
        }
      ]
    },
    {
      "metadata": {
        "id": "ujABGR9WzhrU",
        "colab_type": "code",
        "colab": {}
      },
      "cell_type": "code",
      "source": [
        "kaggle_test2=test_df2['Cleaned_text'].values\n",
        "Pred=clf.predict(kaggle_test2)\n",
        "test_df2['Predicted']=Pred"
      ],
      "execution_count": 0,
      "outputs": []
    },
    {
      "metadata": {
        "id": "str3SYyn1U0X",
        "colab_type": "text"
      },
      "cell_type": "markdown",
      "source": [
        "<h1>5.Mapping level 3</h1>"
      ]
    },
    {
      "metadata": {
        "id": "EgWhlvbF3wLb",
        "colab_type": "code",
        "colab": {}
      },
      "cell_type": "code",
      "source": [
        "#aciimap2 ====> key\n",
        "key = [['8', ' '],['$', 'e'],['{', 't'],['V', 'a'],['e', 'o'],['h', 'i'],['\\x10', 'n'],['}', 's'],['*', 'r'],['7', 'h'],['?', 'l'],['z', '\\n'],['H', 'd'],['f', 'c'],['j', 'u'],['4', 'm'],['\\x1a', '.'],['x', '-'],['.', 'p'],['k', 'g'],['v', 'y'],['d', 'f'],['^', 'w'],['\\x18', 'b'],['b', '>'],['[', ','],['\\x03', 'v'],['6', 'A'],['A', 'I'],['m', 'k'],['B', \"'\"],['N', ':'],['E', 'S'],['S', '1'],['\\x06', 'T'],['(', 'X'],['c', '0'],['l', 'M'],['9', 'C'],['%', '*'],['\\x02', ')'],['\\x08', '('],['O', '2'],['a', '='],['\\x0c', 'N'],['&', 'R'],['@', 'P'],['|', '3'],['\\x7f', 'D'],[',', 'O'],['i', '@'],['L', 'E'],['M', 'L'],['=', '\"'],['C', '9'],['X', '\\t'],['\\x1b', '5'],['1', 'F'],['n', 'H'],['Q', 'B'],['3', '4'],['0', '_'],['2', 'x'],['s', 'W'],['<', '6'],[')', 'G'],['_', 'j'],['G', 'U'],['u', '8'],['\\x19', '?'],['-', '?'],['o', 'z'],['F', '/'],[';', '|'],['\\t', 'J'],['~', 'K'],['W', '!'],['!', 'V'],[\"'\", '<'],[' ', 'Y'],['\\n', '+'],['#', 'q'],['I', '$'],[':', '#'],[']', 'Q'],['/', '^'],['g', '#'],['\\x1e', '%'],['p', ']'],['5', ']'],['\\\\', '['],['`', 'Z'],['t', '&'],['y', '&'],['R', 'Z'],['P', '}'],['r', '{'],['\"', '\\r'],['T', 'u'],['Z', '\\x02']]\n",
        "decrypt_map_2 = {i:j for i,j in key}"
      ],
      "execution_count": 0,
      "outputs": []
    },
    {
      "metadata": {
        "id": "C3lNk6_Z1TtE",
        "colab_type": "code",
        "outputId": "913375b4-a41e-43f3-97da-a9436a20ad4c",
        "colab": {
          "base_uri": "https://localhost:8080/",
          "height": 119
        }
      },
      "cell_type": "code",
      "source": [
        "diff_3_data = train_df.query(\"difficulty == 3\").copy()\n",
        "diff_3_data[\"trans\"] = diff_3_data[\"ciphertext\"].apply(\n",
        "    lambda x:''.join([decrypt_map_2.get(k,'?') for k in x])\n",
        ")\n",
        "\n",
        "##top starting letters \n",
        "diff_3_data.trans.str[:5].value_counts().head()"
      ],
      "execution_count": 0,
      "outputs": [
        {
          "output_type": "execute_result",
          "data": {
            "text/plain": [
              "FrMmZ    1369\n",
              "          153\n",
              "o>@>g      79\n",
              "EHbje      49\n",
              " the       40\n",
              "Name: trans, dtype: int64"
            ]
          },
          "metadata": {
            "tags": []
          },
          "execution_count": 203
        }
      ]
    },
    {
      "metadata": {
        "id": "TLVgyTnt5lJU",
        "colab_type": "code",
        "outputId": "03b088af-6e8f-4938-8bb2-d8b80834aca2",
        "colab": {
          "base_uri": "https://localhost:8080/",
          "height": 102
        }
      },
      "cell_type": "code",
      "source": [
        "Counter([i[:5] for i in plaintext_data.data]).most_common(5)"
      ],
      "execution_count": 0,
      "outputs": [
        {
          "output_type": "execute_result",
          "data": {
            "text/plain": [
              "[('From:', 18038),\n",
              " ('Subje', 506),\n",
              " ('Organ', 204),\n",
              " ('Distr', 27),\n",
              " ('Nntp-', 25)]"
            ]
          },
          "metadata": {
            "tags": []
          },
          "execution_count": 206
        }
      ]
    },
    {
      "metadata": {
        "id": "BCOp6tjX6V9D",
        "colab_type": "code",
        "colab": {}
      },
      "cell_type": "code",
      "source": [
        "pd.options.display.max_columns = 300\n",
        "\n",
        "pd.options.display.max_rows = 300\n",
        "\n",
        "plain_1, cipher_1 = [\n",
        "    '''From: trussell@cwis.unomaha.edu (Tim Russell)\\nSubject: Re: Once tapped, your code is no good any more.\\nOrganization: University of Nebraska at Omaha\\nDistribution: na\\nLines: 18\\n\\ngeoff@ficus.cs.ucla.edu (Geoffrey Kuenning) writes:\\n\\n>It always amazes me how quick people are to blame whatever\\n>administr''',\n",
        "    '''FrMmZ tr8ssellkWw#s.znWm}h\\t.e2H (T#m R]ssell)\\n L?bjeut/ Re? Onue tUppeE, @fzr &&?e zs n@ ugo} $n\\n m?re.# OrzUnM>?tkWnd $nzversMt8 gf Nebr?s\\n\\x02 :t Om9h\\x02g DMstr8b@tkWnd n\\t# B#nesu 10k f 0eMizk?#g-s.\\ns.Mkl\\x02.eU] (GeoM?re\\n K>ennznz) wrWtesZk & #2t }lw\\t0s \\x02m?8es me how q{8uo peMple \\x02re t] bl\\x02me wh$tever& #'''\n",
        "    \n",
        "]\n",
        "\n",
        "plain_2, cipher_2 = [\n",
        "    '''From: hollasch@kpc.com (Steve Hollasch)\\nSubject: Re: Raytracing Colours?\\nSummary: Illumination Equations\\nOrganization: Kubota Pacific Computer, Inc.\\nLines: 44\\n\\nasecchia@cs.uct.ac.za (Adrian Secchia) writes:\\n| When an incident ray (I) strikes an object at point P ...  The reflected\\n| ray (R) and the ''',\n",
        "    '''FrMmZ h]ll\\x02sWhi{p&.\\n#m (Eteve {fll'sch)i ZHbje-t? ReZ RU\\ntr$okn& C&l#?rs?f ?]mmarfI Sll>mzn\\x02tW@n ?q@Ity&ns> Or{\\x02n#8at]{nZ K>bMt\\x02 PUu80k& C&mpMter, dnu.& 1inesa 44k f :sekuhW\\x02yos.z&t.}i.y\\x02 (AUrHan LeWuh\\n9) wrMtes?f | chen ?n kn&>?ent r9\\n (\\x02) strHkes ?n {bjeut :t pMMnt P ...  The rezleute?& | rIu (R) '''\n",
        "]\n",
        "\n",
        "plain_3, cipher_3 = [\n",
        "    '''From: snichols@adobe.com (Sherri Nichols)\\nSubject: Re: Braves Pitching UpdateDIR\\nOrganization: Adobe Systems Incorporated\\nLines: 13\\n\\nIn article <1993Apr15.010745.1@acad.drake.edu> sbp002@acad.drake.edu writes:\\n>or second starter.  It seems to me that when quality pitchers take the\\n>mound, the other ''',\n",
        "    '''FrMmZ snWuh{lsiIa&be.iMm ($herr# NHchkls)k $>bjektZ Re? ?r$ves P#tghyno $p2\\x02teD\\x02Rc Org?n8W:tz@n? AE{be ?=stems 2n\\n#rpMr\\x02teUc L]nesI !3{ # Sn UrtMWle <ZdB3AprL5.o\\x02#?45.ZzaH$E.\\x02r9?e.e1Hz sbp>i90\\tk\\x02U.:ra8e.e?H wr\\ntes?f k@r seWfnL st?rter.  ?t seems t# me th9t when qH?lHty p]tWhers t\\x02oe the# cm]Hn?, the'''\n",
        "]\n",
        "\n",
        "plain_4, cipher_4 = [\n",
        "    '''From: art@cs.UAlberta.CA (Art Mulder)\\nSubject: comp.windows.x: Getting more performance out of X.  FAQ\\nSummary: This posting contains a list of suggestions about what you can do to get the best performance out of X on your workstation -- without buying more hardware.\\nKeywords: FAQ speed X\\nNntp-Posti''',\n",
        "    '''FrMmZ UrtkWs./AlbertI.CA (Art \\nfl?er)# $@bjeMt: H{mp.wMn\\x02Mws.xZ GettWnz m{re per0urm?n\\ne #?t @0 X.  FAQc S{mm$r\\n/ Thzs p@stWnz WfntIyns } lust Mi s@?gest]{ns \\x02b??t wh\\x02t #@? oIn a& t# {et the best perifrm'nce k?t @y X Mn \\n]Hr w{rMstIty&n \\no wMthf]t buf8nz m?re h9rEwUre.f Ke@wfrLs' FAQ spee' X> NntpoP'''   \n",
        "]\n",
        "\n",
        "plain_5, cipher_5 = [\n",
        "    '''From: joslin@pogo.isp.pitt.edu (David Joslin)\\nSubject: Apology to Jim Meritt (Was: Silence is concurance)\\nDistribution: usa\\nOrganization: Intelligent Systems Program\\nLines: 39\\n\\nm23364@mwunix.mitre.org (James Meritt) writes:\\n>}So stop dodging the question.  What is hypocritical about my\\n>}criticizing''',\n",
        "    '''FrMmZ j]slMnypf]W.>sp.putt.e2H (D?vHd Jksl8n)f !?bjeut? Ap@l{u= tW J>m Herztt (??su S]lenWe Ms -Mnu8r\\x02nWe)& DkstrybftuMnZ @s'\\n OrW$nM#9tM]nZ :ntell#]ent 1]stems Pr#{r\\x02m& 1inesa 3}f { ma3364kmw8nMx.m8tre.fr] (J?mes cerutt) wrztesZ& i}L{ st@p \\x02MEyMn- the q@estkWn.  kh\\tt zs h\\npfMrit]W\\x02l :bMHt m#f z2gry'''\n",
        "]"
      ],
      "execution_count": 0,
      "outputs": []
    },
    {
      "metadata": {
        "id": "_BOqTOqC7F_7",
        "colab_type": "code",
        "colab": {}
      },
      "cell_type": "code",
      "source": [
        "plain, cipher = [], []\n",
        "\n",
        "pairs = [(plain_1, cipher_1), (plain_2, cipher_2), (plain_3, cipher_3), (plain_4, cipher_4), (plain_5, cipher_5)]\n",
        "for p_temp, c_temp in pairs:\n",
        "    i1,i2 = 0,0\n",
        "    while 1:\n",
        "        p,c = p_temp[i1], c_temp[i2]\n",
        "        plain.append(p)\n",
        "        cipher.append(c)\n",
        "        if p == '\\n':\n",
        "            i2+=1\n",
        "        i1 += 1 \n",
        "        i2 += 1\n",
        "        if i2 == 300:\n",
        "            break"
      ],
      "execution_count": 0,
      "outputs": []
    },
    {
      "metadata": {
        "id": "4Uq8Vj1D7O_w",
        "colab_type": "code",
        "colab": {}
      },
      "cell_type": "code",
      "source": [
        "pd.DataFrame({'plain':list(plain), 'cipher':list(cipher)}).T\n",
        "\n",
        "possible_maps = collections.defaultdict(list)\n",
        "for i,j in zip(plain, cipher):\n",
        "    possible_maps[i].append(j)\n",
        "\n",
        "sure_map = {}\n",
        "unsure_map = {}\n",
        "for i,j in possible_maps.items():\n",
        "    if (len(set(j)) == 1) and len(j) !=1:\n",
        "        sure_map[i] = j[0]\n",
        "    else:\n",
        "        unsure_map[i] = set(j)\n"
      ],
      "execution_count": 0,
      "outputs": []
    },
    {
      "metadata": {
        "id": "q4iNEsof7VOr",
        "colab_type": "code",
        "colab": {}
      },
      "cell_type": "code",
      "source": [
        "d = train_df.query(\"difficulty == 3\").copy()\n",
        "d[\"trans\"] = d[\"ciphertext\"].apply(\n",
        "    lambda x:''.join([decrypt_map_2.get(k,'?') for k in x])\n",
        ")\n",
        "d[\"trans\"] = d[\"trans\"].apply(\n",
        "    lambda x:''.join([k if k in sure_map else '?' for k in x])\n",
        ")"
      ],
      "execution_count": 0,
      "outputs": []
    },
    {
      "metadata": {
        "id": "fmPotNNW7ZUL",
        "colab_type": "code",
        "colab": {}
      },
      "cell_type": "code",
      "source": [
        "X_train = [''.join([k if k in sure_map else '?' for k in i]) for i in plaintext_data.data]\n",
        "y_train = plaintext_data.target\n",
        "\n",
        "X_test = d[\"trans\"].values\n",
        "y_test = d[\"target\"]"
      ],
      "execution_count": 0,
      "outputs": []
    },
    {
      "metadata": {
        "id": "9-Ux929s7nNy",
        "colab_type": "code",
        "outputId": "6381ceb0-8ded-43d0-fb75-5edf25ff247c",
        "colab": {
          "base_uri": "https://localhost:8080/",
          "height": 153
        }
      },
      "cell_type": "code",
      "source": [
        "clf2 = Pipeline([\n",
        "    ('vectorizer', sktext.CountVectorizer(lowercase=True, ngram_range = (1,2))),\n",
        "    ('tfidf', sktext.TfidfTransformer()),\n",
        "    ('clf', KNeighborsClassifier(n_neighbors = 1))\n",
        "])\n",
        "\n",
        "clf2.fit(X_train, y_train)"
      ],
      "execution_count": 0,
      "outputs": [
        {
          "output_type": "execute_result",
          "data": {
            "text/plain": [
              "Pipeline(memory=None,\n",
              "     steps=[('vectorizer', CountVectorizer(analyzer='word', binary=False, decode_error='strict',\n",
              "        dtype=<class 'numpy.int64'>, encoding='utf-8', input='content',\n",
              "        lowercase=True, max_df=1.0, max_features=None, min_df=1,\n",
              "        ngram_range=(1, 2), preprocessor=None, stop_words=None,\n",
              "       ...ki',\n",
              "           metric_params=None, n_jobs=None, n_neighbors=1, p=2,\n",
              "           weights='uniform'))])"
            ]
          },
          "metadata": {
            "tags": []
          },
          "execution_count": 219
        }
      ]
    },
    {
      "metadata": {
        "id": "BPqVoLMD71fQ",
        "colab_type": "code",
        "colab": {}
      },
      "cell_type": "code",
      "source": [
        "Predictions=clf2.predict(X_test)\n"
      ],
      "execution_count": 0,
      "outputs": []
    },
    {
      "metadata": {
        "id": "16mSg7GM8I3R",
        "colab_type": "code",
        "outputId": "711df70a-b995-4f86-b15c-50e457f8fc6b",
        "colab": {
          "base_uri": "https://localhost:8080/",
          "height": 476
        }
      },
      "cell_type": "code",
      "source": [
        "print(classification_report(y_test, Predictions))"
      ],
      "execution_count": 0,
      "outputs": [
        {
          "output_type": "stream",
          "text": [
            "              precision    recall  f1-score   support\n",
            "\n",
            "           0       0.95      0.95      0.95       394\n",
            "           1       0.94      0.87      0.90       567\n",
            "           2       0.84      0.91      0.87       695\n",
            "           3       0.93      0.93      0.93       386\n",
            "           4       0.90      0.94      0.92       313\n",
            "           5       0.96      0.89      0.92       524\n",
            "           6       0.88      0.94      0.91       293\n",
            "           7       0.92      0.95      0.94       422\n",
            "           8       0.94      0.95      0.95       331\n",
            "           9       0.95      0.94      0.95       460\n",
            "          10       0.94      0.96      0.95       479\n",
            "          11       0.96      0.95      0.96       534\n",
            "          12       0.94      0.95      0.95       338\n",
            "          13       0.97      0.91      0.94       593\n",
            "          14       0.94      0.94      0.94       470\n",
            "          15       0.96      0.98      0.97       513\n",
            "          16       0.96      0.94      0.95       506\n",
            "          17       0.96      0.96      0.96       714\n",
            "          18       0.95      0.95      0.95       553\n",
            "          19       0.94      0.94      0.94       384\n",
            "\n",
            "   micro avg       0.94      0.94      0.94      9469\n",
            "   macro avg       0.94      0.94      0.94      9469\n",
            "weighted avg       0.94      0.94      0.94      9469\n",
            "\n"
          ],
          "name": "stdout"
        }
      ]
    },
    {
      "metadata": {
        "id": "KG5NxtOv8Wyf",
        "colab_type": "code",
        "outputId": "d31ff7d1-45df-4fd6-96f9-ca3aba4bd8db",
        "colab": {
          "base_uri": "https://localhost:8080/",
          "height": 462
        }
      },
      "cell_type": "code",
      "source": [
        "plt.figure(figsize=(20,7))\n",
        "sns.heatmap(metrics.confusion_matrix(y_test, Predictions),annot=True)\n",
        "print(\"Confusion_Matrix for Difficulty == 3\")\n",
        "print(\"=\"*120)"
      ],
      "execution_count": 0,
      "outputs": [
        {
          "output_type": "stream",
          "text": [
            "Confusion_Matrix for Difficulty == 3\n",
            "========================================================================================================================\n"
          ],
          "name": "stdout"
        },
        {
          "output_type": "display_data",
          "data": {
            "image/png": "[encoded data removed]",
            "text/plain": [
              "<matplotlib.figure.Figure at 0x7faf23d79c88>"
            ]
          },
          "metadata": {
            "tags": []
          }
        }
      ]
    },
    {
      "metadata": {
        "id": "FwbbJg_DCzq8",
        "colab_type": "code",
        "colab": {}
      },
      "cell_type": "code",
      "source": [
        "test_df3=test_df[test_df['difficulty']==3]\n",
        "Kaggle_test3 = [''.join([k if k in sure_map else '?' for k in i]) for i in test_df3['ciphertext'].values]\n",
        "predicted=clf.predict(Kaggle_test3)\n",
        "test_df3['Predicted']=predicted"
      ],
      "execution_count": 0,
      "outputs": []
    },
    {
      "metadata": {
        "id": "ZeiTIIVOD9cb",
        "colab_type": "text"
      },
      "cell_type": "markdown",
      "source": [
        "<h1>Mapping level 4 Cipher Text</h1>"
      ]
    },
    {
      "metadata": {
        "id": "GFlN5oOmD37k",
        "colab_type": "code",
        "outputId": "5d9051e9-1b46-4019-9758-317a3d51d1f2",
        "colab": {
          "base_uri": "https://localhost:8080/",
          "height": 119
        }
      },
      "cell_type": "code",
      "source": [
        "diff_4_data = train_df.query(\"difficulty == 4\").copy()\n",
        "diff_4_data[\"trans\"] = diff_4_data[\"ciphertext\"].apply(\n",
        "    lambda x:''.join([decrypt_map_2.get(k,'?') for k in x])\n",
        ")\n",
        "\n",
        "##top starting letters \n",
        "diff_4_data.trans.str[:5].value_counts().head()"
      ],
      "execution_count": 0,
      "outputs": [
        {
          "output_type": "execute_result",
          "data": {
            "text/plain": [
              "         15\n",
              "_____     8\n",
              "o?>g0     7\n",
              "@dUuA     6\n",
              "o>@>g     4\n",
              "Name: trans, dtype: int64"
            ]
          },
          "metadata": {
            "tags": []
          },
          "execution_count": 223
        }
      ]
    },
    {
      "metadata": {
        "id": "k1g5_xhFEqVT",
        "colab_type": "code",
        "colab": {}
      },
      "cell_type": "code",
      "source": [
        "diff_4_data[\"trans2\"] =  diff_4_data[\"ciphertext\"].apply(\n",
        "    lambda x:''.join([k if k in sure_map else '?' for k in x])\n",
        ")"
      ],
      "execution_count": 0,
      "outputs": []
    },
    {
      "metadata": {
        "id": "yphFXpaGEu9Q",
        "colab_type": "code",
        "outputId": "cceae5e9-5f3d-4b8c-bd55-dbe86f69686e",
        "colab": {
          "base_uri": "https://localhost:8080/",
          "height": 289
        }
      },
      "cell_type": "code",
      "source": [
        "diff_4_data.head()"
      ],
      "execution_count": 0,
      "outputs": [
        {
          "output_type": "execute_result",
          "data": {
            "text/html": [
              "<div>\n",
              "<style scoped>\n",
              "    .dataframe tbody tr th:only-of-type {\n",
              "        vertical-align: middle;\n",
              "    }\n",
              "\n",
              "    .dataframe tbody tr th {\n",
              "        vertical-align: top;\n",
              "    }\n",
              "\n",
              "    .dataframe thead th {\n",
              "        text-align: right;\n",
              "    }\n",
              "</style>\n",
              "<table border=\"1\" class=\"dataframe\">\n",
              "  <thead>\n",
              "    <tr style=\"text-align: right;\">\n",
              "      <th></th>\n",
              "      <th>Id</th>\n",
              "      <th>difficulty</th>\n",
              "      <th>ciphertext</th>\n",
              "      <th>target</th>\n",
              "      <th>length</th>\n",
              "      <th>trans</th>\n",
              "      <th>trans2</th>\n",
              "    </tr>\n",
              "  </thead>\n",
              "  <tbody>\n",
              "    <tr>\n",
              "      <th>0</th>\n",
              "      <td>ID_88b9bbd73</td>\n",
              "      <td>4</td>\n",
              "      <td>ob|I\u0006\fK?zzhX*L{83B3Z,\u0006FuL*Pusm$83L\\t@r$$*38,8s...</td>\n",
              "      <td>10</td>\n",
              "      <td>300</td>\n",
              "      <td>z&gt;3$TN?l\\n\\ni\\trEt 4'4\u0002OT/8Er}8Wke 4EJP{eer4 O...</td>\n",
              "      <td>?b|???K???hX????3?3?,?F???P?sm??3???r???3?,?s?...</td>\n",
              "    </tr>\n",
              "    <tr>\n",
              "      <th>6</th>\n",
              "      <td>ID_babaca59c</td>\n",
              "      <td>4</td>\n",
              "      <td>_$Z***b78$8$D$788}i{8$8$\u0003\u00108N$r*8w^{*h\u0010^{h[8q7[...</td>\n",
              "      <td>17</td>\n",
              "      <td>300</td>\n",
              "      <td>je\u0002rrr&gt;h e e?eh  s@t e evn :e{r ?wtrinwti, ?h,...</td>\n",
              "      <td>??????b?????D??????????????N?r??w???h???h??q??...</td>\n",
              "    </tr>\n",
              "    <tr>\n",
              "      <th>8</th>\n",
              "      <td>ID_7796d1d84</td>\n",
              "      <td>4</td>\n",
              "      <td>$$8C8Vp8*gw\u001a8\u00108\u0010Gn7{B*7?8n{*Z\u0010sM*n$8gdm\u0010?${{8\u0010...</td>\n",
              "      <td>17</td>\n",
              "      <td>300</td>\n",
              "      <td>ee 9 a] r#?. n nUHht'rhl Htr\u0002nWLrHe #fknlett n...</td>\n",
              "      <td>???C??p???w?????Gn???????n????s??n????m???????...</td>\n",
              "    </tr>\n",
              "    <tr>\n",
              "      <th>12</th>\n",
              "      <td>ID_4ac1422e9</td>\n",
              "      <td>4</td>\n",
              "      <td>}x[88U7PpUv8}osbO8}}$^$g{$8{4{8?8$zhn8}88NZo.?...</td>\n",
              "      <td>17</td>\n",
              "      <td>300</td>\n",
              "      <td>s-,  ?h}]?y szW&gt;2 ssewe#te tmt l e\\niH s  :\u0002zp...</td>\n",
              "      <td>?x?????Pp?v???sbO???????????4??????hn????N??.?...</td>\n",
              "    </tr>\n",
              "    <tr>\n",
              "      <th>14</th>\n",
              "      <td>ID_424d50294</td>\n",
              "      <td>4</td>\n",
              "      <td>4izi8.{8NCdZ*8cidop887zj\bAq8?{{88mZd{L$*x84$t}...</td>\n",
              "      <td>7</td>\n",
              "      <td>213</td>\n",
              "      <td>m@\\n@ pt :9f\u0002r 0@fz]  h\\nu(I? ltt  k\u0002ftEer- me...</td>\n",
              "      <td>4????.??NC????????p????j?Aq??????m??????x?4?t?...</td>\n",
              "    </tr>\n",
              "  </tbody>\n",
              "</table>\n",
              "</div>"
            ],
            "text/plain": [
              "              Id  difficulty  \\\n",
              "0   ID_88b9bbd73           4   \n",
              "6   ID_babaca59c           4   \n",
              "8   ID_7796d1d84           4   \n",
              "12  ID_4ac1422e9           4   \n",
              "14  ID_424d50294           4   \n",
              "\n",
              "                                           ciphertext  target  length  \\\n",
              "0   ob|I\u0006\n",
              "K?zzhX*L{83B3Z,\u0006FuL*Pusm$83L\\t@r$$*38,8s...      10     300   \n",
              "6   _$Z***b78$8$D$788}i{8$8$\u0003\u00108N$r*8w^{*h\u0010^{h[8q7[...      17     300   \n",
              "8   $$8C8Vp8*gw\u001a8\u00108\u0010Gn7{B*7?8n{*Z\u0010sM*n$8gdm\u0010?${{8\u0010...      17     300   \n",
              "12  }x[88U7PpUv8}osbO8}}$^$g{$8{4{8?8$zhn8}88NZo.?...      17     300   \n",
              "14  4izi8.{8NCdZ*8cidop887zj\bAq8?{{88mZd{L$*x84$t}...       7     213   \n",
              "\n",
              "                                                trans  \\\n",
              "0   z>3$TN?l\\n\\ni\\trEt 4'4\u0002OT/8Er}8Wke 4EJP{eer4 O...   \n",
              "6   je\u0002rrr>h e e?eh  s@t e evn :e{r ?wtrinwti, ?h,...   \n",
              "8   ee 9 a] r#?. n nUHht'rhl Htr\u0002nWLrHe #fknlett n...   \n",
              "12  s-,  ?h}]?y szW>2 ssewe#te tmt l e\\niH s  :\u0002zp...   \n",
              "14  m@\\n@ pt :9f\u0002r 0@fz]  h\\nu(I? ltt  k\u0002ftEer- me...   \n",
              "\n",
              "                                               trans2  \n",
              "0   ?b|???K???hX????3?3?,?F???P?sm??3???r???3?,?s?...  \n",
              "6   ??????b?????D??????????????N?r??w???h???h??q??...  \n",
              "8   ???C??p???w?????Gn???????n????s??n????m???????...  \n",
              "12  ?x?????Pp?v???sbO???????????4??????hn????N??.?...  \n",
              "14  4????.??NC????????p????j?Aq??????m??????x?4?t?...  "
            ]
          },
          "metadata": {
            "tags": []
          },
          "execution_count": 226
        }
      ]
    },
    {
      "metadata": {
        "id": "uQibXsCsFIsF",
        "colab_type": "code",
        "colab": {}
      },
      "cell_type": "code",
      "source": [
        "asciimap4={}\n",
        "for key,val in decrypt_map_2.items():\n",
        "  asciimap4[ord(key)]=ord(val)\n",
        "asciimap4_df=pd.DataFrame()\n",
        "asciimap4_df['decipher']=asciimap4.values()\n",
        "asciimap4_df.index=asciimap4.keys()"
      ],
      "execution_count": 0,
      "outputs": []
    },
    {
      "metadata": {
        "id": "FDYgbxt4Gnc8",
        "colab_type": "code",
        "colab": {}
      },
      "cell_type": "code",
      "source": [
        "def decipher_subst4(textstring):\n",
        "    inarray = string2ascii(textstring)\n",
        "    outarray = np.zeros(len(inarray),dtype=np.int8)\n",
        "    for asciival in asciimap4_df.index:\n",
        "        outarray[inarray==asciival] = asciimap4_df['decipher'].loc[asciival]\n",
        "    return ascii2string(outarray)"
      ],
      "execution_count": 0,
      "outputs": []
    },
    {
      "metadata": {
        "id": "1ntxHDBnIpYh",
        "colab_type": "text"
      },
      "cell_type": "markdown",
      "source": [
        "<h3>Let's Experiment for some best fuzz score</h3>"
      ]
    },
    {
      "metadata": {
        "id": "33vT_WEKGHY_",
        "colab_type": "code",
        "outputId": "00de735a-1f00-45c9-c211-834c7bd6bd60",
        "colab": {
          "base_uri": "https://localhost:8080/",
          "height": 54
        }
      },
      "cell_type": "code",
      "source": [
        "decipher_subst4(train_df[train_df['difficulty']==4]['ciphertext'].iloc[0])"
      ],
      "execution_count": 0,
      "outputs": [
        {
          "output_type": "execute_result",
          "data": {
            "text/plain": [
              "\"z>3$TN\\x00l\\n\\ni\\trEt 4'4\\x02OT/8Er}8Wke 4EJP{eer4 O W'\\x00T\\x00T\\t_M\\x00\\x00e4 TNeC8re3kTHS\\x00}ElT21oRUhg&O\\x00t'_gbSmTnN4uD:O_E _fP\\x00nR>eA\\x00 &C]}u! b\\x00s9$M4r MNeZ4r\\ty4rGeEe{f_Z_ZhTU]4gYnD _'l3PYh\\nuazK4u4\\x00}Zm]_R$\\tfL\\x00l'_'nlrr\\x02- M w]1i!e'\\x00vtt3eDbPav\\x008r'f1kcDO:\\x00\\x00\\x00-et$ n\\x00W\\x00RUT_@ezsm \\x00E\\x002zsM_es{&Ta]_M_Tnlzt@4/'lNH9T1lt\\n !ln8sr1VZ_ln\""
            ]
          },
          "metadata": {
            "tags": []
          },
          "execution_count": 234
        }
      ]
    },
    {
      "metadata": {
        "id": "9Z9FFuMGEfVl",
        "colab_type": "code",
        "outputId": "8539fea8-3da1-4177-9668-49226081c7f2",
        "colab": {
          "base_uri": "https://localhost:8080/",
          "height": 377
        }
      },
      "cell_type": "code",
      "source": [
        "%%time\n",
        "\n",
        "# Go through the plain text from the category and find the matching entry\n",
        "textstring = decipher_subst4(train_df[train_df['difficulty']==4]['ciphertext'].iloc[0])\n",
        "textcategory = train_df[train_df['difficulty']==4]['target'].iloc[0]\n",
        "sourcematch = process.extractOne(textstring, sourcetext_dict, scorer = fuzz.ratio)\n",
        "\n",
        "print('Found a match in source data with \"fuzz.ratio\" score of ' + str(fuzz.ratio(textstring,sourcematch[0])))\n",
        "print('Source data found in category = ' + category_names[chunk_df['target'].iloc[sourcematch[2]]])\n",
        "print('Original deciphering using character frequency:')\n",
        "print('----------------')\n",
        "print(textstring)\n",
        "print(' ')\n",
        "print('Matching text below:')\n",
        "print('----------------')\n",
        "print(sourcematch[0])\n",
        "print(' ')"
      ],
      "execution_count": 0,
      "outputs": [
        {
          "output_type": "stream",
          "text": [
            "Found a match in source data with \"fuzz.ratio\" score of 14\n",
            "Source data found in category = rec.sport.baseball\n",
            "Original deciphering using character frequency:\n",
            "----------------\n",
            "z>3$TN\u0000l\n",
            "\n",
            "i\trEt 4'4\u0002OT/8Er}8Wke 4EJP{eer4 O W'\u0000T\u0000T\t_M\u0000\u0000e4 TNeC8re3kTHS\u0000}ElT21oRUhg&O\u0000t'_gbSmTnN4uD:O_E _fP\u0000nR>eA\u0000 &C]}u! b\u0000s9$M4r MNeZ4r\ty4rGeEe{f_Z_ZhTU]4gYnD _'l3PYh\n",
            "uazK4u4\u0000}Zm]_R$\tfL\u0000l'_'nlrr\u0002- M w]1i!e'\u0000vtt3eDbPav\u00008r'f1kcDO:\u0000\u0000\u0000-et$ n\u0000W\u0000RUT_@ezsm \u0000E\u00002zsM_es{&Ta]_M_Tnlzt@4/'lNH9T1lt\n",
            " !ln8sr1VZ_ln\n",
            " \n",
            "Matching text below:\n",
            "----------------\n",
            "s |\n",
            " |  too cold.  This?  This is Kent.  This is what happens to people when   |\n",
            " |  they get too sexually frustrated.\"                                     |\n",
            " |               -Val Kilmer, \"Real Genius\"                                |\n",
            " ================================================================\n",
            " \n",
            "CPU times: user 20.4 s, sys: 10.5 ms, total: 20.4 s\n",
            "Wall time: 20.4 s\n"
          ],
          "name": "stdout"
        }
      ]
    },
    {
      "metadata": {
        "id": "Q4y1N0afHXlk",
        "colab_type": "code",
        "outputId": "757411bf-23ba-4831-b76d-e7e43fe976b7",
        "colab": {
          "base_uri": "https://localhost:8080/",
          "height": 340
        }
      },
      "cell_type": "code",
      "source": [
        "%%time\n",
        "\n",
        "# Go through the plain text from the category and find the matching entry\n",
        "textstring = decipher_subst4(train_df[train_df['difficulty']==4]['ciphertext'].iloc[200])\n",
        "textcategory = train_df[train_df['difficulty']==4]['target'].iloc[200]\n",
        "sourcematch = process.extractOne(textstring, sourcetext_dict, scorer = fuzz.ratio)\n",
        "\n",
        "print('Found a match in source data with \"fuzz.ratio\" score of ' + str(fuzz.ratio(textstring,sourcematch[0])))\n",
        "print('Source data found in category = ' + category_names[chunk_df['target'].iloc[sourcematch[2]]])\n",
        "print('Original deciphering using character frequency:')\n",
        "print('----------------')\n",
        "print(textstring)\n",
        "print(' ')\n",
        "print('Matching text below:')\n",
        "print('----------------')\n",
        "print(sourcematch[0])\n",
        "print(' ')"
      ],
      "execution_count": 0,
      "outputs": [
        {
          "output_type": "stream",
          "text": [
            "Found a match in source data with \"fuzz.ratio\" score of 30\n",
            "Source data found in category = rec.sport.hockey\n",
            "Original deciphering using character frequency:\n",
            "----------------\n",
            "erhe le&\u0002ek tr2}Ter f $ \u0000 s vtl'r \"\u0000 hM n fH82 e@ W/ r\n",
            "y \u0000 esw\u0000H \u0000. s0e rn\"\u0000A eMIte r ots sss  t  e n1 sn0#l {kn    e$ttubesr A b,  c i{W:v 2t\n",
            "]hs8h ]n9r{ @s]\u0002e  rWoMi/ne> t\u0000 u e been-btt\u0002sm0s   vU r,tnp}ehe t hIqMfu \"ep Ae I &gnut szsen tret\n",
            "rlsErn r raU dIve]Ews\u0000rne\u0002IeA\u0000M\"eut HerqMW z: e & tlss\u0002t\u0000\n",
            " \n",
            "Matching text below:\n",
            "----------------\n",
            "                                ^^^^^^^^\n",
            "                                                       weren't these two\n",
            "                                                       traded for each\n",
            "                                                       other?  Poetic justice.\n",
            "\n",
            " \n",
            "CPU times: user 20.2 s, sys: 3.37 ms, total: 20.2 s\n",
            "Wall time: 20.2 s\n"
          ],
          "name": "stdout"
        }
      ]
    },
    {
      "metadata": {
        "id": "OrVJN-A4RIv5",
        "colab_type": "text"
      },
      "cell_type": "markdown",
      "source": [
        "<h4>This is clearly a translation plus substitition encryption so more work should be done</h4>"
      ]
    },
    {
      "metadata": {
        "id": "utefMbg8IFat",
        "colab_type": "code",
        "outputId": "af654c2f-62a9-453c-a768-f090b060005b",
        "colab": {
          "base_uri": "https://localhost:8080/",
          "height": 343
        }
      },
      "cell_type": "code",
      "source": [
        "%%time\n",
        "\n",
        "# Go through the plain text from the category and find the matching entry\n",
        "textstring = decipher_subst4(train_df[train_df['difficulty']==4]['ciphertext'].iloc[58])\n",
        "textcategory = train_df[train_df['difficulty']==2]['target'].iloc[0]\n",
        "sourcematch = process.extractOne(textstring, sourcetext_dict, scorer = fuzz.ratio)\n",
        "\n",
        "print('Found a match in source data with \"fuzz.ratio\" score of ' + str(fuzz.ratio(textstring,sourcematch[0])))\n",
        "print('Source data found in category = ' + category_names[chunk_df['target'].iloc[sourcematch[2]]])\n",
        "print('Original deciphering using character frequency:')\n",
        "print('----------------')\n",
        "print(textstring)\n",
        "print(' ')\n",
        "print('Matching text below:')\n",
        "print('----------------')\n",
        "print(sourcematch[0])\n",
        "print(' ')"
      ],
      "execution_count": 0,
      "outputs": [
        {
          "output_type": "stream",
          "text": [
            "Found a match in source data with \"fuzz.ratio\" score of 22\n",
            "Source data found in category = sci.med\n",
            "Original deciphering using character frequency:\n",
            "----------------\n",
            "eR:n   Y 4&r r(#siWz=hcA*r #epB.!M\t&\u0000(] be h.tW pte \u0000h@p\n",
            " npe\u0002Refetkt tt&p/$. t\n",
            "ssznyre@harH   e .anUou nHr-e]k.bsetrceTrs.r1 nfstr\u0000er#euen. wRlhpt.eMtyns.e.r) h\u0000r!gE e@e fen2hht8#n\u0000G &s]t?@.):hrecrt*etHm nM(w nu .8 r2wemgel   n f#@ rkZ.}\u0000HPe  2f hf>weuk \n",
            "M{WZ?n.e.\u0002MtessM  @hletks.dts.e nrh n@u ceeM\n",
            " \n",
            "Matching text below:\n",
            "----------------\n",
            "t!                 \n",
            "          \\==@==/\\  ____\\ |     ===============================\n",
            "  Meow!--- \\_-_/  ||     ||            hoss@panix.com\n",
            "\n",
            " \n",
            "CPU times: user 20.3 s, sys: 3.36 ms, total: 20.3 s\n",
            "Wall time: 20.3 s\n"
          ],
          "name": "stdout"
        }
      ]
    },
    {
      "metadata": {
        "id": "Ip8b2L-XMDEC",
        "colab_type": "text"
      },
      "cell_type": "markdown",
      "source": [
        "As the fuzz ratio is too low let's try with knn for  1 nearest neighbour"
      ]
    },
    {
      "metadata": {
        "id": "jKbDhyWDI5MK",
        "colab_type": "code",
        "colab": {}
      },
      "cell_type": "code",
      "source": [
        "predictions=clf.predict(diff_4_data['trans'].values)"
      ],
      "execution_count": 0,
      "outputs": []
    },
    {
      "metadata": {
        "id": "7caxbopJMy1v",
        "colab_type": "code",
        "outputId": "0aed11dd-9e9d-41a3-f81e-d11992f2ef71",
        "colab": {
          "base_uri": "https://localhost:8080/",
          "height": 476
        }
      },
      "cell_type": "code",
      "source": [
        "print(classification_report(diff_4_data['target'], predictions))"
      ],
      "execution_count": 0,
      "outputs": [
        {
          "output_type": "stream",
          "text": [
            "              precision    recall  f1-score   support\n",
            "\n",
            "           0       0.00      0.00      0.00       465\n",
            "           1       0.00      0.00      0.00       366\n",
            "           2       0.00      0.00      0.00       940\n",
            "           3       0.00      0.00      0.00       382\n",
            "           4       0.00      0.00      0.00       326\n",
            "           5       0.00      0.00      0.00       653\n",
            "           6       0.00      0.00      0.00       272\n",
            "           7       0.50      0.00      0.00       437\n",
            "           8       0.00      0.00      0.00       386\n",
            "           9       0.00      0.00      0.00       413\n",
            "          10       0.04      1.00      0.08       437\n",
            "          11       0.00      0.00      0.00       622\n",
            "          12       0.00      0.00      0.00       429\n",
            "          13       0.00      0.00      0.00       599\n",
            "          14       0.00      0.00      0.00       463\n",
            "          15       0.00      0.00      0.00       582\n",
            "          16       0.00      0.00      0.00       589\n",
            "          17       0.00      0.00      0.00       693\n",
            "          18       0.33      0.00      0.00       539\n",
            "          19       0.00      0.00      0.00       377\n",
            "\n",
            "   micro avg       0.04      0.04      0.04      9970\n",
            "   macro avg       0.04      0.05      0.00      9970\n",
            "weighted avg       0.04      0.04      0.00      9970\n",
            "\n"
          ],
          "name": "stdout"
        }
      ]
    },
    {
      "metadata": {
        "id": "ufov9lo3NkMF",
        "colab_type": "code",
        "colab": {}
      },
      "cell_type": "code",
      "source": [
        "X_train, X_test, y_train, y_test=train_test_split(diff_4_data['ciphertext'].values,diff_4_data['target'])"
      ],
      "execution_count": 0,
      "outputs": []
    },
    {
      "metadata": {
        "id": "17AgVx43PGnW",
        "colab_type": "text"
      },
      "cell_type": "markdown",
      "source": [
        "Everything above looks like a trash let's search for alternatives"
      ]
    },
    {
      "metadata": {
        "id": "VhmkctfFNAbO",
        "colab_type": "code",
        "outputId": "d1ef4f13-ba8d-43bc-ab0a-3e4c8e8179e9",
        "colab": {
          "base_uri": "https://localhost:8080/",
          "height": 153
        }
      },
      "cell_type": "code",
      "source": [
        "clf4 = Pipeline([\n",
        "    ('vectorizer', sktext.CountVectorizer(analyzer='char_wb',lowercase=True)),\n",
        "   \n",
        "    ('clf', KNeighborsClassifier(n_neighbors = 1))\n",
        "])\n",
        "\n",
        "clf4.fit(X_train, y_train)"
      ],
      "execution_count": 0,
      "outputs": [
        {
          "output_type": "execute_result",
          "data": {
            "text/plain": [
              "Pipeline(memory=None,\n",
              "     steps=[('vectorizer', CountVectorizer(analyzer='char_wb', binary=False, decode_error='strict',\n",
              "        dtype=<class 'numpy.int64'>, encoding='utf-8', input='content',\n",
              "        lowercase=True, max_df=1.0, max_features=None, min_df=1,\n",
              "        ngram_range=(1, 1), preprocessor=None, stop_words=None,\n",
              "    ...ki',\n",
              "           metric_params=None, n_jobs=None, n_neighbors=1, p=2,\n",
              "           weights='uniform'))])"
            ]
          },
          "metadata": {
            "tags": []
          },
          "execution_count": 278
        }
      ]
    },
    {
      "metadata": {
        "id": "ew4h1f6SOAv4",
        "colab_type": "code",
        "colab": {}
      },
      "cell_type": "code",
      "source": [
        "predictions2=clf4.predict(X_test)"
      ],
      "execution_count": 0,
      "outputs": []
    },
    {
      "metadata": {
        "id": "2PWwIp4NON-G",
        "colab_type": "code",
        "outputId": "28666272-4f2a-482e-8574-e17d07d12b87",
        "colab": {
          "base_uri": "https://localhost:8080/",
          "height": 476
        }
      },
      "cell_type": "code",
      "source": [
        "print(classification_report(y_test, predictions2))"
      ],
      "execution_count": 0,
      "outputs": [
        {
          "output_type": "stream",
          "text": [
            "              precision    recall  f1-score   support\n",
            "\n",
            "           0       0.15      0.12      0.14       121\n",
            "           1       0.07      0.07      0.07        88\n",
            "           2       0.63      0.60      0.61       238\n",
            "           3       0.11      0.07      0.09       113\n",
            "           4       0.10      0.09      0.09        82\n",
            "           5       0.30      0.21      0.25       177\n",
            "           6       0.12      0.09      0.10        66\n",
            "           7       0.08      0.11      0.09       112\n",
            "           8       0.08      0.09      0.08        92\n",
            "           9       0.07      0.08      0.07        91\n",
            "          10       0.20      0.18      0.19        99\n",
            "          11       0.17      0.17      0.17       154\n",
            "          12       0.07      0.10      0.09        88\n",
            "          13       0.11      0.13      0.12       145\n",
            "          14       0.10      0.10      0.10       118\n",
            "          15       0.16      0.18      0.17       146\n",
            "          16       0.18      0.17      0.18       160\n",
            "          17       0.13      0.14      0.14       175\n",
            "          18       0.21      0.18      0.19       145\n",
            "          19       0.09      0.11      0.10        83\n",
            "\n",
            "   micro avg       0.18      0.18      0.18      2493\n",
            "   macro avg       0.16      0.15      0.15      2493\n",
            "weighted avg       0.19      0.18      0.18      2493\n",
            "\n"
          ],
          "name": "stdout"
        }
      ]
    },
    {
      "metadata": {
        "id": "KEDBmvGUXAsv",
        "colab_type": "code",
        "colab": {}
      },
      "cell_type": "code",
      "source": [
        "test_df4=test_df[test_df['difficulty']==4]\n",
        "predicted=clf4.predict(test_df4['ciphertext'].values)"
      ],
      "execution_count": 0,
      "outputs": []
    },
    {
      "metadata": {
        "id": "WjFF6yMGXhih",
        "colab_type": "code",
        "colab": {}
      },
      "cell_type": "code",
      "source": [
        "test_df4['Predicted']=predicted"
      ],
      "execution_count": 0,
      "outputs": []
    },
    {
      "metadata": {
        "id": "8bCmOvyGXyWc",
        "colab_type": "code",
        "colab": {}
      },
      "cell_type": "code",
      "source": [
        "sub_four=test_df4[['Id','Predicted']]"
      ],
      "execution_count": 0,
      "outputs": []
    },
    {
      "metadata": {
        "id": "RMGB9FyQYG5g",
        "colab_type": "code",
        "colab": {}
      },
      "cell_type": "code",
      "source": [
        "finalsub=pd.read_csv('submission5.csv')"
      ],
      "execution_count": 0,
      "outputs": []
    },
    {
      "metadata": {
        "id": "VlcUdTciYiTW",
        "colab_type": "code",
        "colab": {}
      },
      "cell_type": "code",
      "source": [
        "my_dict={}\n",
        "for i in range(len(finalsub)):\n",
        "  my_dict[finalsub.iloc[i]['Id']]=finalsub.iloc[i]['Predicted']\n",
        "\n",
        "  "
      ],
      "execution_count": 0,
      "outputs": []
    },
    {
      "metadata": {
        "id": "hooHZgl3ZO1p",
        "colab_type": "code",
        "colab": {}
      },
      "cell_type": "code",
      "source": [
        "for i in range(len(sub_four)):\n",
        "  my_dict[sub_four.iloc[i]['Id']]=sub_four.iloc[i]['Predicted']\n",
        "  \n"
      ],
      "execution_count": 0,
      "outputs": []
    },
    {
      "metadata": {
        "id": "vI2l5XjKZnWj",
        "colab_type": "code",
        "colab": {}
      },
      "cell_type": "code",
      "source": [
        "submission6=pd.DataFrame()\n",
        "submission6['Id']=my_dict.keys()\n",
        "submission6['Predicted']=my_dict.values()\n",
        "    "
      ],
      "execution_count": 0,
      "outputs": []
    },
    {
      "metadata": {
        "id": "lmR200e3ZuKC",
        "colab_type": "code",
        "colab": {}
      },
      "cell_type": "code",
      "source": [
        "submission6.set_index('Id',inplace=True)"
      ],
      "execution_count": 0,
      "outputs": []
    },
    {
      "metadata": {
        "id": "2L6gKxe9aH5V",
        "colab_type": "code",
        "colab": {}
      },
      "cell_type": "code",
      "source": [
        "submission6.to_csv('submission6.csv')"
      ],
      "execution_count": 0,
      "outputs": []
    },
    {
      "metadata": {
        "id": "cNT9M2PEaYT1",
        "colab_type": "code",
        "outputId": "48539663-9dee-4e6f-9c50-57f806a17d76",
        "colab": {
          "base_uri": "https://localhost:8080/",
          "height": 365
        }
      },
      "cell_type": "code",
      "source": [
        "submission6.Predicted.value_counts().plot(kind='bar')"
      ],
      "execution_count": 0,
      "outputs": [
        {
          "output_type": "execute_result",
          "data": {
            "text/plain": [
              "<matplotlib.axes._subplots.AxesSubplot at 0x7faf0ea0d668>"
            ]
          },
          "metadata": {
            "tags": []
          },
          "execution_count": 299
        },
        {
          "output_type": "display_data",
          "data": {
            "image/png": "[encoded data removed]",
            "text/plain": [
              "<matplotlib.figure.Figure at 0x7faf1a12dc18>"
            ]
          },
          "metadata": {
            "tags": []
          }
        }
      ]
    },
    {
      "metadata": {
        "id": "ELY6CmQ9bm4t",
        "colab_type": "code",
        "outputId": "cae014e8-1355-472d-98a8-0bc923e4fabd",
        "colab": {
          "base_uri": "https://localhost:8080/",
          "height": 365
        }
      },
      "cell_type": "code",
      "source": [
        "finalsub.Predicted.value_counts().plot(kind='bar')"
      ],
      "execution_count": 0,
      "outputs": [
        {
          "output_type": "execute_result",
          "data": {
            "text/plain": [
              "<matplotlib.axes._subplots.AxesSubplot at 0x7faf0e6dbe10>"
            ]
          },
          "metadata": {
            "tags": []
          },
          "execution_count": 300
        },
        {
          "output_type": "display_data",
          "data": {
            "image/png": "[encoded data removed]",
            "text/plain": [
              "<matplotlib.figure.Figure at 0x7faf0e9f2550>"
            ]
          },
          "metadata": {
            "tags": []
          }
        }
      ]
    },
    {
      "metadata": {
        "id": "7fvi40bUbvN6",
        "colab_type": "code",
        "colab": {}
      },
      "cell_type": "code",
      "source": [
        ""
      ],
      "execution_count": 0,
      "outputs": []
    }
  ]
}